{
 "cells": [
  {
   "cell_type": "markdown",
   "id": "26259465",
   "metadata": {},
   "source": [
    "# URL 설정"
   ]
  },
  {
   "cell_type": "markdown",
   "id": "ae5eba20",
   "metadata": {},
   "source": [
    "- urls.py\n",
    "    - 사용자가 장고로 개발한 웹사이트를 방문했을 때 어떤 페이지로 들어가야하는지 알려줌\n",
    "    - 서버(IP/admin 으로 접속하면 admin.site.urls 에 정의된 내용을 찾아 처리하라고 정해져 있기 때문에 127.0.0,1:80000/admin/에 접속하면 관리자페이지로 접근할 수 있음\n",
    "\n",
    "- URL(Uniform Resource Locator)\n",
    "    - 서버로 해당 주소에 할당된 리소스를 요청하는 역할\n",
    "        - 리소스 : 웹브라우저로 보는 HTML과 그 내부를 채우는 데이터 등을 포함하는 개념"
   ]
  },
  {
   "cell_type": "markdown",
   "id": "3153a5b1",
   "metadata": {},
   "source": [
    "## 필요한 페이지\n",
    "\n",
    "- 대문 페이지(127.0.0.1:8000)\n",
    "    - 도메인 또는 서버 IP 주소 뒤에 아무것도 쓰지 않았을 경우, 방문자를 맞이하는 페이지\n",
    "    \n",
    "- 블로그 페이지\n",
    "    - 포스트 목록 페이지\n",
    "        - URL : 도메인/blog/\n",
    "        - 블로그의 여러 포스트를 목록 형태로 보여주는 포스트 목록 페이지\n",
    "        - 방문자가 원하는 포스트를 클릭하면 그 포스트의 전문과 댓글을 보여주는 포스트 상세 페이지도 필요\n",
    "    - 포스트 상세 페이지\n",
    "        - URL : 도메인/blog/포스트의pk/\n",
    "- 자기소개 페이지\n",
    "    - URL : 도메인/about_me/"
   ]
  },
  {
   "cell_type": "markdown",
   "id": "109cd007",
   "metadata": {},
   "source": [
    "# views 작성"
   ]
  },
  {
   "cell_type": "markdown",
   "id": "f6df9252",
   "metadata": {},
   "source": [
    "- urls.py에 들어갈 함수나 클래스 등은 views.py에서 정의\n",
    "- 템플릿과 모델 사이를 이어주는 다리 역할\n",
    "- 모델을 통해 데이터에 접근하여 템플릿으로부터 요청 받은 데이터를 뽑아와서 템플릿에게 답변으로 보내줌\n",
    "    - 프론트에서 백에게 데이터를 요청할 때 백엔드에서 데이터를 뽑아서 프론트엔드에게 제공해주는 과정을 뷰가 처리\n",
    "- view.py를 작성하는 방법은 2가지가 있음 \n",
    "    - FBV(Function Based View)\n",
    "        - 함수에 기반을 둔 방법\n",
    "        - 함수를 직접 만들어서 원하는 기능을 직접 구현\n",
    "    - CBV(Class based view)\n",
    "        - 장고가 제공하는 클래스를 활용해 구현하는 방법\n",
    "- FBV와 CBV 중 어느 것이 더 낫다고 단정지을 수는 없고 필요에 따라, 취향에 따라 선택하면 됨"
   ]
  },
  {
   "cell_type": "markdown",
   "id": "b3a599a6",
   "metadata": {},
   "source": [
    "# Django template"
   ]
  },
  {
   "cell_type": "markdown",
   "id": "26f311b0",
   "metadata": {},
   "source": [
    "- 사용자에게 보이는 웹페이지의 골격\n",
    "    - HTML로 작성된 부분\n",
    "- 프론트 개발 영역에 포함되는 부분\n",
    "\n",
    "- Django Template의 특징\n",
    "    - 일반적인 HTML 작성과 거의 동일하지만 한가지 차이점은 템플릿 태그(Template Tag)\n",
    "        - HTML이 파이썬 코드로부터 데이터를 바로 넘겨받아서 손쉽게 처리할 수 있는 도구\n",
    "    - HTML은 그저 마크업 언어이기 때문에 정적인 웹페이지를 보여주기만 하는데 무언가 데이터를 넘겨받아서 웹페이지에 보여주기 위해서는 자바스크립트와 같은 도구가 필요\n",
    "        - Django에서는 템플릿 태그가 있기 대문에 파이썬에서 데이터를 받아서 표현할 수 있음\n",
    "        - for나 if와 같은 파이썬의 기본적인 구문도 사용할 수 있음"
   ]
  }
 ],
 "metadata": {
  "kernelspec": {
   "display_name": "Python 3 (ipykernel)",
   "language": "python",
   "name": "python3"
  },
  "language_info": {
   "codemirror_mode": {
    "name": "ipython",
    "version": 3
   },
   "file_extension": ".py",
   "mimetype": "text/x-python",
   "name": "python",
   "nbconvert_exporter": "python",
   "pygments_lexer": "ipython3",
   "version": "3.10.9"
  }
 },
 "nbformat": 4,
 "nbformat_minor": 5
}
