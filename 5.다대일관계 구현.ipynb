{
 "cells": [
  {
   "cell_type": "markdown",
   "id": "968450d6",
   "metadata": {},
   "source": [
    "# 다대일 관계 구현"
   ]
  },
  {
   "cell_type": "markdown",
   "id": "618fbb79",
   "metadata": {},
   "source": [
    "- 여러개의 모델이 하나의 모델에 연결되는 관계\n",
    "    - 블로그의 사용자는 각각 여러개의 포스트를 작성할 수 있음\n",
    "    - 각 포스트는 작성자 정보를 담을 수 있는 필드에 한 명의 사용자 정보만 담을 수 있음\n",
    "        - 즉, 포스트와 작성자의 관계는 다대일 관계\n",
    "    - 카테고리 정보를 추가하는 경우도 마찬가지\n",
    "    - 하나의 카테고리에는 여러개의 포스트가 포함될 수 있음\n",
    "    - 반면 하나의 포스트는 하나의 카테고리만 지정 가능\n",
    "        - 이런 경우 다대일 관계가 성립"
   ]
  },
  {
   "cell_type": "markdown",
   "id": "3139471b",
   "metadata": {},
   "source": [
    "- Post 모델 author 필드에 담을 내용\n",
    "    - 사용자명을 문자열로 저장\n",
    "    - 사용자가 사용자명을 바꾼다면 이전에 작성한 글의 작성자명도 함께 바뀌어야함\n",
    "    - 탈퇴하거나 글을 삭제하면 작성자명을 \"unknown\"으로 표시하는 기능 필요"
   ]
  },
  {
   "cell_type": "markdown",
   "id": "2b12dd80",
   "metadata": {},
   "source": [
    "## ForeignKey로 author 필드 구현"
   ]
  },
  {
   "cell_type": "markdown",
   "id": "f826b55d",
   "metadata": {},
   "source": [
    "- User 모델 사용\n",
    "    - User는 장고에서 기본적으로 제공하는 모델"
   ]
  },
  {
   "cell_type": "markdown",
   "id": "808081b5",
   "metadata": {},
   "source": [
    "# 카테고리 기능 구현"
   ]
  },
  {
   "cell_type": "markdown",
   "id": "a98d1d72",
   "metadata": {},
   "source": [
    "- 블로그 포스트 내용에 따라 카테고리를 구분해서 방문자가 원하는 분야의 글만 익을 수 있도록 카테고리 기능 추가\n",
    "- 카테고리 페이지 구상\n",
    "    - 페이지 오른쪽에 있는 Categories 카드에 블로그의 카테고리가 모두 표시\n",
    "    - 포스트 목록 페이지와 포스트 상세 페이지에 모두 나타나야함\n",
    "    - 이 중 하나를 클릭하면 해당 카테고리 페이지로 이동\n",
    "    - 카테고리 페이지에는 해당 카테고리에 들어있는 포스트가 모두 나열\n",
    "    - 각 포스트는 하나의 카테고리만 지정 가능\n",
    "        - 포스트는 하나의 카테고리만 지정 가능하고 카테고리는 여러 개의 포스트가 포함될 수 있으므로 포스트와 카테고리는 포스트와 작성자처럼 **다대일 관계**\n",
    "        - ForeignKey로 구현 가능"
   ]
  },
  {
   "cell_type": "markdown",
   "id": "cd2c8881",
   "metadata": {},
   "source": [
    "## Category 모델 개발"
   ]
  },
  {
   "cell_type": "markdown",
   "id": "0c98b107",
   "metadata": {},
   "source": [
    "- name\n",
    "    - 각 카테고리의 이름을 담는 필드\n",
    "    - unique=True : 동일한 name을 갖는 카테고리를 또 만들 수 없음\n",
    "- slug\n",
    "    - SlugField : 사람이 읽을 수 있는 텍스트로 고유 URL을 만들고 싶을 때 사용\n",
    "    - Post모델처럼 pk를 활용해 URL을 만들 수도 있지만, 카테고리는 포스트만큼 개수가 많지 않을 것이기 때문에 사람이 읽고 그 뜻을 알 수 있게 고유 URL을 사용\n",
    "    - 길이는 최대 200으로 제한하고, unique=True를 사용해 서로 다른 카테고리가 동일한 slug를 가질 수 없도록 설정\n",
    "    - 기본적으로 SlugField는 한글을 지원하지 않지만 allow_unicode=True로 설정해 한글로도 만들 수 있게 함"
   ]
  },
  {
   "cell_type": "markdown",
   "id": "5e7082de",
   "metadata": {},
   "source": [
    "## admin.py에 Category 모델 등록"
   ]
  },
  {
   "cell_type": "markdown",
   "id": "35c49334",
   "metadata": {},
   "source": [
    "- blog/admin.py에서 Category 모델을 임포트\n",
    "- CategoryAdmin 클래스 추가 후 name 필드에 값이 입력됐을 때 자동으로 slug가 만들어지도록 설정"
   ]
  },
  {
   "cell_type": "code",
   "execution_count": null,
   "id": "b991fe1a",
   "metadata": {},
   "outputs": [],
   "source": []
  },
  {
   "cell_type": "code",
   "execution_count": null,
   "id": "e9b4f36d",
   "metadata": {},
   "outputs": [],
   "source": []
  },
  {
   "cell_type": "code",
   "execution_count": null,
   "id": "a077b7af",
   "metadata": {},
   "outputs": [],
   "source": []
  },
  {
   "cell_type": "code",
   "execution_count": null,
   "id": "081560d3",
   "metadata": {},
   "outputs": [],
   "source": []
  },
  {
   "cell_type": "code",
   "execution_count": null,
   "id": "a8e3c135",
   "metadata": {},
   "outputs": [],
   "source": []
  },
  {
   "cell_type": "code",
   "execution_count": null,
   "id": "32ad3f84",
   "metadata": {},
   "outputs": [],
   "source": []
  },
  {
   "cell_type": "code",
   "execution_count": null,
   "id": "5b2c4b3e",
   "metadata": {},
   "outputs": [],
   "source": []
  },
  {
   "cell_type": "code",
   "execution_count": null,
   "id": "cedc2389",
   "metadata": {},
   "outputs": [],
   "source": []
  },
  {
   "cell_type": "code",
   "execution_count": null,
   "id": "26a6cde7",
   "metadata": {},
   "outputs": [],
   "source": []
  },
  {
   "cell_type": "code",
   "execution_count": null,
   "id": "88070503",
   "metadata": {},
   "outputs": [],
   "source": []
  },
  {
   "cell_type": "code",
   "execution_count": null,
   "id": "88d69508",
   "metadata": {},
   "outputs": [],
   "source": []
  },
  {
   "cell_type": "code",
   "execution_count": null,
   "id": "22503484",
   "metadata": {},
   "outputs": [],
   "source": []
  }
 ],
 "metadata": {
  "kernelspec": {
   "display_name": "Python 3 (ipykernel)",
   "language": "python",
   "name": "python3"
  },
  "language_info": {
   "codemirror_mode": {
    "name": "ipython",
    "version": 3
   },
   "file_extension": ".py",
   "mimetype": "text/x-python",
   "name": "python",
   "nbconvert_exporter": "python",
   "pygments_lexer": "ipython3",
   "version": "3.10.9"
  }
 },
 "nbformat": 4,
 "nbformat_minor": 5
}
