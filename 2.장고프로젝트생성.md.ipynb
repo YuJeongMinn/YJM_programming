{
 "cells": [
  {
   "cell_type": "markdown",
   "id": "0dee0bb4",
   "metadata": {},
   "source": [
    "# Django 프로젝트 구조"
   ]
  },
  {
   "cell_type": "markdown",
   "id": "009e4bb7",
   "metadata": {},
   "source": [
    "## Django 프로젝트와 앱"
   ]
  },
  {
   "cell_type": "markdown",
   "id": "6a52e78f",
   "metadata": {},
   "source": [
    "- 프로젝트(Project)\n",
    "    - 어떤 하나의 큰 서비스(우리가 만들고 있는 하나의 웹 사이트)\n",
    "    \n",
    "- 앱(App)\n",
    "    - 프로젝트 내 기능과 같은 요소들을 일정한 기준으로 나눠 놓은 단위\n",
    "    - 예) 페이스북과 같은 sns를 만든다고 하면 페이스북은 프로젝트가 되고 이 프로젝트는 몇 가지 그룹으로 나뉠 수 있음\n",
    "        - 회원 관련 내용\n",
    "        - 가입/로그인/친구 맺기 피드 관련 내용\n",
    "        - 글쓰기/삭제하기/수정하기/공유하기\n",
    "    - 위 예시에서 회원앱/피드앱/메신저앱으로 나눠놓는다면 어떤 기능 관련 코드를 찾을 때 어느 그룹으로 가야하는지 알 수 있고 여럿이 협업해서 개발한다면 역할 분담이 쉬워짐\n",
    "    - 무엇을 기준으로 나누냐에 따라 프로젝트 구조가 달라지고 개발 난이도에 영향을 줄 수 있음"
   ]
  },
  {
   "cell_type": "markdown",
   "id": "aa932923",
   "metadata": {},
   "source": [
    "## 장고 프로젝트 생성"
   ]
  },
  {
   "cell_type": "markdown",
   "id": "a96954c2",
   "metadata": {},
   "source": [
    "```python\n",
    "django-admin startproject 프로젝트이름 .\n",
    "```"
   ]
  },
  {
   "cell_type": "markdown",
   "id": "ccc8e89d",
   "metadata": {},
   "source": [
    "- 장고 프로젝트를 생성하는 명령어\n",
    "- 맨 마지막의 닷(.)은 \"이 폴더에 프로젝트를 만든다\"라는 의미\n",
    "- 잘 실행되었다면 django_prj 폴더와 manage.py 파일이 생성됨"
   ]
  },
  {
   "cell_type": "markdown",
   "id": "977a148d",
   "metadata": {},
   "source": [
    "## 장고 프로젝트 구성요소"
   ]
  },
  {
   "cell_type": "markdown",
   "id": "95a0b990",
   "metadata": {},
   "source": [
    "- manage.py\n",
    "    - Django와 관련된 명령어를 써야할 때 사용하는 파일\n",
    "    - 사용자가 입력하는 명령어를 처리하는 파일\n",
    "    \n",
    "- 프로젝트 폴더\n",
    "    - startproject로 만들어진 폴더로, 총 5개의 .py 파일이 존재\n",
    "    - 주로 사용하게 될 파일은 settings.py와 urls.py"
   ]
  },
  {
   "cell_type": "markdown",
   "id": "f1300290",
   "metadata": {},
   "source": [
    "##  settings.py"
   ]
  },
  {
   "cell_type": "markdown",
   "id": "a3ffe98a",
   "metadata": {},
   "source": [
    "- 프로젝트의 설정 파일\n",
    "- DEBUG\n",
    "    - 디버깅 모드에 대한 옵션\n",
    "    - 디버깅 모드에서는 웹 결과물에서 어떤 페이지나 기능에서 에러가 났을 때 그 에러에 대한 메시지가 웹 페이지에 그대로 노출됨\n",
    "        - 개발할 때는 보면서 에러를 고치면 되지만, 실제로 배포를 할 때 사용자들이 보기엔 당황스러울 수 있음\n",
    "        - 또는 해커들이 프로젝트의 구조를 파악해 공격의 실마리를 찾을 가능성도 있음\n",
    "        - 따라서 배포할 때에는 디버깅 모드를 꺼야함"
   ]
  },
  {
   "cell_type": "markdown",
   "id": "4e50f4d9",
   "metadata": {},
   "source": [
    "- ALLOWED_HOSTS\n",
    "    - 허용할 호스트 주소에 대한 내용\n",
    "    - 호스트 주소 : Django 프로젝트가 돌아가는 환경에 접속할 수 있는 주소\n",
    "        - 현재는 http:\\/\\/127.0.0.1:8000에서 실행되어 127.0.0.1이 호스트 주소가 됨\n",
    "        - 로컬 주소는 기본값이기 때문에 따로 선언하지 않아도 되지만 만약에 선언하고 싶다면[\"127.0.0.1\"]의 형식으로 입력하면 됨\n",
    "        - 실제로 프로젝트를 배포할 때에는 서버의 호스트 주소를 입력해야 외부에서 프로젝트로 접속할 수 있음"
   ]
  },
  {
   "cell_type": "markdown",
   "id": "edd88033",
   "metadata": {},
   "source": [
    "- INSTALLED APPS\n",
    "    - 설치된 앱들을 등록하는 옵션\n",
    "    - Django 프로젝트에서 사용할, 만든 앱들을 선언해주어야 등록이 되어 프로젝트에서 정상적으로 적용됨"
   ]
  },
  {
   "cell_type": "markdown",
   "id": "0746865d",
   "metadata": {},
   "source": [
    "## urls.py\n",
    "\n",
    "- 프로젝트의 url주소를 등록해두는 파일\n",
    "- path()를 통해 원하는 주소를 등록할 수 있음\n",
    "    - 예) path(\"admin/\", admin.site.urls)\n",
    "    - 위의 경우에는 127.0.0.1:8000/admin/이라는 주소가 선언된 것"
   ]
  },
  {
   "cell_type": "markdown",
   "id": "21087d0e",
   "metadata": {},
   "source": [
    "# 데이터베이스에 관리자 계정 생성"
   ]
  },
  {
   "cell_type": "markdown",
   "id": "44686e90",
   "metadata": {},
   "source": [
    "- 마이그레이션(migration)\n",
    "    - 데이터베이스에 적용시켜야 하는 변화에 대한 기록\n",
    "        - 예) 댓글 기능이 없던 블로그에 댓글 작성 기능을 추가한다면\n",
    "        - 댓글을 저장하기 위한 공간(테이블)이 필요함\n",
    "    - 아직 아무 기능도 없는데 마이그레이션이 필요한 이유는 장고에서 새 프로젝트를 생성할 때 데이터베이스에 기본적으로 필요한 테이블을 미리 마련해두기 때문\n",
    "    - 명령어\n",
    "        - python manage.py makemaigrations : 마이그레이션 생성\n",
    "        - python manage.py migrate : 마이그레이션 적용"
   ]
  },
  {
   "cell_type": "markdown",
   "id": "dcc5985d",
   "metadata": {},
   "source": [
    "- 관리자 계정(super user)\n",
    "    -  생성 명령어\n",
    "        - python manage.py createsuperuser"
   ]
  },
  {
   "cell_type": "markdown",
   "id": "a4c25fb9",
   "metadata": {},
   "source": [
    "# 앱 생성\n",
    "\n",
    "- 모든 장고 프로젝트는 1개 이상의 앱으로 구성됨\n",
    "    - 앱은 특정한 기능을 수행하는 단위 모듈\n",
    "        - 예) 블로그, 갤러리, 방명록의 기능을 갖는 웹사이트를 만든다면 3개의 앱을 만들어 개발 및 관리\n",
    "    - 앱의 개수는 상황에 따라 개발자가 선택\n",
    "- 앱 생성 명령어\n",
    "    - python manage.py startapp 앱이름\n",
    "    - 현재 위치에 앱 폴더가 생성됨"
   ]
  },
  {
   "cell_type": "markdown",
   "id": "f09f521e",
   "metadata": {},
   "source": [
    "# MTV 패턴"
   ]
  },
  {
   "cell_type": "markdown",
   "id": "577fa1bd",
   "metadata": {},
   "source": [
    "- Django에서는 MTV 패턴으로 개발을 진행\n",
    "    - 어떠한 패턴으로 개발을 진행한다는 것은 작업에 어느정도 정해진 규칙과 방식이 있고, 그 방식을 따라가며 중간중간 방식이 요구하는 내용을 채워 넣으면서 개발을 진행한다는 개념\n",
    "    - 개발패턴에는 여러종류가 있음\n",
    "        - 코드들이 각자 자기가 맡은 역할만을 온전히 수행하고, 서로 독립된 형태로 동작하는 구조로 프로젝트를 만들면 이후 프로젝트를 유지보수하게 되더라도 전체적인 흐름을 파악하기 쉬움"
   ]
  },
  {
   "cell_type": "markdown",
   "id": "4565b334",
   "metadata": {},
   "source": [
    "- MTV 패턴\n",
    "    - Model(모델)\n",
    "        - 앱의 데이터와 관련된 부분\n",
    "        \n",
    "    - Template(템플릿)\n",
    "        - 사용자에게 보이는 부분\n",
    "        \n",
    "    - View(뷰)\n",
    "        - 그 사이에서 Model의 데이터를 Template으로 전달하고 Template에서 발생하는 이벤트를 처리하는 부분"
   ]
  },
  {
   "cell_type": "markdown",
   "id": "3916ca72",
   "metadata": {},
   "source": [
    "<img src = \"./img/mtv.png\">"
   ]
  },
  {
   "cell_type": "markdown",
   "id": "a4cc471b",
   "metadata": {},
   "source": [
    "1. 유저가 특정 url로 요청을 보냄\n",
    "2. 해당 url과 매핑된 뷰를 호출\n",
    "3. 호출된 뷰는 요청에 따라 적절한 로직을 수행하며 그 과정에서 모델에게 CRUD(Create, Read, Update, Delete)를 지시\n",
    "4. 모델은 DB와 소통하며 CRUD를 수행\n",
    "5. 뷰는 지정된 템플릿을 렌더링하고\n",
    "6. 최종 결과를 응답으로 반환"
   ]
  },
  {
   "cell_type": "markdown",
   "id": "bea59763",
   "metadata": {},
   "source": [
    "# 모델 생성"
   ]
  },
  {
   "cell_type": "markdown",
   "id": "b75328b7",
   "metadata": {},
   "source": [
    "- 모델은 앱의 데이터와 관련된 부분을 다루는 영역\n",
    "- 데이터베이스에 저장될 데이터의 모양을 정의하고 관련된 일부 기능을 설정해주는 영역\n",
    "    - 예) 사용자\n",
    "        - 아이디\n",
    "        - 이름\n",
    "        - 비밀번호\n",
    "        - 이메일\n",
    "        - 나이\n",
    "        - 성별\n",
    "- 위처럼 데이터의 특징들을 뽑아 이를 구성요소로 하는 것을 모델링이라고 함\n",
    "- 개체를 모델링한 결과물은 모델\n",
    "    - 위 예시의 사용자는 모델이고 그 내부에 있는 아이디, 이름 등은 모델의 구성요소 혹은 속성\n",
    "- 모델은 데이터베이스의 테이블과 같은 구조임\n",
    "    - 모델 형태의 데이터들을 데이터베이스에 적용시키면 데이터베이스 테이블이 됨\n",
    "- 모델을 데이터베이스에 적용시키는 과정을 마이그레이션(Migration)이라고 함"
   ]
  },
  {
   "cell_type": "markdown",
   "id": "749e4c83",
   "metadata": {},
   "source": [
    "## Django의 필드 종류"
   ]
  },
  {
   "cell_type": "markdown",
   "id": "c664742a",
   "metadata": {},
   "source": [
    "- CharField : 문자열(길이제한 필요)\n",
    "- Integer : 정수\n",
    "- TextField : 문자열(길이제한 필요 없음)\n",
    "- DateField : 날짜\n",
    "- DateTimeField : 날짜 + 시간\n",
    "- FileField : 파일\n",
    "- ImageField : 이미지 파일"
   ]
  },
  {
   "cell_type": "code",
   "execution_count": null,
   "id": "b5ae7aee",
   "metadata": {},
   "outputs": [],
   "source": []
  }
 ],
 "metadata": {
  "kernelspec": {
   "display_name": "Python 3 (ipykernel)",
   "language": "python",
   "name": "python3"
  },
  "language_info": {
   "codemirror_mode": {
    "name": "ipython",
    "version": 3
   },
   "file_extension": ".py",
   "mimetype": "text/x-python",
   "name": "python",
   "nbconvert_exporter": "python",
   "pygments_lexer": "ipython3",
   "version": "3.10.9"
  }
 },
 "nbformat": 4,
 "nbformat_minor": 5
}
