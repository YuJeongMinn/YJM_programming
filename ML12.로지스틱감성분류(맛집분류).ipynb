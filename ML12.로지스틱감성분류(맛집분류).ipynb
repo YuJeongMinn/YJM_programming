{
 "cells": [
  {
   "cell_type": "markdown",
   "id": "2a787e42",
   "metadata": {},
   "source": [
    "# 감성 분석\n",
    "\n",
    "- 분류 모델의 가장 대표적인 활용 방법 중 하나\n",
    "- 텍스트 데이터를 긍정 또는 부정으로 나누어 분류하는 것"
   ]
  },
  {
   "cell_type": "code",
   "execution_count": 1,
   "id": "170065c4",
   "metadata": {},
   "outputs": [],
   "source": [
    "import pandas as pd\n",
    "import numpy as np\n",
    "import matplotlib.pyplot as plt\n",
    "import seaborn as sns\n",
    "from selenium import webdriver\n",
    "from bs4 import BeautifulSoup\n",
    "import re\n",
    "import time\n",
    "from selenium.webdriver.common.by import By\n",
    "from selenium.webdriver.common.keys import Keys\n",
    "import requests\n",
    "from sklearn.feature_extraction.text import TfidfVectorizer\n",
    "from sklearn.model_selection import train_test_split\n",
    "from sklearn.linear_model import LogisticRegression\n",
    "from sklearn.metrics import accuracy_score, f1_score, confusion_matrix\n",
    "import sys\n",
    "sys.version\n",
    "from konlpy.tag import Okt"
   ]
  },
  {
   "cell_type": "code",
   "execution_count": 2,
   "id": "513e57d2",
   "metadata": {},
   "outputs": [],
   "source": [
    "okt = Okt()"
   ]
  },
  {
   "cell_type": "markdown",
   "id": "66d65010",
   "metadata": {},
   "source": [
    "# 맛집 상세페이지 url 정보 크롤링"
   ]
  },
  {
   "cell_type": "code",
   "execution_count": 3,
   "id": "b27ee359",
   "metadata": {},
   "outputs": [],
   "source": [
    "# 크롤링할 주소\n",
    "url = \"https://map.kakao.com/\""
   ]
  },
  {
   "cell_type": "code",
   "execution_count": 4,
   "id": "7bc9cd91",
   "metadata": {},
   "outputs": [],
   "source": [
    "driver = webdriver.Chrome(service = webdriver.ChromeService(\"chromedriver.exe\")) # service는 chromedriver.exe의 위치를 나타냄\n",
    "\n",
    "# 카카오지도 접속\n",
    "driver.get(url)\n",
    "\n",
    "# 검색창에 검색어 입력\n",
    "searchbox = driver.find_element(By.CSS_SELECTOR, \"input.query\")\n",
    "searchbox.send_keys(\"신촌 맛집\")\n",
    "\n",
    "# 엔터 눌러서 결과 받아오기\n",
    "searchbox.send_keys(Keys.ENTER)\n",
    "\n",
    "# 검색 결과를 가져올 시간 대기\n",
    "time.sleep(1)\n",
    "\n",
    "# html 정보 파싱\n",
    "soup = BeautifulSoup(driver.page_source, \"lxml\")\n",
    "moreviews = soup.select(\"a.moreview\")\n",
    "\n",
    "# 크롤링할 페이지 리스트 생성\n",
    "page_urls = [i.get(\"href\") for i in moreviews] #################################\n",
    "driver.close()"
   ]
  },
  {
   "cell_type": "code",
   "execution_count": 5,
   "id": "c895f3db",
   "metadata": {},
   "outputs": [
    {
     "data": {
      "text/plain": [
       "['https://place.map.kakao.com/1165755646',\n",
       " 'https://place.map.kakao.com/15937430',\n",
       " 'https://place.map.kakao.com/27144649',\n",
       " 'https://place.map.kakao.com/26976526',\n",
       " 'https://place.map.kakao.com/17505297',\n",
       " 'https://place.map.kakao.com/21395214',\n",
       " 'https://place.map.kakao.com/1011256721',\n",
       " 'https://place.map.kakao.com/26522526',\n",
       " 'https://place.map.kakao.com/1705674698',\n",
       " 'https://place.map.kakao.com/7892863',\n",
       " 'https://place.map.kakao.com/10621045',\n",
       " 'https://place.map.kakao.com/18826661',\n",
       " 'https://place.map.kakao.com/15847929',\n",
       " 'https://place.map.kakao.com/1025832828',\n",
       " 'https://place.map.kakao.com/1227036908']"
      ]
     },
     "execution_count": 5,
     "metadata": {},
     "output_type": "execute_result"
    }
   ],
   "source": [
    "page_urls"
   ]
  },
  {
   "cell_type": "markdown",
   "id": "6eebfba6",
   "metadata": {},
   "source": [
    "# 상세 페이지에서 리뷰 크롤링"
   ]
  },
  {
   "cell_type": "code",
   "execution_count": 6,
   "id": "6ae26459",
   "metadata": {},
   "outputs": [],
   "source": [
    "res = requests.get(\"https://place.map.kakao.com/main/v/1165755646\")"
   ]
  },
  {
   "cell_type": "code",
   "execution_count": 7,
   "id": "eb75efb1",
   "metadata": {},
   "outputs": [],
   "source": [
    "data = res.json()"
   ]
  },
  {
   "cell_type": "code",
   "execution_count": 8,
   "id": "76b6e1aa",
   "metadata": {},
   "outputs": [
    {
     "data": {
      "text/plain": [
       "dict_keys(['isMapUser', 'isExist', 'basicInfo', 's2graph', 'blogReview', 'comment', 'findway', 'placeOwnerInfos', 'menuInfo', 'photo'])"
      ]
     },
     "execution_count": 8,
     "metadata": {},
     "output_type": "execute_result"
    }
   ],
   "source": [
    "data.keys()"
   ]
  },
  {
   "cell_type": "code",
   "execution_count": 9,
   "id": "14dd476b",
   "metadata": {},
   "outputs": [
    {
     "data": {
      "text/plain": [
       "5"
      ]
     },
     "execution_count": 9,
     "metadata": {},
     "output_type": "execute_result"
    }
   ],
   "source": [
    "# 별점\n",
    "data[\"comment\"][\"list\"][1][\"point\"]"
   ]
  },
  {
   "cell_type": "code",
   "execution_count": 10,
   "id": "4564e297",
   "metadata": {},
   "outputs": [
    {
     "data": {
      "text/plain": [
       "'마늘빵 안 좋아하는데 여기 진짜 마싯네요.. ㅠ\\n카푸치노 빵피도 식감이 귀엽고 부담없이 술술 들어가는 맛.ᐟ 친절하시구 좋아요 또 사러 갈게요 ㅎ'"
      ]
     },
     "execution_count": 10,
     "metadata": {},
     "output_type": "execute_result"
    }
   ],
   "source": [
    "# 후기\n",
    "data[\"comment\"][\"list\"][1][\"contents\"]"
   ]
  },
  {
   "cell_type": "code",
   "execution_count": 11,
   "id": "611fd4ef",
   "metadata": {},
   "outputs": [
    {
     "data": {
      "text/plain": [
       "3"
      ]
     },
     "execution_count": 11,
     "metadata": {},
     "output_type": "execute_result"
    }
   ],
   "source": [
    "len(data[\"comment\"][\"list\"])"
   ]
  },
  {
   "cell_type": "code",
   "execution_count": 12,
   "id": "fb894ec2",
   "metadata": {},
   "outputs": [
    {
     "data": {
      "text/plain": [
       "'8684991'"
      ]
     },
     "execution_count": 12,
     "metadata": {},
     "output_type": "execute_result"
    }
   ],
   "source": [
    "data[\"comment\"][\"list\"][-1][\"commentid\"]"
   ]
  },
  {
   "cell_type": "code",
   "execution_count": 13,
   "id": "5dc09ec1",
   "metadata": {},
   "outputs": [],
   "source": [
    "stars = []\n",
    "reviews = []\n",
    "\n",
    "# 댓글 정보 url\n",
    "base_url = \"https://place.map.kakao.com/commentlist/v/\"\n",
    "\n",
    "# 위에서 수집한 15개 가게에 대해서 수집\n",
    "for url in page_urls:\n",
    "    last_id = \"\"\n",
    "    \n",
    "    # 5번 더보기 수행\n",
    "    for _ in range(5):\n",
    "        res = requests.get(base_url + url[28:] +\"/\" + last_id)\n",
    "        data = res.json()\n",
    "        \n",
    "        if \"comment\" not in data: #############################################\n",
    "            continue\n",
    "            \n",
    "        # 별점, 리뷰 수집\n",
    "        for review in data[\"comment\"][\"list\"]:\n",
    "            stars.append(review[\"point\"])\n",
    "            reviews.append(review[\"contents\"])\n",
    "            \n",
    "        # 더보기 시에 사용할 마지막 id\n",
    "        last_id = review[\"commentid\"]\n",
    "        time.sleep(1)"
   ]
  },
  {
   "cell_type": "code",
   "execution_count": 14,
   "id": "8c03f696",
   "metadata": {},
   "outputs": [
    {
     "data": {
      "text/plain": [
       "350"
      ]
     },
     "execution_count": 14,
     "metadata": {},
     "output_type": "execute_result"
    }
   ],
   "source": [
    "len(reviews)"
   ]
  },
  {
   "cell_type": "code",
   "execution_count": 15,
   "id": "9e549300",
   "metadata": {},
   "outputs": [
    {
     "data": {
      "text/plain": [
       "350"
      ]
     },
     "execution_count": 15,
     "metadata": {},
     "output_type": "execute_result"
    }
   ],
   "source": [
    "len(stars)"
   ]
  },
  {
   "cell_type": "code",
   "execution_count": 16,
   "id": "afb5ffae",
   "metadata": {},
   "outputs": [],
   "source": [
    "df = pd.DataFrame({\"score\" : stars, \"review\" : reviews})"
   ]
  },
  {
   "cell_type": "code",
   "execution_count": 17,
   "id": "90912089",
   "metadata": {},
   "outputs": [
    {
     "data": {
      "text/html": [
       "<div>\n",
       "<style scoped>\n",
       "    .dataframe tbody tr th:only-of-type {\n",
       "        vertical-align: middle;\n",
       "    }\n",
       "\n",
       "    .dataframe tbody tr th {\n",
       "        vertical-align: top;\n",
       "    }\n",
       "\n",
       "    .dataframe thead th {\n",
       "        text-align: right;\n",
       "    }\n",
       "</style>\n",
       "<table border=\"1\" class=\"dataframe\">\n",
       "  <thead>\n",
       "    <tr style=\"text-align: right;\">\n",
       "      <th></th>\n",
       "      <th>score</th>\n",
       "      <th>review</th>\n",
       "    </tr>\n",
       "  </thead>\n",
       "  <tbody>\n",
       "    <tr>\n",
       "      <th>0</th>\n",
       "      <td>5</td>\n",
       "      <td></td>\n",
       "    </tr>\n",
       "    <tr>\n",
       "      <th>1</th>\n",
       "      <td>5</td>\n",
       "      <td>마늘빵 안 좋아하는데 여기 진짜 마싯네요.. ㅠ\\n카푸치노 빵피도 식감이 귀엽고 부...</td>\n",
       "    </tr>\n",
       "    <tr>\n",
       "      <th>2</th>\n",
       "      <td>3</td>\n",
       "      <td>빵이 심각하게 달다\\n한 번 먹어 본 걸로 끝..다시 갈 일은 없을 듯\\n비효율적인...</td>\n",
       "    </tr>\n",
       "    <tr>\n",
       "      <th>3</th>\n",
       "      <td>5</td>\n",
       "      <td>시식도만땅으로주시고 웨이팅이 가게가협소해서그런지 오픈런하고와도 좀있는점이아쉽다면아쉽...</td>\n",
       "    </tr>\n",
       "    <tr>\n",
       "      <th>4</th>\n",
       "      <td>3</td>\n",
       "      <td>빵이 너무 너무 달아요&amp;hellip; 모든 빵에 설탕 코팅이 되어있더라고요.\\n먹다...</td>\n",
       "    </tr>\n",
       "  </tbody>\n",
       "</table>\n",
       "</div>"
      ],
      "text/plain": [
       "   score                                             review\n",
       "0      5                                                   \n",
       "1      5  마늘빵 안 좋아하는데 여기 진짜 마싯네요.. ㅠ\\n카푸치노 빵피도 식감이 귀엽고 부...\n",
       "2      3  빵이 심각하게 달다\\n한 번 먹어 본 걸로 끝..다시 갈 일은 없을 듯\\n비효율적인...\n",
       "3      5  시식도만땅으로주시고 웨이팅이 가게가협소해서그런지 오픈런하고와도 좀있는점이아쉽다면아쉽...\n",
       "4      3  빵이 너무 너무 달아요&hellip; 모든 빵에 설탕 코팅이 되어있더라고요.\\n먹다..."
      ]
     },
     "execution_count": 17,
     "metadata": {},
     "output_type": "execute_result"
    }
   ],
   "source": [
    "df.head()"
   ]
  },
  {
   "cell_type": "code",
   "execution_count": 18,
   "id": "028b90c6",
   "metadata": {},
   "outputs": [],
   "source": [
    "# 4점 이상 리뷰는 긍정 리뷰, 3점 이하는 부정 리뷰로 평가\n",
    "df[\"y\"] = df[\"score\"].map(lambda x: 1 if x > 3 else 0)"
   ]
  },
  {
   "cell_type": "code",
   "execution_count": 19,
   "id": "f976f910",
   "metadata": {},
   "outputs": [
    {
     "data": {
      "text/html": [
       "<div>\n",
       "<style scoped>\n",
       "    .dataframe tbody tr th:only-of-type {\n",
       "        vertical-align: middle;\n",
       "    }\n",
       "\n",
       "    .dataframe tbody tr th {\n",
       "        vertical-align: top;\n",
       "    }\n",
       "\n",
       "    .dataframe thead th {\n",
       "        text-align: right;\n",
       "    }\n",
       "</style>\n",
       "<table border=\"1\" class=\"dataframe\">\n",
       "  <thead>\n",
       "    <tr style=\"text-align: right;\">\n",
       "      <th></th>\n",
       "      <th>score</th>\n",
       "      <th>review</th>\n",
       "      <th>y</th>\n",
       "    </tr>\n",
       "  </thead>\n",
       "  <tbody>\n",
       "    <tr>\n",
       "      <th>0</th>\n",
       "      <td>5</td>\n",
       "      <td></td>\n",
       "      <td>1</td>\n",
       "    </tr>\n",
       "    <tr>\n",
       "      <th>1</th>\n",
       "      <td>5</td>\n",
       "      <td>마늘빵 안 좋아하는데 여기 진짜 마싯네요.. ㅠ\\n카푸치노 빵피도 식감이 귀엽고 부...</td>\n",
       "      <td>1</td>\n",
       "    </tr>\n",
       "    <tr>\n",
       "      <th>2</th>\n",
       "      <td>3</td>\n",
       "      <td>빵이 심각하게 달다\\n한 번 먹어 본 걸로 끝..다시 갈 일은 없을 듯\\n비효율적인...</td>\n",
       "      <td>0</td>\n",
       "    </tr>\n",
       "    <tr>\n",
       "      <th>3</th>\n",
       "      <td>5</td>\n",
       "      <td>시식도만땅으로주시고 웨이팅이 가게가협소해서그런지 오픈런하고와도 좀있는점이아쉽다면아쉽...</td>\n",
       "      <td>1</td>\n",
       "    </tr>\n",
       "    <tr>\n",
       "      <th>4</th>\n",
       "      <td>3</td>\n",
       "      <td>빵이 너무 너무 달아요&amp;hellip; 모든 빵에 설탕 코팅이 되어있더라고요.\\n먹다...</td>\n",
       "      <td>0</td>\n",
       "    </tr>\n",
       "  </tbody>\n",
       "</table>\n",
       "</div>"
      ],
      "text/plain": [
       "   score                                             review  y\n",
       "0      5                                                     1\n",
       "1      5  마늘빵 안 좋아하는데 여기 진짜 마싯네요.. ㅠ\\n카푸치노 빵피도 식감이 귀엽고 부...  1\n",
       "2      3  빵이 심각하게 달다\\n한 번 먹어 본 걸로 끝..다시 갈 일은 없을 듯\\n비효율적인...  0\n",
       "3      5  시식도만땅으로주시고 웨이팅이 가게가협소해서그런지 오픈런하고와도 좀있는점이아쉽다면아쉽...  1\n",
       "4      3  빵이 너무 너무 달아요&hellip; 모든 빵에 설탕 코팅이 되어있더라고요.\\n먹다...  0"
      ]
     },
     "execution_count": 19,
     "metadata": {},
     "output_type": "execute_result"
    }
   ],
   "source": [
    "df.head()"
   ]
  },
  {
   "cell_type": "code",
   "execution_count": 20,
   "id": "68a2efcc",
   "metadata": {},
   "outputs": [
    {
     "data": {
      "text/plain": [
       "1    218\n",
       "0    132\n",
       "Name: y, dtype: int64"
      ]
     },
     "execution_count": 20,
     "metadata": {},
     "output_type": "execute_result"
    }
   ],
   "source": [
    "# 레이블값 비율 확인\n",
    "df[\"y\"].value_counts()"
   ]
  },
  {
   "cell_type": "markdown",
   "id": "351814e4",
   "metadata": {},
   "source": [
    "# 텍스트 전처리"
   ]
  },
  {
   "cell_type": "markdown",
   "id": "11582fc7",
   "metadata": {},
   "source": [
    "## 한글 추출"
   ]
  },
  {
   "cell_type": "code",
   "execution_count": 21,
   "id": "fb136e24",
   "metadata": {},
   "outputs": [],
   "source": [
    "########################################################\n",
    "def text_cleaning(text:str) -> str:\n",
    "    '''\n",
    "    텍스트 정제 함수.\n",
    "    한글 이외의 문자는 전부 제거\n",
    "    '''\n",
    "    # 한글 이외의 문자들 추출\n",
    "    han = re.compile(\"[^ ㄱ-ㅣ가-힣]+\")###############ㄱ-ㅣ : ㄱ~ㅣ, 가-힣 : 가~힣\n",
    "    \n",
    "    # 한글 이외의 문자들 제거\n",
    "    text = han.sub(\" \", text)\n",
    "    \n",
    "    return text"
   ]
  },
  {
   "cell_type": "code",
   "execution_count": 22,
   "id": "e6564104",
   "metadata": {},
   "outputs": [
    {
     "data": {
      "text/plain": [
       "'마늘빵 안 좋아하는데 여기 진짜 마싯네요  ㅠ 카푸치노 빵피도 식감이 귀엽고 '"
      ]
     },
     "execution_count": 22,
     "metadata": {},
     "output_type": "execute_result"
    }
   ],
   "source": [
    "text_cleaning(\"마늘빵 안 좋아하는데 여기 진짜 마싯네요.. ㅠ\\n카푸치노 빵피도 식감이 귀엽고bbb\")"
   ]
  },
  {
   "cell_type": "code",
   "execution_count": 23,
   "id": "9c6efe71",
   "metadata": {},
   "outputs": [],
   "source": [
    "df[\"ko_text\"] = df[\"review\"].map(text_cleaning)"
   ]
  },
  {
   "cell_type": "code",
   "execution_count": 24,
   "id": "eb474aa1",
   "metadata": {},
   "outputs": [
    {
     "data": {
      "text/html": [
       "<div>\n",
       "<style scoped>\n",
       "    .dataframe tbody tr th:only-of-type {\n",
       "        vertical-align: middle;\n",
       "    }\n",
       "\n",
       "    .dataframe tbody tr th {\n",
       "        vertical-align: top;\n",
       "    }\n",
       "\n",
       "    .dataframe thead th {\n",
       "        text-align: right;\n",
       "    }\n",
       "</style>\n",
       "<table border=\"1\" class=\"dataframe\">\n",
       "  <thead>\n",
       "    <tr style=\"text-align: right;\">\n",
       "      <th></th>\n",
       "      <th>score</th>\n",
       "      <th>review</th>\n",
       "      <th>y</th>\n",
       "      <th>ko_text</th>\n",
       "    </tr>\n",
       "  </thead>\n",
       "  <tbody>\n",
       "    <tr>\n",
       "      <th>0</th>\n",
       "      <td>5</td>\n",
       "      <td></td>\n",
       "      <td>1</td>\n",
       "      <td></td>\n",
       "    </tr>\n",
       "    <tr>\n",
       "      <th>1</th>\n",
       "      <td>5</td>\n",
       "      <td>마늘빵 안 좋아하는데 여기 진짜 마싯네요.. ㅠ\\n카푸치노 빵피도 식감이 귀엽고 부...</td>\n",
       "      <td>1</td>\n",
       "      <td>마늘빵 안 좋아하는데 여기 진짜 마싯네요  ㅠ 카푸치노 빵피도 식감이 귀엽고 부담없...</td>\n",
       "    </tr>\n",
       "    <tr>\n",
       "      <th>2</th>\n",
       "      <td>3</td>\n",
       "      <td>빵이 심각하게 달다\\n한 번 먹어 본 걸로 끝..다시 갈 일은 없을 듯\\n비효율적인...</td>\n",
       "      <td>0</td>\n",
       "      <td>빵이 심각하게 달다 한 번 먹어 본 걸로 끝 다시 갈 일은 없을 듯 비효율적인 웨이...</td>\n",
       "    </tr>\n",
       "    <tr>\n",
       "      <th>3</th>\n",
       "      <td>5</td>\n",
       "      <td>시식도만땅으로주시고 웨이팅이 가게가협소해서그런지 오픈런하고와도 좀있는점이아쉽다면아쉽...</td>\n",
       "      <td>1</td>\n",
       "      <td>시식도만땅으로주시고 웨이팅이 가게가협소해서그런지 오픈런하고와도 좀있는점이아쉽다면아쉽...</td>\n",
       "    </tr>\n",
       "    <tr>\n",
       "      <th>4</th>\n",
       "      <td>3</td>\n",
       "      <td>빵이 너무 너무 달아요&amp;hellip; 모든 빵에 설탕 코팅이 되어있더라고요.\\n먹다...</td>\n",
       "      <td>0</td>\n",
       "      <td>빵이 너무 너무 달아요  모든 빵에 설탕 코팅이 되어있더라고요 먹다보니 단맛에 질려...</td>\n",
       "    </tr>\n",
       "  </tbody>\n",
       "</table>\n",
       "</div>"
      ],
      "text/plain": [
       "   score                                             review  y  \\\n",
       "0      5                                                     1   \n",
       "1      5  마늘빵 안 좋아하는데 여기 진짜 마싯네요.. ㅠ\\n카푸치노 빵피도 식감이 귀엽고 부...  1   \n",
       "2      3  빵이 심각하게 달다\\n한 번 먹어 본 걸로 끝..다시 갈 일은 없을 듯\\n비효율적인...  0   \n",
       "3      5  시식도만땅으로주시고 웨이팅이 가게가협소해서그런지 오픈런하고와도 좀있는점이아쉽다면아쉽...  1   \n",
       "4      3  빵이 너무 너무 달아요&hellip; 모든 빵에 설탕 코팅이 되어있더라고요.\\n먹다...  0   \n",
       "\n",
       "                                             ko_text  \n",
       "0                                                     \n",
       "1  마늘빵 안 좋아하는데 여기 진짜 마싯네요  ㅠ 카푸치노 빵피도 식감이 귀엽고 부담없...  \n",
       "2  빵이 심각하게 달다 한 번 먹어 본 걸로 끝 다시 갈 일은 없을 듯 비효율적인 웨이...  \n",
       "3  시식도만땅으로주시고 웨이팅이 가게가협소해서그런지 오픈런하고와도 좀있는점이아쉽다면아쉽...  \n",
       "4  빵이 너무 너무 달아요  모든 빵에 설탕 코팅이 되어있더라고요 먹다보니 단맛에 질려...  "
      ]
     },
     "execution_count": 24,
     "metadata": {},
     "output_type": "execute_result"
    }
   ],
   "source": [
    "df.head()"
   ]
  },
  {
   "cell_type": "code",
   "execution_count": 25,
   "id": "1091a414",
   "metadata": {},
   "outputs": [
    {
     "data": {
      "text/plain": [
       "(350, 4)"
      ]
     },
     "execution_count": 25,
     "metadata": {},
     "output_type": "execute_result"
    }
   ],
   "source": [
    "df.shape"
   ]
  },
  {
   "cell_type": "code",
   "execution_count": 26,
   "id": "6880e47a",
   "metadata": {},
   "outputs": [],
   "source": [
    "df = df[df[\"ko_text\"].str.len() > 0]"
   ]
  },
  {
   "cell_type": "code",
   "execution_count": 27,
   "id": "243930c0",
   "metadata": {},
   "outputs": [
    {
     "data": {
      "text/html": [
       "<div>\n",
       "<style scoped>\n",
       "    .dataframe tbody tr th:only-of-type {\n",
       "        vertical-align: middle;\n",
       "    }\n",
       "\n",
       "    .dataframe tbody tr th {\n",
       "        vertical-align: top;\n",
       "    }\n",
       "\n",
       "    .dataframe thead th {\n",
       "        text-align: right;\n",
       "    }\n",
       "</style>\n",
       "<table border=\"1\" class=\"dataframe\">\n",
       "  <thead>\n",
       "    <tr style=\"text-align: right;\">\n",
       "      <th></th>\n",
       "      <th>score</th>\n",
       "      <th>review</th>\n",
       "      <th>y</th>\n",
       "      <th>ko_text</th>\n",
       "    </tr>\n",
       "  </thead>\n",
       "  <tbody>\n",
       "    <tr>\n",
       "      <th>1</th>\n",
       "      <td>5</td>\n",
       "      <td>마늘빵 안 좋아하는데 여기 진짜 마싯네요.. ㅠ\\n카푸치노 빵피도 식감이 귀엽고 부...</td>\n",
       "      <td>1</td>\n",
       "      <td>마늘빵 안 좋아하는데 여기 진짜 마싯네요  ㅠ 카푸치노 빵피도 식감이 귀엽고 부담없...</td>\n",
       "    </tr>\n",
       "    <tr>\n",
       "      <th>2</th>\n",
       "      <td>3</td>\n",
       "      <td>빵이 심각하게 달다\\n한 번 먹어 본 걸로 끝..다시 갈 일은 없을 듯\\n비효율적인...</td>\n",
       "      <td>0</td>\n",
       "      <td>빵이 심각하게 달다 한 번 먹어 본 걸로 끝 다시 갈 일은 없을 듯 비효율적인 웨이...</td>\n",
       "    </tr>\n",
       "    <tr>\n",
       "      <th>3</th>\n",
       "      <td>5</td>\n",
       "      <td>시식도만땅으로주시고 웨이팅이 가게가협소해서그런지 오픈런하고와도 좀있는점이아쉽다면아쉽...</td>\n",
       "      <td>1</td>\n",
       "      <td>시식도만땅으로주시고 웨이팅이 가게가협소해서그런지 오픈런하고와도 좀있는점이아쉽다면아쉽...</td>\n",
       "    </tr>\n",
       "    <tr>\n",
       "      <th>4</th>\n",
       "      <td>3</td>\n",
       "      <td>빵이 너무 너무 달아요&amp;hellip; 모든 빵에 설탕 코팅이 되어있더라고요.\\n먹다...</td>\n",
       "      <td>0</td>\n",
       "      <td>빵이 너무 너무 달아요  모든 빵에 설탕 코팅이 되어있더라고요 먹다보니 단맛에 질려...</td>\n",
       "    </tr>\n",
       "    <tr>\n",
       "      <th>5</th>\n",
       "      <td>5</td>\n",
       "      <td>가격이 싸진않지만 호두들어가있는빵이 개 맛도리네요 ㄷㄷㄷ \\n마늘바게트는 소스가 많...</td>\n",
       "      <td>1</td>\n",
       "      <td>가격이 싸진않지만 호두들어가있는빵이 개 맛도리네요 ㄷㄷㄷ  마늘바게트는 소스가 많아...</td>\n",
       "    </tr>\n",
       "  </tbody>\n",
       "</table>\n",
       "</div>"
      ],
      "text/plain": [
       "   score                                             review  y  \\\n",
       "1      5  마늘빵 안 좋아하는데 여기 진짜 마싯네요.. ㅠ\\n카푸치노 빵피도 식감이 귀엽고 부...  1   \n",
       "2      3  빵이 심각하게 달다\\n한 번 먹어 본 걸로 끝..다시 갈 일은 없을 듯\\n비효율적인...  0   \n",
       "3      5  시식도만땅으로주시고 웨이팅이 가게가협소해서그런지 오픈런하고와도 좀있는점이아쉽다면아쉽...  1   \n",
       "4      3  빵이 너무 너무 달아요&hellip; 모든 빵에 설탕 코팅이 되어있더라고요.\\n먹다...  0   \n",
       "5      5  가격이 싸진않지만 호두들어가있는빵이 개 맛도리네요 ㄷㄷㄷ \\n마늘바게트는 소스가 많...  1   \n",
       "\n",
       "                                             ko_text  \n",
       "1  마늘빵 안 좋아하는데 여기 진짜 마싯네요  ㅠ 카푸치노 빵피도 식감이 귀엽고 부담없...  \n",
       "2  빵이 심각하게 달다 한 번 먹어 본 걸로 끝 다시 갈 일은 없을 듯 비효율적인 웨이...  \n",
       "3  시식도만땅으로주시고 웨이팅이 가게가협소해서그런지 오픈런하고와도 좀있는점이아쉽다면아쉽...  \n",
       "4  빵이 너무 너무 달아요  모든 빵에 설탕 코팅이 되어있더라고요 먹다보니 단맛에 질려...  \n",
       "5  가격이 싸진않지만 호두들어가있는빵이 개 맛도리네요 ㄷㄷㄷ  마늘바게트는 소스가 많아...  "
      ]
     },
     "execution_count": 27,
     "metadata": {},
     "output_type": "execute_result"
    }
   ],
   "source": [
    "df.head()"
   ]
  },
  {
   "cell_type": "code",
   "execution_count": 28,
   "id": "a5de0c93",
   "metadata": {},
   "outputs": [
    {
     "data": {
      "text/plain": [
       "(272, 4)"
      ]
     },
     "execution_count": 28,
     "metadata": {},
     "output_type": "execute_result"
    }
   ],
   "source": [
    "df.shape"
   ]
  },
  {
   "cell_type": "markdown",
   "id": "9209159d",
   "metadata": {},
   "source": [
    "## 형태소 추출"
   ]
  },
  {
   "cell_type": "code",
   "execution_count": 29,
   "id": "b7b78e4a",
   "metadata": {},
   "outputs": [],
   "source": [
    "def get_pos(x:str) -> list:\n",
    "    '''\n",
    "    텍스트 데이터에서 형태소 추출하는 함수\n",
    "    '''\n",
    "    okt = Okt()\n",
    "    pos = okt.pos(x)\n",
    "    pos = [f\"{word}/{tag}\" for word, tag in pos]\n",
    "    return pos"
   ]
  },
  {
   "cell_type": "code",
   "execution_count": 30,
   "id": "1918f23a",
   "metadata": {},
   "outputs": [
    {
     "data": {
      "text/plain": [
       "['마늘빵/Noun',\n",
       " '안/Noun',\n",
       " '좋아하는데/Adjective',\n",
       " '여기/Noun',\n",
       " '진짜/Noun',\n",
       " '마싯네요/Verb',\n",
       " 'ㅠ/KoreanParticle',\n",
       " '카푸치노/Noun',\n",
       " '빵피/Noun',\n",
       " '도/Josa',\n",
       " '식감/Noun',\n",
       " '이/Josa',\n",
       " '귀엽고/Adjective',\n",
       " '부담/Noun',\n",
       " '없이/Adverb',\n",
       " '술술/Noun',\n",
       " '들어가는/Verb',\n",
       " '맛/Noun',\n",
       " '친절하시구/Adjective',\n",
       " '좋아요/Adjective',\n",
       " '또/Noun',\n",
       " '사러/Verb',\n",
       " '갈게요/Verb',\n",
       " 'ㅎ/KoreanParticle']"
      ]
     },
     "execution_count": 30,
     "metadata": {},
     "output_type": "execute_result"
    }
   ],
   "source": [
    "# 테스트\n",
    "result = get_pos(df[\"ko_text\"].values[0])\n",
    "result"
   ]
  },
  {
   "cell_type": "markdown",
   "id": "64cffe98",
   "metadata": {},
   "source": [
    "## 텍스트 임베딩\n",
    "\n",
    "- 텍스트 데이터를 연산이 가능한 피처로 변환"
   ]
  },
  {
   "cell_type": "markdown",
   "id": "98d65fca",
   "metadata": {},
   "source": [
    "### TF-IDF(Term Frequency-Inverse Document Frequency)\n",
    "\n",
    "- 단어의 빈도와 역 문서 빈도를 사용하여 각 단어들의 중요도를 가중치로 주는 방법\n",
    "- TF : 1개의 문서 내에서 특정 단어의 등장 빈도\n",
    "- DF : 특정 단어가 등장한 문서의 수\n",
    "- IDF : DF에 반비례하는 수\n",
    "- 다른 문서들에서는 많이 등장하지 않았지만 현재 문서에서는 많이 등장하는 단어를 의미\n",
    "    - 해당 단어가 현재 문서에서 얼마나 중요한지를 계산하는 방법"
   ]
  },
  {
   "cell_type": "code",
   "execution_count": 31,
   "id": "13e2ea95",
   "metadata": {},
   "outputs": [],
   "source": [
    "x = df[\"ko_text\"]\n",
    "y = df[\"y\"]\n",
    "\n",
    "x_train, x_test, y_train, y_test = train_test_split(x, y, test_size=0.3, random_state=4)"
   ]
  },
  {
   "cell_type": "code",
   "execution_count": 32,
   "id": "0b06341d",
   "metadata": {},
   "outputs": [
    {
     "data": {
      "text/plain": [
       "190"
      ]
     },
     "execution_count": 32,
     "metadata": {},
     "output_type": "execute_result"
    }
   ],
   "source": [
    "len(x_train)"
   ]
  },
  {
   "cell_type": "code",
   "execution_count": 33,
   "id": "32dd5644",
   "metadata": {},
   "outputs": [
    {
     "data": {
      "text/plain": [
       "158                                               나쁘지 않음\n",
       "38     형제갈비 주차발렛하시는분 다시모집하셔야할듯  고객도 못알아보고 도로피해서 가게앞 지...\n",
       "147    혼자갔는데 사장이 만석도 아닌데 만석이라고 넘 퉁명스럽게 밖에서 기다리라함  날씨추...\n",
       "171                                     먹자마자 눈이 팍  트이는 맛\n",
       "337    분위기 좋고 수다 떨기 좋은 파스타집  처음에 입구에 들어서면 사장님께서 엄청 친절...\n",
       "                             ...                        \n",
       "69                              가성비로 따지면 훌륭하지만 맛있지는 않아요 \n",
       "110                                     맛있고 회전율 빨라서 좋아요 \n",
       "252    짜장 짬뽕이 다른데 보다 약간 비싼데 개인적으로는 비싼 값 한다는 느낌  건물 자체...\n",
       "222    홍면이랑 유린기 시켜서 먹었는데 웨이팅 해서 먹을 정도의 특별한 맛은 아니었어요  ...\n",
       "156                            메뉴는 다양해서 좋음 하지만 맛은 그냥 보통임\n",
       "Name: ko_text, Length: 190, dtype: object"
      ]
     },
     "execution_count": 33,
     "metadata": {},
     "output_type": "execute_result"
    }
   ],
   "source": [
    "x_train"
   ]
  },
  {
   "cell_type": "code",
   "execution_count": 34,
   "id": "7e5b080d",
   "metadata": {},
   "outputs": [],
   "source": [
    "tfidf = TfidfVectorizer()\n",
    "tf_train = tfidf.fit_transform(x_train)\n",
    "tf_test = tfidf.transform(x_test)"
   ]
  },
  {
   "cell_type": "code",
   "execution_count": 35,
   "id": "a1b19500",
   "metadata": {},
   "outputs": [
    {
     "data": {
      "text/plain": [
       "(190, 1960)"
      ]
     },
     "execution_count": 35,
     "metadata": {},
     "output_type": "execute_result"
    }
   ],
   "source": [
    "tf_train.shape"
   ]
  },
  {
   "cell_type": "code",
   "execution_count": 36,
   "id": "e8d07038",
   "metadata": {},
   "outputs": [
    {
     "data": {
      "text/plain": [
       "<190x1960 sparse matrix of type '<class 'numpy.float64'>'\n",
       "\twith 2583 stored elements in Compressed Sparse Row format>"
      ]
     },
     "execution_count": 36,
     "metadata": {},
     "output_type": "execute_result"
    }
   ],
   "source": [
    "tf_train"
   ]
  },
  {
   "cell_type": "markdown",
   "id": "4d28d92d",
   "metadata": {},
   "source": [
    "# 모델 훈련"
   ]
  },
  {
   "cell_type": "code",
   "execution_count": 37,
   "id": "18dde06d",
   "metadata": {},
   "outputs": [
    {
     "data": {
      "text/html": [
       "<style>#sk-container-id-1 {color: black;background-color: white;}#sk-container-id-1 pre{padding: 0;}#sk-container-id-1 div.sk-toggleable {background-color: white;}#sk-container-id-1 label.sk-toggleable__label {cursor: pointer;display: block;width: 100%;margin-bottom: 0;padding: 0.3em;box-sizing: border-box;text-align: center;}#sk-container-id-1 label.sk-toggleable__label-arrow:before {content: \"▸\";float: left;margin-right: 0.25em;color: #696969;}#sk-container-id-1 label.sk-toggleable__label-arrow:hover:before {color: black;}#sk-container-id-1 div.sk-estimator:hover label.sk-toggleable__label-arrow:before {color: black;}#sk-container-id-1 div.sk-toggleable__content {max-height: 0;max-width: 0;overflow: hidden;text-align: left;background-color: #f0f8ff;}#sk-container-id-1 div.sk-toggleable__content pre {margin: 0.2em;color: black;border-radius: 0.25em;background-color: #f0f8ff;}#sk-container-id-1 input.sk-toggleable__control:checked~div.sk-toggleable__content {max-height: 200px;max-width: 100%;overflow: auto;}#sk-container-id-1 input.sk-toggleable__control:checked~label.sk-toggleable__label-arrow:before {content: \"▾\";}#sk-container-id-1 div.sk-estimator input.sk-toggleable__control:checked~label.sk-toggleable__label {background-color: #d4ebff;}#sk-container-id-1 div.sk-label input.sk-toggleable__control:checked~label.sk-toggleable__label {background-color: #d4ebff;}#sk-container-id-1 input.sk-hidden--visually {border: 0;clip: rect(1px 1px 1px 1px);clip: rect(1px, 1px, 1px, 1px);height: 1px;margin: -1px;overflow: hidden;padding: 0;position: absolute;width: 1px;}#sk-container-id-1 div.sk-estimator {font-family: monospace;background-color: #f0f8ff;border: 1px dotted black;border-radius: 0.25em;box-sizing: border-box;margin-bottom: 0.5em;}#sk-container-id-1 div.sk-estimator:hover {background-color: #d4ebff;}#sk-container-id-1 div.sk-parallel-item::after {content: \"\";width: 100%;border-bottom: 1px solid gray;flex-grow: 1;}#sk-container-id-1 div.sk-label:hover label.sk-toggleable__label {background-color: #d4ebff;}#sk-container-id-1 div.sk-serial::before {content: \"\";position: absolute;border-left: 1px solid gray;box-sizing: border-box;top: 0;bottom: 0;left: 50%;z-index: 0;}#sk-container-id-1 div.sk-serial {display: flex;flex-direction: column;align-items: center;background-color: white;padding-right: 0.2em;padding-left: 0.2em;position: relative;}#sk-container-id-1 div.sk-item {position: relative;z-index: 1;}#sk-container-id-1 div.sk-parallel {display: flex;align-items: stretch;justify-content: center;background-color: white;position: relative;}#sk-container-id-1 div.sk-item::before, #sk-container-id-1 div.sk-parallel-item::before {content: \"\";position: absolute;border-left: 1px solid gray;box-sizing: border-box;top: 0;bottom: 0;left: 50%;z-index: -1;}#sk-container-id-1 div.sk-parallel-item {display: flex;flex-direction: column;z-index: 1;position: relative;background-color: white;}#sk-container-id-1 div.sk-parallel-item:first-child::after {align-self: flex-end;width: 50%;}#sk-container-id-1 div.sk-parallel-item:last-child::after {align-self: flex-start;width: 50%;}#sk-container-id-1 div.sk-parallel-item:only-child::after {width: 0;}#sk-container-id-1 div.sk-dashed-wrapped {border: 1px dashed gray;margin: 0 0.4em 0.5em 0.4em;box-sizing: border-box;padding-bottom: 0.4em;background-color: white;}#sk-container-id-1 div.sk-label label {font-family: monospace;font-weight: bold;display: inline-block;line-height: 1.2em;}#sk-container-id-1 div.sk-label-container {text-align: center;}#sk-container-id-1 div.sk-container {/* jupyter's `normalize.less` sets `[hidden] { display: none; }` but bootstrap.min.css set `[hidden] { display: none !important; }` so we also need the `!important` here to be able to override the default hidden behavior on the sphinx rendered scikit-learn.org. See: https://github.com/scikit-learn/scikit-learn/issues/21755 */display: inline-block !important;position: relative;}#sk-container-id-1 div.sk-text-repr-fallback {display: none;}</style><div id=\"sk-container-id-1\" class=\"sk-top-container\"><div class=\"sk-text-repr-fallback\"><pre>LogisticRegression()</pre><b>In a Jupyter environment, please rerun this cell to show the HTML representation or trust the notebook. <br />On GitHub, the HTML representation is unable to render, please try loading this page with nbviewer.org.</b></div><div class=\"sk-container\" hidden><div class=\"sk-item\"><div class=\"sk-estimator sk-toggleable\"><input class=\"sk-toggleable__control sk-hidden--visually\" id=\"sk-estimator-id-1\" type=\"checkbox\" checked><label for=\"sk-estimator-id-1\" class=\"sk-toggleable__label sk-toggleable__label-arrow\">LogisticRegression</label><div class=\"sk-toggleable__content\"><pre>LogisticRegression()</pre></div></div></div></div></div>"
      ],
      "text/plain": [
       "LogisticRegression()"
      ]
     },
     "execution_count": 37,
     "metadata": {},
     "output_type": "execute_result"
    }
   ],
   "source": [
    "logi = LogisticRegression()\n",
    "logi.fit(tf_train, y_train)"
   ]
  },
  {
   "cell_type": "code",
   "execution_count": 38,
   "id": "4af30b1d",
   "metadata": {},
   "outputs": [],
   "source": [
    "pred = logi.predict(tf_test)\n",
    "proba = logi.predict_proba(tf_test)[:, 1]"
   ]
  },
  {
   "cell_type": "code",
   "execution_count": 39,
   "id": "3de27c1f",
   "metadata": {},
   "outputs": [
    {
     "name": "stdout",
     "output_type": "stream",
     "text": [
      "0.6707317073170732\n",
      "0.7969924812030076\n"
     ]
    }
   ],
   "source": [
    "print(accuracy_score(y_test, pred))\n",
    "print(f1_score(y_test, pred))"
   ]
  },
  {
   "cell_type": "code",
   "execution_count": 40,
   "id": "13529cd8",
   "metadata": {},
   "outputs": [
    {
     "name": "stdout",
     "output_type": "stream",
     "text": [
      "[[ 2 26]\n",
      " [ 1 53]]\n"
     ]
    }
   ],
   "source": [
    "comat = confusion_matrix(y_test, pred)\n",
    "print(comat)"
   ]
  },
  {
   "cell_type": "code",
   "execution_count": 41,
   "id": "0cccba1d",
   "metadata": {},
   "outputs": [
    {
     "data": {
      "text/html": [
       "<div>\n",
       "<style scoped>\n",
       "    .dataframe tbody tr th:only-of-type {\n",
       "        vertical-align: middle;\n",
       "    }\n",
       "\n",
       "    .dataframe tbody tr th {\n",
       "        vertical-align: top;\n",
       "    }\n",
       "\n",
       "    .dataframe thead th {\n",
       "        text-align: right;\n",
       "    }\n",
       "</style>\n",
       "<table border=\"1\" class=\"dataframe\">\n",
       "  <thead>\n",
       "    <tr style=\"text-align: right;\">\n",
       "      <th></th>\n",
       "      <th>text</th>\n",
       "      <th>pred</th>\n",
       "    </tr>\n",
       "  </thead>\n",
       "  <tbody>\n",
       "    <tr>\n",
       "      <th>269</th>\n",
       "      <td>간짜장은 맛있게 먹었는데 짬뽕은 개인적으로 아쉬웠어요</td>\n",
       "      <td>1</td>\n",
       "    </tr>\n",
       "    <tr>\n",
       "      <th>44</th>\n",
       "      <td>비싼 데다 팁까지 강요함</td>\n",
       "      <td>1</td>\n",
       "    </tr>\n",
       "    <tr>\n",
       "      <th>207</th>\n",
       "      <td>미슐랭 인증이라고 써있었는데 한번 해보자는 마음으로 갔어요 비오는 날 줄 서는 것도...</td>\n",
       "      <td>1</td>\n",
       "    </tr>\n",
       "    <tr>\n",
       "      <th>155</th>\n",
       "      <td>펌킨파이가 젤 맛있어요 근데 사람 너어무 많고 정신없어서 무조건 포장해감 늦게가면 품절</td>\n",
       "      <td>1</td>\n",
       "    </tr>\n",
       "    <tr>\n",
       "      <th>131</th>\n",
       "      <td>맛있어요 부추 반찬 무한리필 굿</td>\n",
       "      <td>1</td>\n",
       "    </tr>\n",
       "    <tr>\n",
       "      <th>...</th>\n",
       "      <td>...</td>\n",
       "      <td>...</td>\n",
       "    </tr>\n",
       "    <tr>\n",
       "      <th>331</th>\n",
       "      <td>소개팅 하기 좋은 신촌 맛집</td>\n",
       "      <td>1</td>\n",
       "    </tr>\n",
       "    <tr>\n",
       "      <th>271</th>\n",
       "      <td>양은적지만 맛이좋네</td>\n",
       "      <td>1</td>\n",
       "    </tr>\n",
       "    <tr>\n",
       "      <th>262</th>\n",
       "      <td>매운홍합 최고</td>\n",
       "      <td>1</td>\n",
       "    </tr>\n",
       "    <tr>\n",
       "      <th>231</th>\n",
       "      <td>짬뽕이랑 불밥이 맛남  짬뽕은 진하기보단 시원한 느낌  전에 쓰던 면은 조금 더 두...</td>\n",
       "      <td>1</td>\n",
       "    </tr>\n",
       "    <tr>\n",
       "      <th>341</th>\n",
       "      <td>가성비 좋다 세트메뉴에 감튀가 있길래 엥  싶었는데 넣어둔 이유가 있음 ㅋㅋ 존맛 ㅋㅋ</td>\n",
       "      <td>1</td>\n",
       "    </tr>\n",
       "  </tbody>\n",
       "</table>\n",
       "<p>82 rows × 2 columns</p>\n",
       "</div>"
      ],
      "text/plain": [
       "                                                  text  pred\n",
       "269                      간짜장은 맛있게 먹었는데 짬뽕은 개인적으로 아쉬웠어요     1\n",
       "44                                       비싼 데다 팁까지 강요함     1\n",
       "207  미슐랭 인증이라고 써있었는데 한번 해보자는 마음으로 갔어요 비오는 날 줄 서는 것도...     1\n",
       "155   펌킨파이가 젤 맛있어요 근데 사람 너어무 많고 정신없어서 무조건 포장해감 늦게가면 품절     1\n",
       "131                                  맛있어요 부추 반찬 무한리필 굿     1\n",
       "..                                                 ...   ...\n",
       "331                                    소개팅 하기 좋은 신촌 맛집     1\n",
       "271                                         양은적지만 맛이좋네     1\n",
       "262                                           매운홍합 최고      1\n",
       "231  짬뽕이랑 불밥이 맛남  짬뽕은 진하기보단 시원한 느낌  전에 쓰던 면은 조금 더 두...     1\n",
       "341  가성비 좋다 세트메뉴에 감튀가 있길래 엥  싶었는데 넣어둔 이유가 있음 ㅋㅋ 존맛 ㅋㅋ      1\n",
       "\n",
       "[82 rows x 2 columns]"
      ]
     },
     "execution_count": 41,
     "metadata": {},
     "output_type": "execute_result"
    }
   ],
   "source": [
    "pd.DataFrame({\"text\" : x_test, \"pred\" : pred})"
   ]
  },
  {
   "cell_type": "markdown",
   "id": "63309a9e",
   "metadata": {},
   "source": [
    "# 모델 최적화"
   ]
  },
  {
   "cell_type": "code",
   "execution_count": 42,
   "id": "7d5b4feb",
   "metadata": {},
   "outputs": [
    {
     "data": {
      "text/plain": [
       "1    165\n",
       "0    107\n",
       "Name: y, dtype: int64"
      ]
     },
     "execution_count": 42,
     "metadata": {},
     "output_type": "execute_result"
    }
   ],
   "source": [
    "df[\"y\"].value_counts()"
   ]
  },
  {
   "cell_type": "code",
   "execution_count": 43,
   "id": "e38f338d",
   "metadata": {},
   "outputs": [],
   "source": [
    "# 1 : 1 비율로 랜덤 샘플링 수행\n",
    "pos_idx = df[df[\"y\"] == 1].sample(106, random_state = 4).index.tolist()\n",
    "neg_idx = df[df[\"y\"] == 0].index.tolist()"
   ]
  },
  {
   "cell_type": "code",
   "execution_count": 44,
   "id": "bb08d327",
   "metadata": {},
   "outputs": [],
   "source": [
    "random_idx = pos_idx + neg_idx\n",
    "sample_x = x[random_idx]\n",
    "sample_y = df[\"y\"][random_idx]\n",
    "\n",
    "x_train, x_test, y_train, y_test =train_test_split(sample_x, sample_y, test_size=0.3, stratify=sample_y, random_state=4)\n",
    "\n",
    "tfidf = TfidfVectorizer()\n",
    "tf_train = tfidf.fit_transform(x_train)\n",
    "tf_test = tfidf.transform(x_test)"
   ]
  },
  {
   "cell_type": "code",
   "execution_count": 45,
   "id": "d0374c74",
   "metadata": {},
   "outputs": [
    {
     "data": {
      "text/plain": [
       "213"
      ]
     },
     "execution_count": 45,
     "metadata": {},
     "output_type": "execute_result"
    }
   ],
   "source": [
    "len(sample_x)"
   ]
  },
  {
   "cell_type": "code",
   "execution_count": 46,
   "id": "e4924c65",
   "metadata": {},
   "outputs": [
    {
     "data": {
      "text/html": [
       "<style>#sk-container-id-2 {color: black;background-color: white;}#sk-container-id-2 pre{padding: 0;}#sk-container-id-2 div.sk-toggleable {background-color: white;}#sk-container-id-2 label.sk-toggleable__label {cursor: pointer;display: block;width: 100%;margin-bottom: 0;padding: 0.3em;box-sizing: border-box;text-align: center;}#sk-container-id-2 label.sk-toggleable__label-arrow:before {content: \"▸\";float: left;margin-right: 0.25em;color: #696969;}#sk-container-id-2 label.sk-toggleable__label-arrow:hover:before {color: black;}#sk-container-id-2 div.sk-estimator:hover label.sk-toggleable__label-arrow:before {color: black;}#sk-container-id-2 div.sk-toggleable__content {max-height: 0;max-width: 0;overflow: hidden;text-align: left;background-color: #f0f8ff;}#sk-container-id-2 div.sk-toggleable__content pre {margin: 0.2em;color: black;border-radius: 0.25em;background-color: #f0f8ff;}#sk-container-id-2 input.sk-toggleable__control:checked~div.sk-toggleable__content {max-height: 200px;max-width: 100%;overflow: auto;}#sk-container-id-2 input.sk-toggleable__control:checked~label.sk-toggleable__label-arrow:before {content: \"▾\";}#sk-container-id-2 div.sk-estimator input.sk-toggleable__control:checked~label.sk-toggleable__label {background-color: #d4ebff;}#sk-container-id-2 div.sk-label input.sk-toggleable__control:checked~label.sk-toggleable__label {background-color: #d4ebff;}#sk-container-id-2 input.sk-hidden--visually {border: 0;clip: rect(1px 1px 1px 1px);clip: rect(1px, 1px, 1px, 1px);height: 1px;margin: -1px;overflow: hidden;padding: 0;position: absolute;width: 1px;}#sk-container-id-2 div.sk-estimator {font-family: monospace;background-color: #f0f8ff;border: 1px dotted black;border-radius: 0.25em;box-sizing: border-box;margin-bottom: 0.5em;}#sk-container-id-2 div.sk-estimator:hover {background-color: #d4ebff;}#sk-container-id-2 div.sk-parallel-item::after {content: \"\";width: 100%;border-bottom: 1px solid gray;flex-grow: 1;}#sk-container-id-2 div.sk-label:hover label.sk-toggleable__label {background-color: #d4ebff;}#sk-container-id-2 div.sk-serial::before {content: \"\";position: absolute;border-left: 1px solid gray;box-sizing: border-box;top: 0;bottom: 0;left: 50%;z-index: 0;}#sk-container-id-2 div.sk-serial {display: flex;flex-direction: column;align-items: center;background-color: white;padding-right: 0.2em;padding-left: 0.2em;position: relative;}#sk-container-id-2 div.sk-item {position: relative;z-index: 1;}#sk-container-id-2 div.sk-parallel {display: flex;align-items: stretch;justify-content: center;background-color: white;position: relative;}#sk-container-id-2 div.sk-item::before, #sk-container-id-2 div.sk-parallel-item::before {content: \"\";position: absolute;border-left: 1px solid gray;box-sizing: border-box;top: 0;bottom: 0;left: 50%;z-index: -1;}#sk-container-id-2 div.sk-parallel-item {display: flex;flex-direction: column;z-index: 1;position: relative;background-color: white;}#sk-container-id-2 div.sk-parallel-item:first-child::after {align-self: flex-end;width: 50%;}#sk-container-id-2 div.sk-parallel-item:last-child::after {align-self: flex-start;width: 50%;}#sk-container-id-2 div.sk-parallel-item:only-child::after {width: 0;}#sk-container-id-2 div.sk-dashed-wrapped {border: 1px dashed gray;margin: 0 0.4em 0.5em 0.4em;box-sizing: border-box;padding-bottom: 0.4em;background-color: white;}#sk-container-id-2 div.sk-label label {font-family: monospace;font-weight: bold;display: inline-block;line-height: 1.2em;}#sk-container-id-2 div.sk-label-container {text-align: center;}#sk-container-id-2 div.sk-container {/* jupyter's `normalize.less` sets `[hidden] { display: none; }` but bootstrap.min.css set `[hidden] { display: none !important; }` so we also need the `!important` here to be able to override the default hidden behavior on the sphinx rendered scikit-learn.org. See: https://github.com/scikit-learn/scikit-learn/issues/21755 */display: inline-block !important;position: relative;}#sk-container-id-2 div.sk-text-repr-fallback {display: none;}</style><div id=\"sk-container-id-2\" class=\"sk-top-container\"><div class=\"sk-text-repr-fallback\"><pre>LogisticRegression()</pre><b>In a Jupyter environment, please rerun this cell to show the HTML representation or trust the notebook. <br />On GitHub, the HTML representation is unable to render, please try loading this page with nbviewer.org.</b></div><div class=\"sk-container\" hidden><div class=\"sk-item\"><div class=\"sk-estimator sk-toggleable\"><input class=\"sk-toggleable__control sk-hidden--visually\" id=\"sk-estimator-id-2\" type=\"checkbox\" checked><label for=\"sk-estimator-id-2\" class=\"sk-toggleable__label sk-toggleable__label-arrow\">LogisticRegression</label><div class=\"sk-toggleable__content\"><pre>LogisticRegression()</pre></div></div></div></div></div>"
      ],
      "text/plain": [
       "LogisticRegression()"
      ]
     },
     "execution_count": 46,
     "metadata": {},
     "output_type": "execute_result"
    }
   ],
   "source": [
    "logi = LogisticRegression()\n",
    "logi.fit(tf_train,y_train)"
   ]
  },
  {
   "cell_type": "code",
   "execution_count": 47,
   "id": "5d1604f7",
   "metadata": {},
   "outputs": [],
   "source": [
    "pred = logi.predict(tf_test)\n",
    "proba = logi.predict_proba(tf_test)[:, 1]"
   ]
  },
  {
   "cell_type": "code",
   "execution_count": 48,
   "id": "562dd8e9",
   "metadata": {},
   "outputs": [
    {
     "name": "stdout",
     "output_type": "stream",
     "text": [
      "0.640625\n",
      "0.6229508196721311\n"
     ]
    }
   ],
   "source": [
    "print(accuracy_score(y_test, pred))\n",
    "print(f1_score(y_test, pred))"
   ]
  },
  {
   "cell_type": "code",
   "execution_count": 49,
   "id": "30ca310b",
   "metadata": {},
   "outputs": [
    {
     "data": {
      "text/plain": [
       "array([[22, 10],\n",
       "       [13, 19]], dtype=int64)"
      ]
     },
     "execution_count": 49,
     "metadata": {},
     "output_type": "execute_result"
    }
   ],
   "source": [
    "comat = confusion_matrix(y_test, pred)\n",
    "comat"
   ]
  },
  {
   "cell_type": "code",
   "execution_count": 50,
   "id": "00dc1a7a",
   "metadata": {},
   "outputs": [
    {
     "data": {
      "text/plain": [
       "array([0, 1, 0, 0, 0], dtype=int64)"
      ]
     },
     "execution_count": 50,
     "metadata": {},
     "output_type": "execute_result"
    }
   ],
   "source": [
    "# 테스트\n",
    "query = tfidf.transform([\"잘도 그러겠다\", \"맛있어요\", \"개 맛도리\", \"맛없음\", \"다시는 안감\"])\n",
    "logi.predict(query)"
   ]
  },
  {
   "cell_type": "markdown",
   "id": "e8982ecb",
   "metadata": {},
   "source": [
    "# 키워드 분석\n",
    "\n",
    "- 로지스틱 회귀 모델의 피처 영향력으로 가장 높은 영향력을 가지고 있는 단어 찾기"
   ]
  },
  {
   "cell_type": "code",
   "execution_count": 51,
   "id": "dde96d6c",
   "metadata": {},
   "outputs": [
    {
     "name": "stderr",
     "output_type": "stream",
     "text": [
      "C:\\Users\\polar\\anaconda3\\Lib\\site-packages\\IPython\\core\\pylabtools.py:152: UserWarning: Glyph 8722 (\\N{MINUS SIGN}) missing from current font.\n",
      "  fig.canvas.print_figure(bytes_io, **kw)\n"
     ]
    },
    {
     "data": {
      "image/png": "[encoded data removed]",
      "text/plain": [
       "<Figure size 640x480 with 1 Axes>"
      ]
     },
     "metadata": {},
     "output_type": "display_data"
    }
   ],
   "source": [
    "plt.figure()\n",
    "\n",
    "plt.bar(range(len(logi.coef_.flatten())), logi.coef_.flatten())\n",
    "plt.show()"
   ]
  },
  {
   "cell_type": "code",
   "execution_count": 52,
   "id": "41a6c780",
   "metadata": {},
   "outputs": [],
   "source": [
    "# 회귀 모델의 계수를 내림차순으로 정렬\n",
    "coef_pos_idx = sorted(((value, idx) for idx, value in enumerate(logi.coef_.flatten())), reverse = True)"
   ]
  },
  {
   "cell_type": "code",
   "execution_count": 53,
   "id": "54186540",
   "metadata": {},
   "outputs": [
    {
     "data": {
      "text/plain": [
       "array([ 0.13628565, -0.09670014,  0.0491595 , ...,  0.09237259,\n",
       "       -0.15867764,  0.03289955])"
      ]
     },
     "execution_count": 53,
     "metadata": {},
     "output_type": "execute_result"
    }
   ],
   "source": [
    "logi.coef_.flatten()"
   ]
  },
  {
   "cell_type": "code",
   "execution_count": 54,
   "id": "ca4ba222",
   "metadata": {},
   "outputs": [
    {
     "data": {
      "text/plain": [
       "[(0.715805240401717, 550),\n",
       " (0.6872272669569012, 1380),\n",
       " (0.6419495433245718, 1445),\n",
       " (0.5728940731338319, 557),\n",
       " (0.5557413464304156, 73),\n",
       " (0.5284914072179014, 951),\n",
       " (0.4638125900212737, 542),\n",
       " (0.43233269632965626, 595),\n",
       " (0.42904025375565, 1505),\n",
       " (0.38475260398946487, 553),\n",
       " (0.37734606377535107, 1324),\n",
       " (0.37708098782264954, 1362),\n",
       " (0.36683013892968935, 1588),\n",
       " (0.36473710836227247, 470),\n",
       " (0.3646958935596621, 1502),\n",
       " (0.3621392651924492, 1391),\n",
       " (0.35379862356486375, 1199),\n",
       " (0.341750161724604, 1367),\n",
       " (0.33799742254248627, 67),\n",
       " (0.3375285172637402, 665),\n",
       " (0.3228496180580081, 1531),\n",
       " (0.30993376780172743, 1601),\n",
       " (0.2979000696952396, 454),\n",
       " (0.29770011410316183, 1325),\n",
       " (0.2922384656877918, 1261),\n",
       " (0.2919264081016016, 455),\n",
       " (0.2913307412095703, 952),\n",
       " (0.28142395367601897, 1097),\n",
       " (0.27088728674682067, 42),\n",
       " (0.2689129423154866, 1303),\n",
       " (0.25736083843901464, 583),\n",
       " (0.25262898607732454, 546),\n",
       " (0.24801056131994872, 1443),\n",
       " (0.24801056131994872, 488),\n",
       " (0.24322276023957864, 1560),\n",
       " (0.2419509827211259, 1295),\n",
       " (0.2419509827211259, 256),\n",
       " (0.23875706620248638, 1611),\n",
       " (0.23875706620248638, 1571),\n",
       " (0.23875706620248638, 607),\n",
       " (0.23875706620248638, 549),\n",
       " (0.23875706620248638, 456),\n",
       " (0.23875706620248638, 290),\n",
       " (0.2306626923204748, 1513),\n",
       " (0.22569232823910668, 571),\n",
       " (0.22525076998249774, 1195),\n",
       " (0.22525076998249774, 874),\n",
       " (0.22302567065994036, 1288),\n",
       " (0.22299355813376676, 203),\n",
       " (0.22299355813376676, 24),\n",
       " (0.22091253256998158, 1203),\n",
       " (0.22091253256998158, 1174),\n",
       " (0.21034730283858377, 1375),\n",
       " (0.21018683909569122, 467),\n",
       " (0.21012281955957535, 524),\n",
       " (0.20955993387542712, 1144),\n",
       " (0.20955993387542712, 838),\n",
       " (0.20955993387542712, 224),\n",
       " (0.2090343813000731, 798),\n",
       " (0.2067696846643962, 1663),\n",
       " (0.2067696846643962, 1615),\n",
       " (0.2067696846643962, 1494),\n",
       " (0.2067696846643962, 1042),\n",
       " (0.2067696846643962, 1036),\n",
       " (0.2067696846643962, 585),\n",
       " (0.2067696846643962, 124),\n",
       " (0.2067696846643962, 116),\n",
       " (0.20540071947062077, 646),\n",
       " (0.2025438221119389, 74),\n",
       " (0.2010284672981744, 1650),\n",
       " (0.2009861046580007, 541),\n",
       " (0.2009861046580007, 318),\n",
       " (0.19924703080020753, 119),\n",
       " (0.19671795698664396, 1534),\n",
       " (0.19671795698664396, 468),\n",
       " (0.19671795698664396, 83),\n",
       " (0.19385838938014113, 1501),\n",
       " (0.19385838938014113, 918),\n",
       " (0.1937312940008744, 1153),\n",
       " (0.1937312940008744, 515),\n",
       " (0.1937312940008744, 356),\n",
       " (0.1937312940008744, 22),\n",
       " (0.1849404282383143, 1247),\n",
       " (0.1849404282383143, 1025),\n",
       " (0.1849404282383143, 923),\n",
       " (0.1849404282383143, 745),\n",
       " (0.1849404282383143, 27),\n",
       " (0.18473664012766425, 666),\n",
       " (0.18473664012766425, 489),\n",
       " (0.18473664012766425, 447),\n",
       " (0.18473664012766425, 194),\n",
       " (0.1844662962043664, 1617),\n",
       " (0.1844662962043664, 43),\n",
       " (0.18401903855788992, 966),\n",
       " (0.1809597231921043, 1309),\n",
       " (0.1806724007364416, 540),\n",
       " (0.1793224605448515, 1648),\n",
       " (0.1793224605448515, 1579),\n",
       " (0.1793224605448515, 761),\n",
       " (0.1793224605448515, 711),\n",
       " (0.17874388173324612, 762),\n",
       " (0.17865444414404472, 1126),\n",
       " (0.17792380457754303, 1278),\n",
       " (0.1737176805869833, 1559),\n",
       " (0.17253419340372325, 681),\n",
       " (0.17253419340372325, 477),\n",
       " (0.17253419340372325, 420),\n",
       " (0.17253419340372325, 249),\n",
       " (0.16945329311283763, 1533),\n",
       " (0.16945329311283763, 1446),\n",
       " (0.16945329311283763, 1124),\n",
       " (0.1684718958320806, 1196),\n",
       " (0.16609653736536475, 159),\n",
       " (0.1651445376401926, 1347),\n",
       " (0.163538282101352, 1593),\n",
       " (0.163538282101352, 1150),\n",
       " (0.163538282101352, 491),\n",
       " (0.163538282101352, 469),\n",
       " (0.15985117895621404, 189),\n",
       " (0.15831808278798185, 1626),\n",
       " (0.15831808278798185, 1624),\n",
       " (0.15831808278798185, 1465),\n",
       " (0.15831808278798185, 626),\n",
       " (0.15831808278798185, 332),\n",
       " (0.15831808278798185, 299),\n",
       " (0.15665937772584332, 1243),\n",
       " (0.15602772356481492, 1489),\n",
       " (0.15602772356481492, 830),\n",
       " (0.15602772356481492, 363),\n",
       " (0.15282313678770162, 1228),\n",
       " (0.15282313678770162, 1086),\n",
       " (0.15282313678770162, 823),\n",
       " (0.15154514880590397, 1684),\n",
       " (0.15154514880590397, 924),\n",
       " (0.15154514880590397, 836),\n",
       " (0.15154514880590397, 805),\n",
       " (0.15154514880590397, 671),\n",
       " (0.15154514880590397, 453),\n",
       " (0.15087499867588883, 292),\n",
       " (0.15020949657998026, 1520),\n",
       " (0.1496372881164179, 1351),\n",
       " (0.14855581430724388, 3),\n",
       " (0.1474784915052591, 839),\n",
       " (0.1418931798670271, 596),\n",
       " (0.14163927253164488, 1283),\n",
       " (0.13815323537129262, 1438),\n",
       " (0.1377880254875831, 941),\n",
       " (0.1364822235500687, 210),\n",
       " (0.13628565186796462, 1672),\n",
       " (0.13628565186796462, 975),\n",
       " (0.13628565186796462, 680),\n",
       " (0.13628565186796462, 525),\n",
       " (0.13628565186796462, 503),\n",
       " (0.13628565186796462, 471),\n",
       " (0.13628565186796462, 287),\n",
       " (0.13628565186796462, 0),\n",
       " (0.1345024545074408, 559),\n",
       " (0.1328218448022037, 1574),\n",
       " (0.1328218448022037, 1323),\n",
       " (0.1328218448022037, 485),\n",
       " (0.1328218448022037, 424),\n",
       " (0.1328218448022037, 219),\n",
       " (0.13240486792101688, 599),\n",
       " (0.1316734259135721, 1580),\n",
       " (0.1316734259135721, 1517),\n",
       " (0.1316734259135721, 1370),\n",
       " (0.1316734259135721, 1161),\n",
       " (0.1316734259135721, 948),\n",
       " (0.1316734259135721, 927),\n",
       " (0.1316734259135721, 13),\n",
       " (0.13133694226056106, 1353),\n",
       " (0.13133694226056106, 1349),\n",
       " (0.13133694226056106, 755),\n",
       " (0.13133694226056106, 499),\n",
       " (0.13133694226056106, 175),\n",
       " (0.13133694226056106, 56),\n",
       " (0.13133694226056106, 55),\n",
       " (0.12970905504878466, 1364),\n",
       " (0.12970905504878466, 473),\n",
       " (0.12970905504878466, 421),\n",
       " (0.12970905504878466, 215),\n",
       " (0.12970905504878466, 141),\n",
       " (0.12970905504878466, 139),\n",
       " (0.1265154950015719, 1395),\n",
       " (0.12628384223835748, 1500),\n",
       " (0.12628384223835748, 863),\n",
       " (0.12628384223835748, 673),\n",
       " (0.12628384223835748, 517),\n",
       " (0.12628384223835748, 328),\n",
       " (0.12522756690632358, 1607),\n",
       " (0.12522756690632358, 1477),\n",
       " (0.12522756690632358, 1302),\n",
       " (0.12522756690632358, 1267),\n",
       " (0.12522756690632358, 1138),\n",
       " (0.12522756690632358, 1132),\n",
       " (0.12522756690632358, 1121),\n",
       " (0.12522756690632358, 676),\n",
       " (0.12522756690632358, 428),\n",
       " (0.12522756690632358, 248),\n",
       " (0.12452786306573596, 1606),\n",
       " (0.12452786306573596, 1602),\n",
       " (0.12452786306573596, 1595),\n",
       " (0.12452786306573596, 1354),\n",
       " (0.12452786306573596, 500),\n",
       " (0.12452786306573596, 297),\n",
       " (0.12452786306573596, 272),\n",
       " (0.1211181440034985, 122),\n",
       " (0.12075918038421925, 539),\n",
       " (0.12070626430031639, 1572),\n",
       " (0.12070626430031639, 1252),\n",
       " (0.12070626430031639, 1171),\n",
       " (0.12070626430031639, 701),\n",
       " (0.12070626430031639, 577),\n",
       " (0.12070626430031639, 576),\n",
       " (0.12070626430031639, 406),\n",
       " (0.12043139807181076, 1377),\n",
       " (0.12043139807181076, 1298),\n",
       " (0.12043139807181076, 967),\n",
       " (0.12043139807181076, 882),\n",
       " (0.12043139807181076, 277),\n",
       " (0.12043139807181076, 72),\n",
       " (0.11883756292113418, 1637),\n",
       " (0.11883756292113418, 1556),\n",
       " (0.11883756292113418, 1290),\n",
       " (0.11883756292113418, 908),\n",
       " (0.11883756292113418, 764),\n",
       " (0.1182693947587295, 1341),\n",
       " (0.11716046451516923, 1584),\n",
       " (0.11716046451516923, 1555),\n",
       " (0.11716046451516923, 1541),\n",
       " (0.11716046451516923, 1289),\n",
       " (0.11716046451516923, 492),\n",
       " (0.11716046451516923, 87),\n",
       " (0.11702462644606683, 1636),\n",
       " (0.11702462644606683, 1614),\n",
       " (0.11702462644606683, 1539),\n",
       " (0.11702462644606683, 1484),\n",
       " (0.11702462644606683, 1410),\n",
       " (0.11702462644606683, 1134),\n",
       " (0.11702462644606683, 1066),\n",
       " (0.11702462644606683, 788),\n",
       " (0.11702462644606683, 478),\n",
       " (0.11702462644606683, 461),\n",
       " (0.11429077794082859, 819),\n",
       " (0.1137381065888199, 1264),\n",
       " (0.11007299109946833, 26),\n",
       " (0.10991897002033128, 1152),\n",
       " (0.1096779679783536, 1422),\n",
       " (0.10928440600921271, 1680),\n",
       " (0.10928440600921271, 1679),\n",
       " (0.10928440600921271, 1573),\n",
       " (0.10928440600921271, 1350),\n",
       " (0.10928440600921271, 1279),\n",
       " (0.10928440600921271, 1209),\n",
       " (0.10928440600921271, 1208),\n",
       " (0.10928440600921271, 1100),\n",
       " (0.10928440600921271, 998),\n",
       " (0.10928440600921271, 853),\n",
       " (0.10928440600921271, 593),\n",
       " (0.10928440600921271, 178),\n",
       " (0.10928440600921271, 25),\n",
       " (0.10926542219361575, 547),\n",
       " (0.10888209460325064, 1612),\n",
       " (0.10888209460325064, 1609),\n",
       " (0.10888209460325064, 1394),\n",
       " (0.10888209460325064, 1214),\n",
       " (0.10888209460325064, 1009),\n",
       " (0.10888209460325064, 981),\n",
       " (0.10888209460325064, 883),\n",
       " (0.10888209460325064, 856),\n",
       " (0.10888209460325064, 730),\n",
       " (0.10888209460325064, 653),\n",
       " (0.10857881506056868, 1553),\n",
       " (0.10857881506056868, 350),\n",
       " (0.10857881506056868, 337),\n",
       " (0.10811323776023825, 335),\n",
       " (0.10485469520966725, 1697),\n",
       " (0.10485469520966725, 1695),\n",
       " (0.10485469520966725, 1499),\n",
       " (0.10485469520966725, 1210),\n",
       " (0.10485469520966725, 708),\n",
       " (0.10485469520966725, 658),\n",
       " (0.10485469520966725, 597),\n",
       " (0.10485469520966725, 568),\n",
       " (0.10485469520966725, 276),\n",
       " (0.10485469520966725, 151),\n",
       " (0.103249289564531, 1616),\n",
       " (0.10249555670721697, 1332),\n",
       " (0.10249555670721697, 1041),\n",
       " (0.10249555670721697, 1039),\n",
       " (0.10249555670721697, 949),\n",
       " (0.10249555670721697, 647),\n",
       " (0.10249555670721697, 590),\n",
       " (0.10249555670721697, 579),\n",
       " (0.10249555670721697, 399),\n",
       " (0.10249555670721697, 273),\n",
       " (0.10249555670721697, 102),\n",
       " (0.10208308121867148, 891),\n",
       " (0.10143875372361198, 1256),\n",
       " (0.10143875372361198, 1129),\n",
       " (0.10143875372361198, 893),\n",
       " (0.10143875372361198, 753),\n",
       " (0.10143875372361198, 698),\n",
       " (0.10143875372361198, 648),\n",
       " (0.10143875372361198, 560),\n",
       " (0.10143875372361198, 508),\n",
       " (0.10143875372361198, 505),\n",
       " (0.10143875372361198, 435),\n",
       " (0.10143875372361198, 336),\n",
       " (0.10069335677408281, 1329),\n",
       " (0.10069335677408281, 1245),\n",
       " (0.10069335677408281, 1079),\n",
       " (0.10069335677408281, 1077),\n",
       " (0.10069335677408281, 885),\n",
       " (0.10069335677408281, 638),\n",
       " (0.10069335677408281, 615),\n",
       " (0.10069335677408281, 534),\n",
       " (0.10069335677408281, 383),\n",
       " (0.0985156145834666, 1665),\n",
       " (0.0985156145834666, 1660),\n",
       " (0.0985156145834666, 1543),\n",
       " (0.0985156145834666, 1508),\n",
       " (0.0985156145834666, 1425),\n",
       " (0.0985156145834666, 1343),\n",
       " (0.0985156145834666, 1294),\n",
       " (0.0985156145834666, 1237),\n",
       " (0.0985156145834666, 479),\n",
       " (0.0985156145834666, 458),\n",
       " (0.0985156145834666, 310),\n",
       " (0.0985156145834666, 211),\n",
       " (0.0985156145834666, 29),\n",
       " (0.0978277494975304, 1535),\n",
       " (0.0978277494975304, 1384),\n",
       " (0.0978277494975304, 1313),\n",
       " (0.0978277494975304, 1016),\n",
       " (0.0978277494975304, 769),\n",
       " (0.0978277494975304, 751),\n",
       " (0.0978277494975304, 703),\n",
       " (0.0978277494975304, 634),\n",
       " (0.0978277494975304, 570),\n",
       " (0.0978277494975304, 569),\n",
       " (0.0978277494975304, 405),\n",
       " (0.09526306287444321, 78),\n",
       " (0.09515122242810853, 1657),\n",
       " (0.0941736681047961, 1431),\n",
       " (0.0941736681047961, 1250),\n",
       " (0.0941736681047961, 1179),\n",
       " (0.0941736681047961, 1011),\n",
       " (0.0941736681047961, 858),\n",
       " (0.0941736681047961, 616),\n",
       " (0.0941736681047961, 32),\n",
       " (0.09407308558348544, 737),\n",
       " (0.0936316652824955, 464),\n",
       " (0.09237258585197758, 1700),\n",
       " (0.09237258585197758, 1649),\n",
       " (0.09237258585197758, 1639),\n",
       " (0.09237258585197758, 1590),\n",
       " (0.09237258585197758, 1554),\n",
       " (0.09237258585197758, 1369),\n",
       " (0.09237258585197758, 1240),\n",
       " (0.09237258585197758, 1212),\n",
       " (0.09237258585197758, 1170),\n",
       " (0.09237258585197758, 605),\n",
       " (0.09237258585197758, 588),\n",
       " (0.09237258585197758, 351),\n",
       " (0.09237258585197758, 281),\n",
       " (0.09237258585197758, 225),\n",
       " (0.09237258585197758, 146),\n",
       " (0.09237258585197758, 130),\n",
       " (0.09229274560355714, 1694),\n",
       " (0.09229274560355714, 1476),\n",
       " (0.09229274560355714, 1277),\n",
       " (0.09229274560355714, 880),\n",
       " (0.09229274560355714, 875),\n",
       " (0.09229274560355714, 845),\n",
       " (0.09229274560355714, 833),\n",
       " (0.09229274560355714, 775),\n",
       " (0.09229274560355714, 744),\n",
       " (0.09229274560355714, 682),\n",
       " (0.09229274560355714, 394),\n",
       " (0.09229274560355714, 391),\n",
       " (0.09229274560355714, 164),\n",
       " (0.09229274560355714, 112),\n",
       " (0.09012420494425338, 1018),\n",
       " (0.08898295829222011, 1546),\n",
       " (0.08898295829222011, 1010),\n",
       " (0.08898295829222011, 294),\n",
       " (0.0882485077159293, 1082),\n",
       " (0.0851440631726815, 1376),\n",
       " (0.0846162797800816, 1469),\n",
       " (0.0846162797800816, 1437),\n",
       " (0.0846162797800816, 1401),\n",
       " (0.0846162797800816, 1065),\n",
       " (0.0846162797800816, 919),\n",
       " (0.0846162797800816, 851),\n",
       " (0.0846162797800816, 843),\n",
       " (0.0846162797800816, 785),\n",
       " (0.0846162797800816, 732),\n",
       " (0.0846162797800816, 652),\n",
       " (0.0846162797800816, 573),\n",
       " (0.0846162797800816, 416),\n",
       " (0.0846162797800816, 322),\n",
       " (0.0846162797800816, 217),\n",
       " (0.0846162797800816, 179),\n",
       " (0.0846162797800816, 126),\n",
       " (0.07887249700784968, 1687),\n",
       " (0.07887249700784968, 1516),\n",
       " (0.07887249700784968, 1514),\n",
       " (0.07887249700784968, 961),\n",
       " (0.07887249700784968, 907),\n",
       " (0.07887249700784968, 876),\n",
       " (0.07887249700784968, 812),\n",
       " (0.07887249700784968, 808),\n",
       " (0.07887249700784968, 791),\n",
       " (0.07887249700784968, 702),\n",
       " (0.07887249700784968, 695),\n",
       " (0.07887249700784968, 417),\n",
       " (0.07887249700784968, 378),\n",
       " (0.07887249700784968, 293),\n",
       " (0.07887249700784968, 278),\n",
       " (0.07887249700784968, 231),\n",
       " (0.07754047834132101, 1442),\n",
       " (0.07495235417993203, 1468),\n",
       " (0.07495235417993203, 1232),\n",
       " (0.07495235417993203, 1149),\n",
       " (0.07495235417993203, 1084),\n",
       " (0.07495235417993203, 1068),\n",
       " (0.07495235417993203, 972),\n",
       " (0.07495235417993203, 954),\n",
       " (0.07495235417993203, 937),\n",
       " (0.07495235417993203, 603),\n",
       " (0.07495235417993203, 521),\n",
       " (0.07495235417993203, 514),\n",
       " (0.07495235417993203, 490),\n",
       " (0.07495235417993203, 386),\n",
       " (0.07495235417993203, 317),\n",
       " (0.07495235417993203, 257),\n",
       " (0.07495235417993203, 245),\n",
       " (0.07495235417993203, 129),\n",
       " (0.07495235417993203, 128),\n",
       " (0.07490560462800991, 601),\n",
       " (0.0746555825086576, 1528),\n",
       " (0.0746555825086576, 1527),\n",
       " (0.0746555825086576, 1379),\n",
       " (0.0746555825086576, 1217),\n",
       " (0.0746555825086576, 1139),\n",
       " (0.0746555825086576, 1098),\n",
       " (0.0746555825086576, 1069),\n",
       " (0.0746555825086576, 1040),\n",
       " (0.0746555825086576, 1031),\n",
       " (0.0746555825086576, 956),\n",
       " (0.0746555825086576, 928),\n",
       " (0.0746555825086576, 911),\n",
       " (0.0746555825086576, 910),\n",
       " (0.0746555825086576, 849),\n",
       " (0.0746555825086576, 537),\n",
       " (0.0746555825086576, 457),\n",
       " (0.0746555825086576, 71),\n",
       " (0.0746555825086576, 69),\n",
       " (0.0746555825086576, 59),\n",
       " (0.07148986724311657, 1095),\n",
       " (0.07148986724311657, 1058),\n",
       " (0.06771774254461636, 1647),\n",
       " (0.06771774254461636, 1620),\n",
       " (0.06771774254461636, 1568),\n",
       " (0.06771774254461636, 1565),\n",
       " (0.06771774254461636, 1551),\n",
       " (0.06771774254461636, 1449),\n",
       " (0.06771774254461636, 1160),\n",
       " (0.06771774254461636, 1093),\n",
       " (0.06771774254461636, 906),\n",
       " (0.06771774254461636, 842),\n",
       " (0.06771774254461636, 815),\n",
       " (0.06771774254461636, 786),\n",
       " (0.06771774254461636, 749),\n",
       " (0.06771774254461636, 721),\n",
       " (0.06771774254461636, 441),\n",
       " (0.06771774254461636, 395),\n",
       " (0.06771774254461636, 331),\n",
       " (0.06771774254461636, 167),\n",
       " (0.06771774254461636, 125),\n",
       " (0.06771774254461636, 100),\n",
       " (0.06771774254461636, 99),\n",
       " (0.06771774254461636, 31),\n",
       " (0.06771774254461636, 14),\n",
       " (0.06768984366903996, 1668),\n",
       " (0.06768984366903996, 1589),\n",
       " (0.06768984366903996, 1544),\n",
       " (0.06768984366903996, 1532),\n",
       " (0.06768984366903996, 1503),\n",
       " (0.06768984366903996, 1308),\n",
       " (0.06768984366903996, 1175),\n",
       " (0.06768984366903996, 1133),\n",
       " (0.06768984366903996, 620),\n",
       " (0.06768984366903996, 522),\n",
       " (0.06768984366903996, 476),\n",
       " (0.06768984366903996, 452),\n",
       " (0.06768984366903996, 434),\n",
       " (0.06768984366903996, 419),\n",
       " (0.06768984366903996, 140),\n",
       " (0.06768984366903996, 30),\n",
       " (0.06592422515977951, 859),\n",
       " (0.0657991015163237, 1692),\n",
       " (0.0657991015163237, 1525),\n",
       " (0.0657991015163237, 1413),\n",
       " (0.0657991015163237, 1180),\n",
       " (0.0657991015163237, 1176),\n",
       " (0.0657991015163237, 1020),\n",
       " (0.0657991015163237, 608),\n",
       " (0.0657991015163237, 463),\n",
       " (0.0657991015163237, 84),\n",
       " (0.06545959583850516, 1586),\n",
       " (0.0643993455899231, 206),\n",
       " (0.05713629417829842, 115),\n",
       " (0.05689834828314329, 498),\n",
       " (0.05686905329440995, 1683),\n",
       " (0.05686905329440995, 1598),\n",
       " (0.05686905329440995, 1563),\n",
       " (0.05686905329440995, 1526),\n",
       " (0.05686905329440995, 1454),\n",
       " (0.05686905329440995, 1421),\n",
       " (0.05686905329440995, 1398),\n",
       " (0.05686905329440995, 1168),\n",
       " (0.05686905329440995, 1148),\n",
       " (0.05686905329440995, 1109),\n",
       " (0.05686905329440995, 1019),\n",
       " (0.05686905329440995, 982),\n",
       " (0.05686905329440995, 909),\n",
       " (0.05686905329440995, 765),\n",
       " (0.05686905329440995, 706),\n",
       " (0.05686905329440995, 584),\n",
       " (0.05686905329440995, 567),\n",
       " (0.05686905329440995, 397),\n",
       " (0.05686905329440995, 275),\n",
       " (0.05686905329440995, 255),\n",
       " (0.05686905329440995, 253),\n",
       " (0.05686905329440995, 66),\n",
       " (0.05686905329440995, 33),\n",
       " (0.05104154060933574, 1610),\n",
       " (0.05104154060933574, 1604),\n",
       " (0.05104154060933574, 1603),\n",
       " (0.05104154060933574, 1594),\n",
       " (0.05104154060933574, 1587),\n",
       " (0.05104154060933574, 1549),\n",
       " (0.05104154060933574, 1518),\n",
       " (0.05104154060933574, 1483),\n",
       " (0.05104154060933574, 1451),\n",
       " (0.05104154060933574, 1433),\n",
       " (0.05104154060933574, 1399),\n",
       " (0.05104154060933574, 1388),\n",
       " (0.05104154060933574, 1346),\n",
       " (0.05104154060933574, 1335),\n",
       " (0.05104154060933574, 1319),\n",
       " (0.05104154060933574, 1312),\n",
       " (0.05104154060933574, 1291),\n",
       " (0.05104154060933574, 1157),\n",
       " (0.05104154060933574, 1044),\n",
       " (0.05104154060933574, 930),\n",
       " (0.05104154060933574, 914),\n",
       " (0.05104154060933574, 913),\n",
       " (0.05104154060933574, 846),\n",
       " (0.05104154060933574, 720),\n",
       " (0.05104154060933574, 677),\n",
       " (0.05104154060933574, 619),\n",
       " (0.05104154060933574, 606),\n",
       " (0.05104154060933574, 592),\n",
       " (0.05104154060933574, 538),\n",
       " (0.05104154060933574, 507),\n",
       " (0.05104154060933574, 459),\n",
       " (0.05104154060933574, 442),\n",
       " (0.05104154060933574, 411),\n",
       " (0.05104154060933574, 381),\n",
       " (0.05104154060933574, 377),\n",
       " (0.05104154060933574, 376),\n",
       " (0.05104154060933574, 333),\n",
       " (0.05104154060933574, 323),\n",
       " (0.05104154060933574, 312),\n",
       " (0.05104154060933574, 158),\n",
       " (0.05104154060933574, 157),\n",
       " (0.05104154060933574, 155),\n",
       " (0.05104154060933574, 145),\n",
       " (0.05104154060933574, 113),\n",
       " (0.05104154060933574, 93),\n",
       " (0.05104154060933574, 57),\n",
       " (0.04997989769075752, 933),\n",
       " (0.0491594971684197, 1691),\n",
       " (0.0491594971684197, 1671),\n",
       " (0.0491594971684197, 1592),\n",
       " (0.0491594971684197, 1569),\n",
       " (0.0491594971684197, 1504),\n",
       " (0.0491594971684197, 1496),\n",
       " (0.0491594971684197, 1495),\n",
       " (0.0491594971684197, 1479),\n",
       " (0.0491594971684197, 1374),\n",
       " (0.0491594971684197, 1316),\n",
       " (0.0491594971684197, 1314),\n",
       " (0.0491594971684197, 1296),\n",
       " (0.0491594971684197, 1241),\n",
       " (0.0491594971684197, 1230),\n",
       " (0.0491594971684197, 1227),\n",
       " (0.0491594971684197, 1155),\n",
       " (0.0491594971684197, 1130),\n",
       " (0.0491594971684197, 1125),\n",
       " (0.0491594971684197, 1072),\n",
       " (0.0491594971684197, 1027),\n",
       " (0.0491594971684197, 962),\n",
       " (0.0491594971684197, 905),\n",
       " (0.0491594971684197, 840),\n",
       " (0.0491594971684197, 828),\n",
       " (0.0491594971684197, 760),\n",
       " (0.0491594971684197, 742),\n",
       " (0.0491594971684197, 741),\n",
       " (0.0491594971684197, 712),\n",
       " (0.0491594971684197, 709),\n",
       " (0.0491594971684197, 707),\n",
       " (0.0491594971684197, 675),\n",
       " (0.0491594971684197, 663),\n",
       " (0.0491594971684197, 659),\n",
       " (0.0491594971684197, 633),\n",
       " (0.0491594971684197, 512),\n",
       " (0.0491594971684197, 483),\n",
       " (0.0491594971684197, 439),\n",
       " (0.0491594971684197, 367),\n",
       " (0.0491594971684197, 364),\n",
       " (0.0491594971684197, 326),\n",
       " (0.0491594971684197, 304),\n",
       " (0.0491594971684197, 269),\n",
       " (0.0491594971684197, 252),\n",
       " (0.0491594971684197, 226),\n",
       " (0.0491594971684197, 222),\n",
       " (0.0491594971684197, 213),\n",
       " (0.0491594971684197, 190),\n",
       " (0.0491594971684197, 103),\n",
       " (0.0491594971684197, 96),\n",
       " (0.0491594971684197, 95),\n",
       " (0.0491594971684197, 9),\n",
       " (0.0491594971684197, 7),\n",
       " (0.0491594971684197, 2),\n",
       " (0.0476624366965114, 1002),\n",
       " (0.044491479146110055, 1699),\n",
       " (0.044491479146110055, 1627),\n",
       " (0.044491479146110055, 1625),\n",
       " (0.044491479146110055, 1605),\n",
       " (0.044491479146110055, 1582),\n",
       " (0.044491479146110055, 1575),\n",
       " (0.044491479146110055, 1548),\n",
       " (0.044491479146110055, 1547),\n",
       " (0.044491479146110055, 1545),\n",
       " (0.044491479146110055, 1524),\n",
       " (0.044491479146110055, 1488),\n",
       " (0.044491479146110055, 1345),\n",
       " (0.044491479146110055, 1286),\n",
       " (0.044491479146110055, 1281),\n",
       " (0.044491479146110055, 1265),\n",
       " (0.044491479146110055, 1251),\n",
       " (0.044491479146110055, 1229),\n",
       " (0.044491479146110055, 1213),\n",
       " (0.044491479146110055, 1204),\n",
       " (0.044491479146110055, 1167),\n",
       " (0.044491479146110055, 1128),\n",
       " (0.044491479146110055, 1118),\n",
       " (0.044491479146110055, 1105),\n",
       " (0.044491479146110055, 1102),\n",
       " (0.044491479146110055, 1071),\n",
       " (0.044491479146110055, 1070),\n",
       " (0.044491479146110055, 1014),\n",
       " (0.044491479146110055, 1013),\n",
       " (0.044491479146110055, 993),\n",
       " (0.044491479146110055, 992),\n",
       " (0.044491479146110055, 970),\n",
       " (0.044491479146110055, 890),\n",
       " (0.044491479146110055, 872),\n",
       " (0.044491479146110055, 771),\n",
       " (0.044491479146110055, 618),\n",
       " (0.044491479146110055, 564),\n",
       " (0.044491479146110055, 543),\n",
       " (0.044491479146110055, 466),\n",
       " (0.044491479146110055, 438),\n",
       " (0.044491479146110055, 429),\n",
       " (0.044491479146110055, 410),\n",
       " (0.044491479146110055, 388),\n",
       " (0.044491479146110055, 365),\n",
       " (0.044491479146110055, 355),\n",
       " (0.044491479146110055, 353),\n",
       " (0.044491479146110055, 291),\n",
       " (0.044491479146110055, 262),\n",
       " (0.044491479146110055, 261),\n",
       " (0.044491479146110055, 235),\n",
       " (0.044491479146110055, 230),\n",
       " (0.044491479146110055, 182),\n",
       " (0.044491479146110055, 98),\n",
       " (0.044491479146110055, 97),\n",
       " (0.044491479146110055, 86),\n",
       " (0.044491479146110055, 80),\n",
       " (0.044491479146110055, 45),\n",
       " (0.044491479146110055, 28),\n",
       " (0.044491479146110055, 23),\n",
       " (0.044491479146110055, 19),\n",
       " (0.04415605298109556, 504),\n",
       " (0.04331683572323581, 510),\n",
       " (0.037068912712690916, 548),\n",
       " (0.035584443908422726, 1173),\n",
       " (0.034181025555714055, 1108),\n",
       " (0.03363608623077051, 1623),\n",
       " (0.033572736925105914, 892),\n",
       " (0.033292149745890946, 1103),\n",
       " (0.03289955075816185, 1702),\n",
       " (0.03289955075816185, 1666),\n",
       " (0.03289955075816185, 1659),\n",
       " (0.03289955075816185, 1652),\n",
       " (0.03289955075816185, 1613),\n",
       " (0.03289955075816185, 1564),\n",
       " (0.03289955075816185, 1537),\n",
       " (0.03289955075816185, 1529),\n",
       " (0.03289955075816185, 1519),\n",
       " (0.03289955075816185, 1490),\n",
       " (0.03289955075816185, 1471),\n",
       " (0.03289955075816185, 1426),\n",
       " (0.03289955075816185, 1404),\n",
       " (0.03289955075816185, 1366),\n",
       " (0.03289955075816185, 1327),\n",
       " (0.03289955075816185, 1311),\n",
       " (0.03289955075816185, 1305),\n",
       " (0.03289955075816185, 1304),\n",
       " (0.03289955075816185, 1268),\n",
       " (0.03289955075816185, 1260),\n",
       " (0.03289955075816185, 1224),\n",
       " (0.03289955075816185, 1223),\n",
       " (0.03289955075816185, 1222),\n",
       " (0.03289955075816185, 1221),\n",
       " (0.03289955075816185, 1183),\n",
       " (0.03289955075816185, 1182),\n",
       " (0.03289955075816185, 1172),\n",
       " (0.03289955075816185, 1169),\n",
       " (0.03289955075816185, 1163),\n",
       " (0.03289955075816185, 1141),\n",
       " (0.03289955075816185, 1113),\n",
       " (0.03289955075816185, 1106),\n",
       " (0.03289955075816185, 1074),\n",
       " (0.03289955075816185, 1053),\n",
       " (0.03289955075816185, 1030),\n",
       " (0.03289955075816185, 1024),\n",
       " (0.03289955075816185, 1022),\n",
       " (0.03289955075816185, 1021),\n",
       " (0.03289955075816185, 1017),\n",
       " (0.03289955075816185, 1006),\n",
       " (0.03289955075816185, 1005),\n",
       " (0.03289955075816185, 995),\n",
       " (0.03289955075816185, 943),\n",
       " (0.03289955075816185, 934),\n",
       " (0.03289955075816185, 896),\n",
       " (0.03289955075816185, 895),\n",
       " (0.03289955075816185, 857),\n",
       " (0.03289955075816185, 854),\n",
       " (0.03289955075816185, 774),\n",
       " (0.03289955075816185, 773),\n",
       " (0.03289955075816185, 772),\n",
       " (0.03289955075816185, 766),\n",
       " (0.03289955075816185, 758),\n",
       " (0.03289955075816185, 748),\n",
       " (0.03289955075816185, 746),\n",
       " (0.03289955075816185, 694),\n",
       " (0.03289955075816185, 690),\n",
       " (0.03289955075816185, 687),\n",
       " (0.03289955075816185, 684),\n",
       " (0.03289955075816185, 679),\n",
       " (0.03289955075816185, 678),\n",
       " (0.03289955075816185, 661),\n",
       " (0.03289955075816185, 657),\n",
       " (0.03289955075816185, 644),\n",
       " (0.03289955075816185, 518),\n",
       " (0.03289955075816185, 496),\n",
       " (0.03289955075816185, 462),\n",
       " (0.03289955075816185, 430),\n",
       " (0.03289955075816185, 402),\n",
       " (0.03289955075816185, 392),\n",
       " (0.03289955075816185, 390),\n",
       " (0.03289955075816185, 340),\n",
       " (0.03289955075816185, 314),\n",
       " (0.03289955075816185, 311),\n",
       " (0.03289955075816185, 258),\n",
       " (0.03289955075816185, 241),\n",
       " (0.03289955075816185, 237),\n",
       " (0.03289955075816185, 223),\n",
       " (0.03289955075816185, 199),\n",
       " (0.03289955075816185, 196),\n",
       " (0.03289955075816185, 180),\n",
       " (0.03289955075816185, 170),\n",
       " (0.03289955075816185, 156),\n",
       " (0.03289955075816185, 153),\n",
       " (0.03289955075816185, 147),\n",
       " (0.03289955075816185, 101),\n",
       " (0.03289955075816185, 54),\n",
       " (0.03289955075816185, 4),\n",
       " (0.03266998278894739, 513),\n",
       " (0.029266957048672916, 1049),\n",
       " (0.02647341043486827, 1440),\n",
       " (0.024510342473518385, 777),\n",
       " (0.018517998919293916, 574),\n",
       " (0.01799867903759154, 1116),\n",
       " (0.017630140996649585, 8),\n",
       " (0.016783409246102388, 1052),\n",
       " (0.013541206156378383, 1646),\n",
       " (0.012887519317870449, 6),\n",
       " (0.01210917791514395, 922),\n",
       " (0.009540103940611203, 1159),\n",
       " (0.008594037808172037, 188),\n",
       " (0.008158048589812159, 106),\n",
       " (0.007954783714565965, 1073),\n",
       " (0.007063674064950739, 88),\n",
       " (0.006419513311197922, 1631),\n",
       " (0.004302859403088002, 969),\n",
       " (0.002087714766011336, 598),\n",
       " (0.00037184044672933345, 932),\n",
       " (-0.0023801040618506597, 728),\n",
       " (-0.003429148254767777, 1686),\n",
       " (-0.003429148254767777, 1269),\n",
       " (-0.0039247235511691075, 587),\n",
       " (-0.004517149168356455, 714),\n",
       " (-0.005775819104874306, 136),\n",
       " (-0.006991902977015837, 324),\n",
       " (-0.007752121754337108, 77),\n",
       " (-0.008039561535949188, 1083),\n",
       " (-0.009346053898759313, 1470),\n",
       " (-0.012782782217154681, 870),\n",
       " (-0.013347937784724137, 1122),\n",
       " (-0.019060176998021205, 1693),\n",
       " (-0.020935603404576262, 639),\n",
       " (-0.02295140797694029, 1056),\n",
       " (-0.024360410526533968, 105),\n",
       " (-0.02612542350476507, 300),\n",
       " (-0.028390979144827612, 511),\n",
       " (-0.03316274871645801, 185),\n",
       " (-0.0334895499575838, 803),\n",
       " (-0.03454336525036222, 600),\n",
       " (-0.03560205036833731, 1419),\n",
       " (-0.035985690382550305, 1064),\n",
       " (-0.036338154091862016, 1361),\n",
       " (-0.03924465435580177, 723),\n",
       " (-0.040612516930614045, 183),\n",
       " (-0.04221008229612357, 1685),\n",
       " (-0.04221008229612357, 1658),\n",
       " (-0.04221008229612357, 1655),\n",
       " (-0.04221008229612357, 1630),\n",
       " (-0.04221008229612357, 1486),\n",
       " (-0.04221008229612357, 1481),\n",
       " (-0.04221008229612357, 1480),\n",
       " (-0.04221008229612357, 1436),\n",
       " (-0.04221008229612357, 1412),\n",
       " (-0.04221008229612357, 1408),\n",
       " (-0.04221008229612357, 1407),\n",
       " (-0.04221008229612357, 1358),\n",
       " (-0.04221008229612357, 1357),\n",
       " (-0.04221008229612357, 1344),\n",
       " (-0.04221008229612357, 1330),\n",
       " (-0.04221008229612357, 1272),\n",
       " (-0.04221008229612357, 1266),\n",
       " (-0.04221008229612357, 1239),\n",
       " (-0.04221008229612357, 1207),\n",
       " (-0.04221008229612357, 1186),\n",
       " (-0.04221008229612357, 1185),\n",
       " (-0.04221008229612357, 1178),\n",
       " (-0.04221008229612357, 1085),\n",
       " (-0.04221008229612357, 1061),\n",
       " (-0.04221008229612357, 1007),\n",
       " (-0.04221008229612357, 987),\n",
       " (-0.04221008229612357, 983),\n",
       " (-0.04221008229612357, 980),\n",
       " (-0.04221008229612357, 929),\n",
       " (-0.04221008229612357, 917),\n",
       " (-0.04221008229612357, 866),\n",
       " (-0.04221008229612357, 850),\n",
       " (-0.04221008229612357, 822),\n",
       " (-0.04221008229612357, 818),\n",
       " (-0.04221008229612357, 800),\n",
       " (-0.04221008229612357, 686),\n",
       " (-0.04221008229612357, 662),\n",
       " (-0.04221008229612357, 519),\n",
       " (-0.04221008229612357, 482),\n",
       " (-0.04221008229612357, 436),\n",
       " (-0.04221008229612357, 408),\n",
       " (-0.04221008229612357, 401),\n",
       " (-0.04221008229612357, 393),\n",
       " (-0.04221008229612357, 347),\n",
       " (-0.04221008229612357, 316),\n",
       " (-0.04221008229612357, 315),\n",
       " (-0.04221008229612357, 313),\n",
       " (-0.04221008229612357, 285),\n",
       " (-0.04221008229612357, 263),\n",
       " (-0.04221008229612357, 221),\n",
       " (-0.04221008229612357, 177),\n",
       " (-0.04221008229612357, 176),\n",
       " (-0.04221008229612357, 166),\n",
       " (-0.04221008229612357, 104),\n",
       " (-0.04221008229612357, 79),\n",
       " (-0.04221008229612357, 49),\n",
       " (-0.04221008229612357, 48),\n",
       " (-0.04221008229612357, 38),\n",
       " (-0.04221008229612357, 37),\n",
       " (-0.04221008229612357, 16),\n",
       " (-0.04820368795786257, 1645),\n",
       " (-0.04820368795786257, 1618),\n",
       " (-0.04820368795786257, 1596),\n",
       " (-0.04820368795786257, 1448),\n",
       " (-0.04820368795786257, 1447),\n",
       " (-0.04820368795786257, 1403),\n",
       " (-0.04820368795786257, 1339),\n",
       " (-0.04820368795786257, 1337),\n",
       " (-0.04820368795786257, 1336),\n",
       " (-0.04820368795786257, 1331),\n",
       " (-0.04820368795786257, 1307),\n",
       " (-0.04820368795786257, 1188),\n",
       " (-0.04820368795786257, 1184),\n",
       " (-0.04820368795786257, 1151),\n",
       " (-0.04820368795786257, 1119),\n",
       " (-0.04820368795786257, 979),\n",
       " (-0.04820368795786257, 795),\n",
       " (-0.04820368795786257, 793),\n",
       " (-0.04820368795786257, 770),\n",
       " (-0.04820368795786257, 752),\n",
       " (-0.04820368795786257, 750),\n",
       " (-0.04820368795786257, 747),\n",
       " (-0.04820368795786257, 726),\n",
       " (-0.04820368795786257, 716),\n",
       " (-0.04820368795786257, 710),\n",
       " (-0.04820368795786257, 642),\n",
       " (-0.04820368795786257, 565),\n",
       " (-0.04820368795786257, 562),\n",
       " (-0.04820368795786257, 535),\n",
       " (-0.04820368795786257, 404),\n",
       " (-0.04820368795786257, 341),\n",
       " (-0.04820368795786257, 339),\n",
       " (-0.04820368795786257, 239),\n",
       " (-0.04820368795786257, 204),\n",
       " (-0.04820368795786257, 135),\n",
       " (-0.04820368795786257, 123),\n",
       " (-0.04820368795786257, 111),\n",
       " (-0.04820368795786257, 90),\n",
       " (-0.04820368795786257, 62),\n",
       " (-0.04820368795786257, 61),\n",
       " (-0.04820368795786257, 39),\n",
       " (-0.04820368795786257, 21),\n",
       " (-0.04820368795786257, 20),\n",
       " (-0.049643448657872576, 903),\n",
       " (-0.052725181526091625, 1197),\n",
       " (-0.05393347816381212, 191),\n",
       " (-0.054609007191113695, 1591),\n",
       " (-0.054609007191113695, 1540),\n",
       " (-0.054609007191113695, 1497),\n",
       " (-0.054609007191113695, 1491),\n",
       " (-0.054609007191113695, 1474),\n",
       " (-0.054609007191113695, 1423),\n",
       " (-0.054609007191113695, 1418),\n",
       " (-0.054609007191113695, 1371),\n",
       " (-0.054609007191113695, 1280),\n",
       " (-0.054609007191113695, 1234),\n",
       " (-0.054609007191113695, 1206),\n",
       " (-0.054609007191113695, 1198),\n",
       " (-0.054609007191113695, 1189),\n",
       " (-0.054609007191113695, 1137),\n",
       " (-0.054609007191113695, 1136),\n",
       " (-0.054609007191113695, 1090),\n",
       " (-0.054609007191113695, 1038),\n",
       " (-0.054609007191113695, 881),\n",
       " (-0.054609007191113695, 754),\n",
       " (-0.054609007191113695, 624),\n",
       " (-0.054609007191113695, 623),\n",
       " (-0.054609007191113695, 555),\n",
       " (-0.054609007191113695, 486),\n",
       " (-0.054609007191113695, 432),\n",
       " (-0.054609007191113695, 412),\n",
       " (-0.054609007191113695, 362),\n",
       " (-0.054609007191113695, 352),\n",
       " (-0.054609007191113695, 349),\n",
       " (-0.054609007191113695, 301),\n",
       " (-0.054609007191113695, 298),\n",
       " (-0.054609007191113695, 271),\n",
       " (-0.054609007191113695, 229),\n",
       " (-0.054609007191113695, 212),\n",
       " (-0.054609007191113695, 201),\n",
       " (-0.054609007191113695, 172),\n",
       " (-0.054609007191113695, 110),\n",
       " (-0.054609007191113695, 94),\n",
       " (-0.054609007191113695, 85),\n",
       " (-0.05529023219917462, 1664),\n",
       " (-0.05529023219917462, 1576),\n",
       " (-0.05529023219917462, 1570),\n",
       " (-0.05529023219917462, 1263),\n",
       " (-0.05529023219917462, 1262),\n",
       " (-0.05529023219917462, 1254),\n",
       " (-0.05529023219917462, 1253),\n",
       " (-0.05529023219917462, 1242),\n",
       " (-0.05529023219917462, 1191),\n",
       " (-0.05529023219917462, 1135),\n",
       " (-0.05529023219917462, 1043),\n",
       " (-0.05529023219917462, 977),\n",
       " (-0.05529023219917462, 814),\n",
       " (-0.05529023219917462, 735),\n",
       " (-0.05529023219917462, 688),\n",
       " (-0.05529023219917462, 667),\n",
       " ...]"
      ]
     },
     "execution_count": 54,
     "metadata": {},
     "output_type": "execute_result"
    }
   ],
   "source": [
    "coef_pos_idx"
   ]
  },
  {
   "cell_type": "code",
   "execution_count": 55,
   "id": "4818e137",
   "metadata": {},
   "outputs": [
    {
     "name": "stdout",
     "output_type": "stream",
     "text": [
      "맛있어요 0.715805240401717\n",
      "좋아요 0.6872272669569012\n",
      "진짜 0.6419495433245718\n",
      "맛있음 0.5728940731338319\n",
      "갑니다 0.5557413464304156\n",
      "신촌 0.5284914072179014\n",
      "맛있는 0.4638125900212737\n",
      "먹었습니다 0.43233269632965626\n",
      "추천 0.42904025375565\n",
      "맛있었어요 0.38475260398946487\n",
      "쟁반짜장 0.37734606377535107\n",
      "조금 0.37708098782264954\n",
      "파이 0.36683013892968935\n",
      "마늘바게트 0.36473710836227247\n",
      "최고 0.3646958935596621\n",
      "좋은 0.3621392651924492\n",
      "웨이팅이 0.35379862356486375\n",
      "존맛 0.341750161724604\n",
      "감사 0.33799742254248627\n",
      "미쳤어요 0.3375285172637402\n"
     ]
    }
   ],
   "source": [
    "# 상위 20개 긍정 형태소\n",
    "for value, idx in coef_pos_idx[:20]:\n",
    "    print(tfidf.get_feature_names_out()[idx], value)"
   ]
  },
  {
   "cell_type": "code",
   "execution_count": 56,
   "id": "f72286f1",
   "metadata": {},
   "outputs": [
    {
     "name": "stdout",
     "output_type": "stream",
     "text": [
      "무난 -0.38867925552594207\n",
      "아하 -0.38867925552594207\n",
      "그냥 -0.3771399648151579\n",
      "없음 -0.354237114162564\n",
      "가게 -0.34452948373926456\n",
      "시끄러움 -0.3379012401339706\n",
      "굳이 -0.3306124094759467\n",
      "맛이 -0.3229314537226864\n",
      "갈비탕 -0.3178080737713316\n",
      "갔는데 -0.3133974234683808\n",
      "아까움 -0.2748377372889325\n",
      "하나도 -0.2748377372889325\n",
      "맛은 -0.2702237756826561\n",
      "인분 -0.26931156301693904\n",
      "가지마 -0.2576321432376288\n",
      "실망이 -0.25604483754890756\n",
      "크네요 -0.25604483754890756\n",
      "여기가 -0.25535786750748724\n",
      "서비스 -0.2490740041799796\n"
     ]
    }
   ],
   "source": [
    "# 상위 20개 부정 형태소\n",
    "for value, idx in coef_pos_idx[:-20:-1]:\n",
    "    print(tfidf.get_feature_names_out()[idx], value)"
   ]
  },
  {
   "cell_type": "code",
   "execution_count": null,
   "id": "385b2ff0",
   "metadata": {},
   "outputs": [],
   "source": []
  }
 ],
 "metadata": {
  "kernelspec": {
   "display_name": "Python 3 (ipykernel)",
   "language": "python",
   "name": "python3"
  },
  "language_info": {
   "codemirror_mode": {
    "name": "ipython",
    "version": 3
   },
   "file_extension": ".py",
   "mimetype": "text/x-python",
   "name": "python",
   "nbconvert_exporter": "python",
   "pygments_lexer": "ipython3",
   "version": "3.11.3"
  }
 },
 "nbformat": 4,
 "nbformat_minor": 5
}
