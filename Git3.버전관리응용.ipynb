{
 "cells": [
  {
   "cell_type": "markdown",
   "id": "2cb919a3",
   "metadata": {},
   "source": [
    "# 버전 비교"
   ]
  },
  {
   "cell_type": "markdown",
   "id": "0908bfcd",
   "metadata": {},
   "source": [
    "- 각 버전이 이전의 버전에 비해 무엇이 바뀌었는지는 History에서 확인 가능\n",
    "    - 개별 커밋을 클릭하여 확인 가능\n",
    "- 버전별 비교\n",
    "    - 각 버전의 파일 내용을 확인할 수 있음"
   ]
  },
  {
   "cell_type": "markdown",
   "id": "207b32ca",
   "metadata": {},
   "source": [
    "# 작업 되돌리기"
   ]
  },
  {
   "cell_type": "markdown",
   "id": "2f6660d2",
   "metadata": {},
   "source": [
    "- 버전이 만들어지는 과정은\n",
    "    1. 작업 디렉토리에서 변경 사항 생성하기\n",
    "    2. 스테이지로 올리기\n",
    "    3. 커밋하기\n",
    "- 스테이지에 올라간 파일은 스테이지에서 내리기로 되돌릴 수 있음\n",
    "- 스테이지에 올라가지 않은 파일 되돌리기를 하려면 폐기를 이용\n",
    "    - 소스트리 파일에서 우클릭 후 폐기\n",
    "        - 해당 파일의 수정 사항이 되돌아감\n",
    "    - 막 생성된 파일은 폐기 불가능\n",
    "        - 새롭게 만들어진 파일의 변경 사항을 취소한다 => 파일이 만들어지기 전으로 돌아가겠다 => 파일을 제거하겠다\n",
    "        - 따라서 방금 생성한 파일의 작업을 되돌리려면 제거를 선택"
   ]
  },
  {
   "cell_type": "markdown",
   "id": "9500f056",
   "metadata": {},
   "source": [
    "# 커밋 되돌리기"
   ]
  },
  {
   "cell_type": "markdown",
   "id": "bc88ff94",
   "metadata": {},
   "source": [
    "- 커밋한 내용을 되돌리는 방법은 크게 두가지가 있음\n",
    "    - revert\n",
    "        - 버전을 되돌리되, 되돌아간 상태에 대한 새로운 버전(커밋)을 만드는 방식\n",
    "        - 기존의 버전은 삭제되지 않음\n",
    "            - 예) 5버전에서 4버전으로 돌아가고 싶다면 4버전으로 돌아간 상태의 6버전이 만들어짐\n",
    "    - reset\n",
    "        - 되돌아갈 버전의 시점으로 완전하게 되돌아가는 방식\n",
    "        - 되돌아갈 버전 이후의 버전은 삭제됨\n",
    "        - reset은 크게 세 종류 soft reset, mixed reset, hard reset이 있음\n",
    "        - soft reset\n",
    "            - 작업 디렉토리 내 변경 사항과 스테이지에 추가된 변경 사항은 유지하되 커밋했다는 사실만 되돌리는 reset\n",
    "        - mixed reset\n",
    "            - 작업 디렉토리 내 변경 사항은 유지하되, 스테이지와 커밋을 되돌리는 reset\n",
    "        - hard reset\n",
    "            - 작업 디렉토리 내 변경사항까지 통째로 되돌리는 reset"
   ]
  },
  {
   "cell_type": "markdown",
   "id": "821af89f",
   "metadata": {},
   "source": [
    "# 작업 임시 저장"
   ]
  },
  {
   "cell_type": "markdown",
   "id": "c8082bd6",
   "metadata": {},
   "source": [
    "- 깃은 스태시(stash)라는 임시 저장 기능을 지원함\n",
    "    - 개발 과정에서 작업 내역이 마음에는 들지 않지만 버릴 수는 없는 경우\n",
    "    - 갑작스럽게 다른 일을 먼저 처리해야 하는 경우\n",
    "- 스태시를 사용하면 작업 디렉토리에서 생성한 모든 변경사항이 임시저장되고, 변경 사항이 생기기 전의 깨끗한 상태로 돌아감"
   ]
  },
  {
   "cell_type": "code",
   "execution_count": null,
   "id": "bf8228cc",
   "metadata": {},
   "outputs": [],
   "source": []
  }
 ],
 "metadata": {
  "kernelspec": {
   "display_name": "Python 3 (ipykernel)",
   "language": "python",
   "name": "python3"
  },
  "language_info": {
   "codemirror_mode": {
    "name": "ipython",
    "version": 3
   },
   "file_extension": ".py",
   "mimetype": "text/x-python",
   "name": "python",
   "nbconvert_exporter": "python",
   "pygments_lexer": "ipython3",
   "version": "3.11.3"
  }
 },
 "nbformat": 4,
 "nbformat_minor": 5
}
