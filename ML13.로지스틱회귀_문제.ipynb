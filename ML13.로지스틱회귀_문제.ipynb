{
 "cells": [
  {
   "cell_type": "markdown",
   "metadata": {},
   "source": [
    "# 로지스틱 회귀 분석"
   ]
  },
  {
   "cell_type": "markdown",
   "metadata": {},
   "source": [
    "## 이진 고객 이탈"
   ]
  },
  {
   "cell_type": "markdown",
   "metadata": {},
   "source": [
    "고객의 웹사이트 광고를 제공하는 마케팅 대행사에서 당사의 고객이탈율이 꽤 높다는 사실을 알게됐습니다.<br>\n",
    "그 회사에서는 즉시 고객 관리자들을 할당했지만, 어떤 고객이 이탈 할 것인지 예측하는 기계학습 모델을 만들어서 가장 이탈확률이 높은 고객에게 우선적으로 고객 관리자를 배치할 수 있기를 원합니다.<br>\n",
    "고객이 잠재적 이탈 고객인지 여부를 분류하는 분류모델을 만드세요."
   ]
  },
  {
   "cell_type": "markdown",
   "metadata": {},
   "source": [
    "데이터는 customer_churn.csv로 저장돼있습니다. 아래는 각 컬럼의 정의입니다.\n",
    "- Name : 회사의 최근 담당자의 이름\n",
    "- Age : 고객의 나이\n",
    "- Total_Purchase : 구매한 총 광고\n",
    "- Account_Manager : 바이너리 0 = 고객 관리자 없음, 1 = 고객 관리자 할당됨\n",
    "- Years : 거래 유지 연도수\n",
    "- Num_sites : 서비스를 이용 중인 웹사이트 수\n",
    "- Onboard_date : 마지막 연락처가 등록된 날짜\n",
    "- Location : 고객 사무실 주소\n",
    "- Company : 고객 회사의 이름"
   ]
  },
  {
   "cell_type": "markdown",
   "metadata": {},
   "source": [
    "모델 생성 후에는 고객이 제공하는 new_customers.csv 파일에 저장된 새로운 데이터에 대한 예측값을 제시하세요. <br>\n",
    "고객은 이 데이터를 통해 관리가 필요한 고객들을 알고 싶어 합니다."
   ]
  },
  {
   "cell_type": "code",
   "execution_count": 1,
   "metadata": {},
   "outputs": [],
   "source": [
    "from sklearn.linear_model import LogisticRegression\n",
    "import pandas as pd\n",
    "import numpy as np\n",
    "import matplotlib.pyplot as plt\n",
    "from sklearn.model_selection import train_test_split\n",
    "from sklearn.preprocessing import StandardScaler\n",
    "from sklearn.metrics import roc_curve, roc_auc_score\n",
    "from scipy.special import expit, softmax\n",
    "from datetime import datetime\n",
    "\n",
    "plt.rcParams['axes.unicode_minus'] = False"
   ]
  },
  {
   "cell_type": "markdown",
   "metadata": {},
   "source": [
    "### 데이터 불러오기"
   ]
  },
  {
   "cell_type": "code",
   "execution_count": 2,
   "metadata": {},
   "outputs": [],
   "source": [
    "df = pd.read_csv(\"./data/customer_churn.csv\")"
   ]
  },
  {
   "cell_type": "code",
   "execution_count": 3,
   "metadata": {
    "scrolled": true
   },
   "outputs": [
    {
     "data": {
      "text/html": [
       "<div>\n",
       "<style scoped>\n",
       "    .dataframe tbody tr th:only-of-type {\n",
       "        vertical-align: middle;\n",
       "    }\n",
       "\n",
       "    .dataframe tbody tr th {\n",
       "        vertical-align: top;\n",
       "    }\n",
       "\n",
       "    .dataframe thead th {\n",
       "        text-align: right;\n",
       "    }\n",
       "</style>\n",
       "<table border=\"1\" class=\"dataframe\">\n",
       "  <thead>\n",
       "    <tr style=\"text-align: right;\">\n",
       "      <th></th>\n",
       "      <th>Names</th>\n",
       "      <th>Age</th>\n",
       "      <th>Total_Purchase</th>\n",
       "      <th>Account_Manager</th>\n",
       "      <th>Years</th>\n",
       "      <th>Num_Sites</th>\n",
       "      <th>Onboard_date</th>\n",
       "      <th>Location</th>\n",
       "      <th>Company</th>\n",
       "      <th>Churn</th>\n",
       "    </tr>\n",
       "  </thead>\n",
       "  <tbody>\n",
       "    <tr>\n",
       "      <th>0</th>\n",
       "      <td>Cameron Williams</td>\n",
       "      <td>42.0</td>\n",
       "      <td>11066.80</td>\n",
       "      <td>0</td>\n",
       "      <td>7.22</td>\n",
       "      <td>8.0</td>\n",
       "      <td>2013-08-30 07:00:40</td>\n",
       "      <td>10265 Elizabeth Mission Barkerburgh, AK 89518</td>\n",
       "      <td>Harvey LLC</td>\n",
       "      <td>1</td>\n",
       "    </tr>\n",
       "    <tr>\n",
       "      <th>1</th>\n",
       "      <td>Kevin Mueller</td>\n",
       "      <td>41.0</td>\n",
       "      <td>11916.22</td>\n",
       "      <td>0</td>\n",
       "      <td>6.50</td>\n",
       "      <td>11.0</td>\n",
       "      <td>2013-08-13 00:38:46</td>\n",
       "      <td>6157 Frank Gardens Suite 019 Carloshaven, RI 1...</td>\n",
       "      <td>Wilson PLC</td>\n",
       "      <td>1</td>\n",
       "    </tr>\n",
       "    <tr>\n",
       "      <th>2</th>\n",
       "      <td>Eric Lozano</td>\n",
       "      <td>38.0</td>\n",
       "      <td>12884.75</td>\n",
       "      <td>0</td>\n",
       "      <td>6.67</td>\n",
       "      <td>12.0</td>\n",
       "      <td>2016-06-29 06:20:07</td>\n",
       "      <td>1331 Keith Court Alyssahaven, DE 90114</td>\n",
       "      <td>Miller, Johnson and Wallace</td>\n",
       "      <td>1</td>\n",
       "    </tr>\n",
       "    <tr>\n",
       "      <th>3</th>\n",
       "      <td>Phillip White</td>\n",
       "      <td>42.0</td>\n",
       "      <td>8010.76</td>\n",
       "      <td>0</td>\n",
       "      <td>6.71</td>\n",
       "      <td>10.0</td>\n",
       "      <td>2014-04-22 12:43:12</td>\n",
       "      <td>13120 Daniel Mount Angelabury, WY 30645-4695</td>\n",
       "      <td>Smith Inc</td>\n",
       "      <td>1</td>\n",
       "    </tr>\n",
       "    <tr>\n",
       "      <th>4</th>\n",
       "      <td>Cynthia Norton</td>\n",
       "      <td>37.0</td>\n",
       "      <td>9191.58</td>\n",
       "      <td>0</td>\n",
       "      <td>5.56</td>\n",
       "      <td>9.0</td>\n",
       "      <td>2016-01-19 15:31:15</td>\n",
       "      <td>765 Tricia Row Karenshire, MH 71730</td>\n",
       "      <td>Love-Jones</td>\n",
       "      <td>1</td>\n",
       "    </tr>\n",
       "    <tr>\n",
       "      <th>...</th>\n",
       "      <td>...</td>\n",
       "      <td>...</td>\n",
       "      <td>...</td>\n",
       "      <td>...</td>\n",
       "      <td>...</td>\n",
       "      <td>...</td>\n",
       "      <td>...</td>\n",
       "      <td>...</td>\n",
       "      <td>...</td>\n",
       "      <td>...</td>\n",
       "    </tr>\n",
       "    <tr>\n",
       "      <th>895</th>\n",
       "      <td>Paul Miller</td>\n",
       "      <td>42.0</td>\n",
       "      <td>12800.82</td>\n",
       "      <td>1</td>\n",
       "      <td>3.62</td>\n",
       "      <td>8.0</td>\n",
       "      <td>2007-12-01 13:29:34</td>\n",
       "      <td>9316 Julian Fort Suite 328 North Leslie, ME 43961</td>\n",
       "      <td>Evans-Lucero</td>\n",
       "      <td>0</td>\n",
       "    </tr>\n",
       "    <tr>\n",
       "      <th>896</th>\n",
       "      <td>Natalie Hodges</td>\n",
       "      <td>52.0</td>\n",
       "      <td>9893.92</td>\n",
       "      <td>0</td>\n",
       "      <td>6.91</td>\n",
       "      <td>7.0</td>\n",
       "      <td>2008-12-28 15:23:58</td>\n",
       "      <td>8419 William Square Apt. 695 Martinville, RI 3...</td>\n",
       "      <td>Perry and Sons</td>\n",
       "      <td>0</td>\n",
       "    </tr>\n",
       "    <tr>\n",
       "      <th>897</th>\n",
       "      <td>Ana Smith</td>\n",
       "      <td>45.0</td>\n",
       "      <td>12056.18</td>\n",
       "      <td>0</td>\n",
       "      <td>5.46</td>\n",
       "      <td>4.0</td>\n",
       "      <td>2014-06-20 05:10:09</td>\n",
       "      <td>Unit 8633 Box 8738 DPO AA 14126-5026</td>\n",
       "      <td>Schneider-Smith</td>\n",
       "      <td>0</td>\n",
       "    </tr>\n",
       "    <tr>\n",
       "      <th>898</th>\n",
       "      <td>Justin Leonard</td>\n",
       "      <td>51.0</td>\n",
       "      <td>6517.93</td>\n",
       "      <td>1</td>\n",
       "      <td>5.47</td>\n",
       "      <td>10.0</td>\n",
       "      <td>2012-05-30 00:15:43</td>\n",
       "      <td>49800 Torres Ways Suite 886 West Bradleybury, ...</td>\n",
       "      <td>Robles-Abbott</td>\n",
       "      <td>0</td>\n",
       "    </tr>\n",
       "    <tr>\n",
       "      <th>899</th>\n",
       "      <td>Joseph Williams</td>\n",
       "      <td>39.0</td>\n",
       "      <td>9315.60</td>\n",
       "      <td>1</td>\n",
       "      <td>5.02</td>\n",
       "      <td>10.0</td>\n",
       "      <td>2010-09-25 12:16:08</td>\n",
       "      <td>27252 Olivia Burgs Rivasmouth, MN 80121-6348</td>\n",
       "      <td>Davis Group</td>\n",
       "      <td>0</td>\n",
       "    </tr>\n",
       "  </tbody>\n",
       "</table>\n",
       "<p>900 rows × 10 columns</p>\n",
       "</div>"
      ],
      "text/plain": [
       "                Names   Age  Total_Purchase  Account_Manager  Years  \\\n",
       "0    Cameron Williams  42.0        11066.80                0   7.22   \n",
       "1       Kevin Mueller  41.0        11916.22                0   6.50   \n",
       "2         Eric Lozano  38.0        12884.75                0   6.67   \n",
       "3       Phillip White  42.0         8010.76                0   6.71   \n",
       "4      Cynthia Norton  37.0         9191.58                0   5.56   \n",
       "..                ...   ...             ...              ...    ...   \n",
       "895       Paul Miller  42.0        12800.82                1   3.62   \n",
       "896    Natalie Hodges  52.0         9893.92                0   6.91   \n",
       "897         Ana Smith  45.0        12056.18                0   5.46   \n",
       "898    Justin Leonard  51.0         6517.93                1   5.47   \n",
       "899   Joseph Williams  39.0         9315.60                1   5.02   \n",
       "\n",
       "     Num_Sites         Onboard_date  \\\n",
       "0          8.0  2013-08-30 07:00:40   \n",
       "1         11.0  2013-08-13 00:38:46   \n",
       "2         12.0  2016-06-29 06:20:07   \n",
       "3         10.0  2014-04-22 12:43:12   \n",
       "4          9.0  2016-01-19 15:31:15   \n",
       "..         ...                  ...   \n",
       "895        8.0  2007-12-01 13:29:34   \n",
       "896        7.0  2008-12-28 15:23:58   \n",
       "897        4.0  2014-06-20 05:10:09   \n",
       "898       10.0  2012-05-30 00:15:43   \n",
       "899       10.0  2010-09-25 12:16:08   \n",
       "\n",
       "                                              Location  \\\n",
       "0        10265 Elizabeth Mission Barkerburgh, AK 89518   \n",
       "1    6157 Frank Gardens Suite 019 Carloshaven, RI 1...   \n",
       "2               1331 Keith Court Alyssahaven, DE 90114   \n",
       "3         13120 Daniel Mount Angelabury, WY 30645-4695   \n",
       "4                  765 Tricia Row Karenshire, MH 71730   \n",
       "..                                                 ...   \n",
       "895  9316 Julian Fort Suite 328 North Leslie, ME 43961   \n",
       "896  8419 William Square Apt. 695 Martinville, RI 3...   \n",
       "897               Unit 8633 Box 8738 DPO AA 14126-5026   \n",
       "898  49800 Torres Ways Suite 886 West Bradleybury, ...   \n",
       "899       27252 Olivia Burgs Rivasmouth, MN 80121-6348   \n",
       "\n",
       "                         Company  Churn  \n",
       "0                     Harvey LLC      1  \n",
       "1                     Wilson PLC      1  \n",
       "2    Miller, Johnson and Wallace      1  \n",
       "3                      Smith Inc      1  \n",
       "4                     Love-Jones      1  \n",
       "..                           ...    ...  \n",
       "895                 Evans-Lucero      0  \n",
       "896               Perry and Sons      0  \n",
       "897              Schneider-Smith      0  \n",
       "898                Robles-Abbott      0  \n",
       "899                  Davis Group      0  \n",
       "\n",
       "[900 rows x 10 columns]"
      ]
     },
     "execution_count": 3,
     "metadata": {},
     "output_type": "execute_result"
    }
   ],
   "source": [
    "df"
   ]
  },
  {
   "cell_type": "markdown",
   "metadata": {},
   "source": [
    "### 데이터 확인"
   ]
  },
  {
   "cell_type": "code",
   "execution_count": 4,
   "metadata": {},
   "outputs": [
    {
     "name": "stdout",
     "output_type": "stream",
     "text": [
      "<class 'pandas.core.frame.DataFrame'>\n",
      "RangeIndex: 900 entries, 0 to 899\n",
      "Data columns (total 10 columns):\n",
      " #   Column           Non-Null Count  Dtype  \n",
      "---  ------           --------------  -----  \n",
      " 0   Names            900 non-null    object \n",
      " 1   Age              900 non-null    float64\n",
      " 2   Total_Purchase   900 non-null    float64\n",
      " 3   Account_Manager  900 non-null    int64  \n",
      " 4   Years            900 non-null    float64\n",
      " 5   Num_Sites        900 non-null    float64\n",
      " 6   Onboard_date     900 non-null    object \n",
      " 7   Location         900 non-null    object \n",
      " 8   Company          900 non-null    object \n",
      " 9   Churn            900 non-null    int64  \n",
      "dtypes: float64(4), int64(2), object(4)\n",
      "memory usage: 70.4+ KB\n"
     ]
    }
   ],
   "source": [
    "df.info()"
   ]
  },
  {
   "cell_type": "code",
   "execution_count": 5,
   "metadata": {},
   "outputs": [
    {
     "data": {
      "text/html": [
       "<div>\n",
       "<style scoped>\n",
       "    .dataframe tbody tr th:only-of-type {\n",
       "        vertical-align: middle;\n",
       "    }\n",
       "\n",
       "    .dataframe tbody tr th {\n",
       "        vertical-align: top;\n",
       "    }\n",
       "\n",
       "    .dataframe thead th {\n",
       "        text-align: right;\n",
       "    }\n",
       "</style>\n",
       "<table border=\"1\" class=\"dataframe\">\n",
       "  <thead>\n",
       "    <tr style=\"text-align: right;\">\n",
       "      <th></th>\n",
       "      <th>Age</th>\n",
       "      <th>Total_Purchase</th>\n",
       "      <th>Account_Manager</th>\n",
       "      <th>Years</th>\n",
       "      <th>Num_Sites</th>\n",
       "      <th>Churn</th>\n",
       "    </tr>\n",
       "  </thead>\n",
       "  <tbody>\n",
       "    <tr>\n",
       "      <th>count</th>\n",
       "      <td>900.000000</td>\n",
       "      <td>900.000000</td>\n",
       "      <td>900.000000</td>\n",
       "      <td>900.000000</td>\n",
       "      <td>900.000000</td>\n",
       "      <td>900.000000</td>\n",
       "    </tr>\n",
       "    <tr>\n",
       "      <th>mean</th>\n",
       "      <td>41.816667</td>\n",
       "      <td>10062.824033</td>\n",
       "      <td>0.481111</td>\n",
       "      <td>5.273156</td>\n",
       "      <td>8.587778</td>\n",
       "      <td>0.166667</td>\n",
       "    </tr>\n",
       "    <tr>\n",
       "      <th>std</th>\n",
       "      <td>6.127560</td>\n",
       "      <td>2408.644532</td>\n",
       "      <td>0.499921</td>\n",
       "      <td>1.274449</td>\n",
       "      <td>1.764836</td>\n",
       "      <td>0.372885</td>\n",
       "    </tr>\n",
       "    <tr>\n",
       "      <th>min</th>\n",
       "      <td>22.000000</td>\n",
       "      <td>100.000000</td>\n",
       "      <td>0.000000</td>\n",
       "      <td>1.000000</td>\n",
       "      <td>3.000000</td>\n",
       "      <td>0.000000</td>\n",
       "    </tr>\n",
       "    <tr>\n",
       "      <th>25%</th>\n",
       "      <td>38.000000</td>\n",
       "      <td>8497.122500</td>\n",
       "      <td>0.000000</td>\n",
       "      <td>4.450000</td>\n",
       "      <td>7.000000</td>\n",
       "      <td>0.000000</td>\n",
       "    </tr>\n",
       "    <tr>\n",
       "      <th>50%</th>\n",
       "      <td>42.000000</td>\n",
       "      <td>10045.870000</td>\n",
       "      <td>0.000000</td>\n",
       "      <td>5.215000</td>\n",
       "      <td>8.000000</td>\n",
       "      <td>0.000000</td>\n",
       "    </tr>\n",
       "    <tr>\n",
       "      <th>75%</th>\n",
       "      <td>46.000000</td>\n",
       "      <td>11760.105000</td>\n",
       "      <td>1.000000</td>\n",
       "      <td>6.110000</td>\n",
       "      <td>10.000000</td>\n",
       "      <td>0.000000</td>\n",
       "    </tr>\n",
       "    <tr>\n",
       "      <th>max</th>\n",
       "      <td>65.000000</td>\n",
       "      <td>18026.010000</td>\n",
       "      <td>1.000000</td>\n",
       "      <td>9.150000</td>\n",
       "      <td>14.000000</td>\n",
       "      <td>1.000000</td>\n",
       "    </tr>\n",
       "  </tbody>\n",
       "</table>\n",
       "</div>"
      ],
      "text/plain": [
       "              Age  Total_Purchase  Account_Manager       Years   Num_Sites  \\\n",
       "count  900.000000      900.000000       900.000000  900.000000  900.000000   \n",
       "mean    41.816667    10062.824033         0.481111    5.273156    8.587778   \n",
       "std      6.127560     2408.644532         0.499921    1.274449    1.764836   \n",
       "min     22.000000      100.000000         0.000000    1.000000    3.000000   \n",
       "25%     38.000000     8497.122500         0.000000    4.450000    7.000000   \n",
       "50%     42.000000    10045.870000         0.000000    5.215000    8.000000   \n",
       "75%     46.000000    11760.105000         1.000000    6.110000   10.000000   \n",
       "max     65.000000    18026.010000         1.000000    9.150000   14.000000   \n",
       "\n",
       "            Churn  \n",
       "count  900.000000  \n",
       "mean     0.166667  \n",
       "std      0.372885  \n",
       "min      0.000000  \n",
       "25%      0.000000  \n",
       "50%      0.000000  \n",
       "75%      0.000000  \n",
       "max      1.000000  "
      ]
     },
     "execution_count": 5,
     "metadata": {},
     "output_type": "execute_result"
    }
   ],
   "source": [
    "df.describe()"
   ]
  },
  {
   "cell_type": "code",
   "execution_count": 6,
   "metadata": {
    "scrolled": false
   },
   "outputs": [
    {
     "data": {
      "image/png": "[encoded data removed]",
      "text/plain": [
       "<Figure size 640x480 with 1 Axes>"
      ]
     },
     "metadata": {},
     "output_type": "display_data"
    },
    {
     "data": {
      "text/plain": [
       "<Figure size 600x400 with 0 Axes>"
      ]
     },
     "metadata": {},
     "output_type": "display_data"
    }
   ],
   "source": [
    "df[\"Churn\"].hist(bins = 4)\n",
    "plt.figure(figsize=(6, 4))\n",
    "plt.show()"
   ]
  },
  {
   "cell_type": "code",
   "execution_count": 7,
   "metadata": {},
   "outputs": [
    {
     "data": {
      "text/plain": [
       "150"
      ]
     },
     "execution_count": 7,
     "metadata": {},
     "output_type": "execute_result"
    }
   ],
   "source": [
    "sum(df[\"Churn\"])"
   ]
  },
  {
   "cell_type": "code",
   "execution_count": 8,
   "metadata": {
    "scrolled": true
   },
   "outputs": [
    {
     "data": {
      "image/png": "[encoded data removed]",
      "text/plain": [
       "<Figure size 640x480 with 1 Axes>"
      ]
     },
     "metadata": {},
     "output_type": "display_data"
    },
    {
     "data": {
      "text/plain": [
       "<Figure size 600x400 with 0 Axes>"
      ]
     },
     "metadata": {},
     "output_type": "display_data"
    }
   ],
   "source": [
    "df[\"Account_Manager\"].hist(bins = 4)\n",
    "plt.figure(figsize=(6, 4))\n",
    "plt.show()"
   ]
  },
  {
   "cell_type": "code",
   "execution_count": 9,
   "metadata": {
    "scrolled": true
   },
   "outputs": [
    {
     "data": {
      "text/plain": [
       "433"
      ]
     },
     "execution_count": 9,
     "metadata": {},
     "output_type": "execute_result"
    }
   ],
   "source": [
    "sum(df[\"Account_Manager\"])"
   ]
  },
  {
   "cell_type": "code",
   "execution_count": null,
   "metadata": {},
   "outputs": [],
   "source": []
  },
  {
   "cell_type": "markdown",
   "metadata": {},
   "source": [
    "## 머신러닝용 데이터 전처리"
   ]
  },
  {
   "cell_type": "code",
   "execution_count": 10,
   "metadata": {
    "scrolled": true
   },
   "outputs": [
    {
     "data": {
      "text/plain": [
       "Index(['Names', 'Age', 'Total_Purchase', 'Account_Manager', 'Years',\n",
       "       'Num_Sites', 'Onboard_date', 'Location', 'Company', 'Churn'],\n",
       "      dtype='object')"
      ]
     },
     "execution_count": 10,
     "metadata": {},
     "output_type": "execute_result"
    }
   ],
   "source": [
    "df.columns"
   ]
  },
  {
   "cell_type": "code",
   "execution_count": 11,
   "metadata": {},
   "outputs": [
    {
     "data": {
      "text/plain": [
       "900"
      ]
     },
     "execution_count": 11,
     "metadata": {},
     "output_type": "execute_result"
    }
   ],
   "source": [
    "df[\"Location\"].nunique()"
   ]
  },
  {
   "cell_type": "markdown",
   "metadata": {},
   "source": [
    "- df[\"Location\"] 컬럼은 의미 없을 것으로 예상"
   ]
  },
  {
   "cell_type": "code",
   "execution_count": 12,
   "metadata": {},
   "outputs": [],
   "source": [
    "df = df.drop(\"Location\", axis = 1)"
   ]
  },
  {
   "cell_type": "code",
   "execution_count": 13,
   "metadata": {
    "scrolled": true
   },
   "outputs": [
    {
     "data": {
      "text/html": [
       "<div>\n",
       "<style scoped>\n",
       "    .dataframe tbody tr th:only-of-type {\n",
       "        vertical-align: middle;\n",
       "    }\n",
       "\n",
       "    .dataframe tbody tr th {\n",
       "        vertical-align: top;\n",
       "    }\n",
       "\n",
       "    .dataframe thead th {\n",
       "        text-align: right;\n",
       "    }\n",
       "</style>\n",
       "<table border=\"1\" class=\"dataframe\">\n",
       "  <thead>\n",
       "    <tr style=\"text-align: right;\">\n",
       "      <th></th>\n",
       "      <th>Names</th>\n",
       "      <th>Age</th>\n",
       "      <th>Total_Purchase</th>\n",
       "      <th>Account_Manager</th>\n",
       "      <th>Years</th>\n",
       "      <th>Num_Sites</th>\n",
       "      <th>Onboard_date</th>\n",
       "      <th>Company</th>\n",
       "      <th>Churn</th>\n",
       "    </tr>\n",
       "  </thead>\n",
       "  <tbody>\n",
       "    <tr>\n",
       "      <th>0</th>\n",
       "      <td>Cameron Williams</td>\n",
       "      <td>42.0</td>\n",
       "      <td>11066.80</td>\n",
       "      <td>0</td>\n",
       "      <td>7.22</td>\n",
       "      <td>8.0</td>\n",
       "      <td>2013-08-30 07:00:40</td>\n",
       "      <td>Harvey LLC</td>\n",
       "      <td>1</td>\n",
       "    </tr>\n",
       "    <tr>\n",
       "      <th>1</th>\n",
       "      <td>Kevin Mueller</td>\n",
       "      <td>41.0</td>\n",
       "      <td>11916.22</td>\n",
       "      <td>0</td>\n",
       "      <td>6.50</td>\n",
       "      <td>11.0</td>\n",
       "      <td>2013-08-13 00:38:46</td>\n",
       "      <td>Wilson PLC</td>\n",
       "      <td>1</td>\n",
       "    </tr>\n",
       "    <tr>\n",
       "      <th>2</th>\n",
       "      <td>Eric Lozano</td>\n",
       "      <td>38.0</td>\n",
       "      <td>12884.75</td>\n",
       "      <td>0</td>\n",
       "      <td>6.67</td>\n",
       "      <td>12.0</td>\n",
       "      <td>2016-06-29 06:20:07</td>\n",
       "      <td>Miller, Johnson and Wallace</td>\n",
       "      <td>1</td>\n",
       "    </tr>\n",
       "    <tr>\n",
       "      <th>3</th>\n",
       "      <td>Phillip White</td>\n",
       "      <td>42.0</td>\n",
       "      <td>8010.76</td>\n",
       "      <td>0</td>\n",
       "      <td>6.71</td>\n",
       "      <td>10.0</td>\n",
       "      <td>2014-04-22 12:43:12</td>\n",
       "      <td>Smith Inc</td>\n",
       "      <td>1</td>\n",
       "    </tr>\n",
       "    <tr>\n",
       "      <th>4</th>\n",
       "      <td>Cynthia Norton</td>\n",
       "      <td>37.0</td>\n",
       "      <td>9191.58</td>\n",
       "      <td>0</td>\n",
       "      <td>5.56</td>\n",
       "      <td>9.0</td>\n",
       "      <td>2016-01-19 15:31:15</td>\n",
       "      <td>Love-Jones</td>\n",
       "      <td>1</td>\n",
       "    </tr>\n",
       "    <tr>\n",
       "      <th>...</th>\n",
       "      <td>...</td>\n",
       "      <td>...</td>\n",
       "      <td>...</td>\n",
       "      <td>...</td>\n",
       "      <td>...</td>\n",
       "      <td>...</td>\n",
       "      <td>...</td>\n",
       "      <td>...</td>\n",
       "      <td>...</td>\n",
       "    </tr>\n",
       "    <tr>\n",
       "      <th>895</th>\n",
       "      <td>Paul Miller</td>\n",
       "      <td>42.0</td>\n",
       "      <td>12800.82</td>\n",
       "      <td>1</td>\n",
       "      <td>3.62</td>\n",
       "      <td>8.0</td>\n",
       "      <td>2007-12-01 13:29:34</td>\n",
       "      <td>Evans-Lucero</td>\n",
       "      <td>0</td>\n",
       "    </tr>\n",
       "    <tr>\n",
       "      <th>896</th>\n",
       "      <td>Natalie Hodges</td>\n",
       "      <td>52.0</td>\n",
       "      <td>9893.92</td>\n",
       "      <td>0</td>\n",
       "      <td>6.91</td>\n",
       "      <td>7.0</td>\n",
       "      <td>2008-12-28 15:23:58</td>\n",
       "      <td>Perry and Sons</td>\n",
       "      <td>0</td>\n",
       "    </tr>\n",
       "    <tr>\n",
       "      <th>897</th>\n",
       "      <td>Ana Smith</td>\n",
       "      <td>45.0</td>\n",
       "      <td>12056.18</td>\n",
       "      <td>0</td>\n",
       "      <td>5.46</td>\n",
       "      <td>4.0</td>\n",
       "      <td>2014-06-20 05:10:09</td>\n",
       "      <td>Schneider-Smith</td>\n",
       "      <td>0</td>\n",
       "    </tr>\n",
       "    <tr>\n",
       "      <th>898</th>\n",
       "      <td>Justin Leonard</td>\n",
       "      <td>51.0</td>\n",
       "      <td>6517.93</td>\n",
       "      <td>1</td>\n",
       "      <td>5.47</td>\n",
       "      <td>10.0</td>\n",
       "      <td>2012-05-30 00:15:43</td>\n",
       "      <td>Robles-Abbott</td>\n",
       "      <td>0</td>\n",
       "    </tr>\n",
       "    <tr>\n",
       "      <th>899</th>\n",
       "      <td>Joseph Williams</td>\n",
       "      <td>39.0</td>\n",
       "      <td>9315.60</td>\n",
       "      <td>1</td>\n",
       "      <td>5.02</td>\n",
       "      <td>10.0</td>\n",
       "      <td>2010-09-25 12:16:08</td>\n",
       "      <td>Davis Group</td>\n",
       "      <td>0</td>\n",
       "    </tr>\n",
       "  </tbody>\n",
       "</table>\n",
       "<p>900 rows × 9 columns</p>\n",
       "</div>"
      ],
      "text/plain": [
       "                Names   Age  Total_Purchase  Account_Manager  Years  \\\n",
       "0    Cameron Williams  42.0        11066.80                0   7.22   \n",
       "1       Kevin Mueller  41.0        11916.22                0   6.50   \n",
       "2         Eric Lozano  38.0        12884.75                0   6.67   \n",
       "3       Phillip White  42.0         8010.76                0   6.71   \n",
       "4      Cynthia Norton  37.0         9191.58                0   5.56   \n",
       "..                ...   ...             ...              ...    ...   \n",
       "895       Paul Miller  42.0        12800.82                1   3.62   \n",
       "896    Natalie Hodges  52.0         9893.92                0   6.91   \n",
       "897         Ana Smith  45.0        12056.18                0   5.46   \n",
       "898    Justin Leonard  51.0         6517.93                1   5.47   \n",
       "899   Joseph Williams  39.0         9315.60                1   5.02   \n",
       "\n",
       "     Num_Sites         Onboard_date                      Company  Churn  \n",
       "0          8.0  2013-08-30 07:00:40                   Harvey LLC      1  \n",
       "1         11.0  2013-08-13 00:38:46                   Wilson PLC      1  \n",
       "2         12.0  2016-06-29 06:20:07  Miller, Johnson and Wallace      1  \n",
       "3         10.0  2014-04-22 12:43:12                    Smith Inc      1  \n",
       "4          9.0  2016-01-19 15:31:15                   Love-Jones      1  \n",
       "..         ...                  ...                          ...    ...  \n",
       "895        8.0  2007-12-01 13:29:34                 Evans-Lucero      0  \n",
       "896        7.0  2008-12-28 15:23:58               Perry and Sons      0  \n",
       "897        4.0  2014-06-20 05:10:09              Schneider-Smith      0  \n",
       "898       10.0  2012-05-30 00:15:43                Robles-Abbott      0  \n",
       "899       10.0  2010-09-25 12:16:08                  Davis Group      0  \n",
       "\n",
       "[900 rows x 9 columns]"
      ]
     },
     "execution_count": 13,
     "metadata": {},
     "output_type": "execute_result"
    }
   ],
   "source": [
    "df"
   ]
  },
  {
   "cell_type": "code",
   "execution_count": 14,
   "metadata": {
    "scrolled": true
   },
   "outputs": [
    {
     "data": {
      "text/plain": [
       "873"
      ]
     },
     "execution_count": 14,
     "metadata": {},
     "output_type": "execute_result"
    }
   ],
   "source": [
    "df[\"Company\"].nunique()"
   ]
  },
  {
   "cell_type": "markdown",
   "metadata": {},
   "source": [
    "- df[\"Company\"] 컬럼도 의미 없을 것으로 예상"
   ]
  },
  {
   "cell_type": "code",
   "execution_count": 15,
   "metadata": {},
   "outputs": [],
   "source": [
    "df = df.drop(\"Company\", axis = 1)"
   ]
  },
  {
   "cell_type": "code",
   "execution_count": 16,
   "metadata": {
    "scrolled": true
   },
   "outputs": [
    {
     "data": {
      "text/html": [
       "<div>\n",
       "<style scoped>\n",
       "    .dataframe tbody tr th:only-of-type {\n",
       "        vertical-align: middle;\n",
       "    }\n",
       "\n",
       "    .dataframe tbody tr th {\n",
       "        vertical-align: top;\n",
       "    }\n",
       "\n",
       "    .dataframe thead th {\n",
       "        text-align: right;\n",
       "    }\n",
       "</style>\n",
       "<table border=\"1\" class=\"dataframe\">\n",
       "  <thead>\n",
       "    <tr style=\"text-align: right;\">\n",
       "      <th></th>\n",
       "      <th>Names</th>\n",
       "      <th>Age</th>\n",
       "      <th>Total_Purchase</th>\n",
       "      <th>Account_Manager</th>\n",
       "      <th>Years</th>\n",
       "      <th>Num_Sites</th>\n",
       "      <th>Onboard_date</th>\n",
       "      <th>Churn</th>\n",
       "    </tr>\n",
       "  </thead>\n",
       "  <tbody>\n",
       "    <tr>\n",
       "      <th>0</th>\n",
       "      <td>Cameron Williams</td>\n",
       "      <td>42.0</td>\n",
       "      <td>11066.80</td>\n",
       "      <td>0</td>\n",
       "      <td>7.22</td>\n",
       "      <td>8.0</td>\n",
       "      <td>2013-08-30 07:00:40</td>\n",
       "      <td>1</td>\n",
       "    </tr>\n",
       "    <tr>\n",
       "      <th>1</th>\n",
       "      <td>Kevin Mueller</td>\n",
       "      <td>41.0</td>\n",
       "      <td>11916.22</td>\n",
       "      <td>0</td>\n",
       "      <td>6.50</td>\n",
       "      <td>11.0</td>\n",
       "      <td>2013-08-13 00:38:46</td>\n",
       "      <td>1</td>\n",
       "    </tr>\n",
       "    <tr>\n",
       "      <th>2</th>\n",
       "      <td>Eric Lozano</td>\n",
       "      <td>38.0</td>\n",
       "      <td>12884.75</td>\n",
       "      <td>0</td>\n",
       "      <td>6.67</td>\n",
       "      <td>12.0</td>\n",
       "      <td>2016-06-29 06:20:07</td>\n",
       "      <td>1</td>\n",
       "    </tr>\n",
       "    <tr>\n",
       "      <th>3</th>\n",
       "      <td>Phillip White</td>\n",
       "      <td>42.0</td>\n",
       "      <td>8010.76</td>\n",
       "      <td>0</td>\n",
       "      <td>6.71</td>\n",
       "      <td>10.0</td>\n",
       "      <td>2014-04-22 12:43:12</td>\n",
       "      <td>1</td>\n",
       "    </tr>\n",
       "    <tr>\n",
       "      <th>4</th>\n",
       "      <td>Cynthia Norton</td>\n",
       "      <td>37.0</td>\n",
       "      <td>9191.58</td>\n",
       "      <td>0</td>\n",
       "      <td>5.56</td>\n",
       "      <td>9.0</td>\n",
       "      <td>2016-01-19 15:31:15</td>\n",
       "      <td>1</td>\n",
       "    </tr>\n",
       "    <tr>\n",
       "      <th>...</th>\n",
       "      <td>...</td>\n",
       "      <td>...</td>\n",
       "      <td>...</td>\n",
       "      <td>...</td>\n",
       "      <td>...</td>\n",
       "      <td>...</td>\n",
       "      <td>...</td>\n",
       "      <td>...</td>\n",
       "    </tr>\n",
       "    <tr>\n",
       "      <th>895</th>\n",
       "      <td>Paul Miller</td>\n",
       "      <td>42.0</td>\n",
       "      <td>12800.82</td>\n",
       "      <td>1</td>\n",
       "      <td>3.62</td>\n",
       "      <td>8.0</td>\n",
       "      <td>2007-12-01 13:29:34</td>\n",
       "      <td>0</td>\n",
       "    </tr>\n",
       "    <tr>\n",
       "      <th>896</th>\n",
       "      <td>Natalie Hodges</td>\n",
       "      <td>52.0</td>\n",
       "      <td>9893.92</td>\n",
       "      <td>0</td>\n",
       "      <td>6.91</td>\n",
       "      <td>7.0</td>\n",
       "      <td>2008-12-28 15:23:58</td>\n",
       "      <td>0</td>\n",
       "    </tr>\n",
       "    <tr>\n",
       "      <th>897</th>\n",
       "      <td>Ana Smith</td>\n",
       "      <td>45.0</td>\n",
       "      <td>12056.18</td>\n",
       "      <td>0</td>\n",
       "      <td>5.46</td>\n",
       "      <td>4.0</td>\n",
       "      <td>2014-06-20 05:10:09</td>\n",
       "      <td>0</td>\n",
       "    </tr>\n",
       "    <tr>\n",
       "      <th>898</th>\n",
       "      <td>Justin Leonard</td>\n",
       "      <td>51.0</td>\n",
       "      <td>6517.93</td>\n",
       "      <td>1</td>\n",
       "      <td>5.47</td>\n",
       "      <td>10.0</td>\n",
       "      <td>2012-05-30 00:15:43</td>\n",
       "      <td>0</td>\n",
       "    </tr>\n",
       "    <tr>\n",
       "      <th>899</th>\n",
       "      <td>Joseph Williams</td>\n",
       "      <td>39.0</td>\n",
       "      <td>9315.60</td>\n",
       "      <td>1</td>\n",
       "      <td>5.02</td>\n",
       "      <td>10.0</td>\n",
       "      <td>2010-09-25 12:16:08</td>\n",
       "      <td>0</td>\n",
       "    </tr>\n",
       "  </tbody>\n",
       "</table>\n",
       "<p>900 rows × 8 columns</p>\n",
       "</div>"
      ],
      "text/plain": [
       "                Names   Age  Total_Purchase  Account_Manager  Years  \\\n",
       "0    Cameron Williams  42.0        11066.80                0   7.22   \n",
       "1       Kevin Mueller  41.0        11916.22                0   6.50   \n",
       "2         Eric Lozano  38.0        12884.75                0   6.67   \n",
       "3       Phillip White  42.0         8010.76                0   6.71   \n",
       "4      Cynthia Norton  37.0         9191.58                0   5.56   \n",
       "..                ...   ...             ...              ...    ...   \n",
       "895       Paul Miller  42.0        12800.82                1   3.62   \n",
       "896    Natalie Hodges  52.0         9893.92                0   6.91   \n",
       "897         Ana Smith  45.0        12056.18                0   5.46   \n",
       "898    Justin Leonard  51.0         6517.93                1   5.47   \n",
       "899   Joseph Williams  39.0         9315.60                1   5.02   \n",
       "\n",
       "     Num_Sites         Onboard_date  Churn  \n",
       "0          8.0  2013-08-30 07:00:40      1  \n",
       "1         11.0  2013-08-13 00:38:46      1  \n",
       "2         12.0  2016-06-29 06:20:07      1  \n",
       "3         10.0  2014-04-22 12:43:12      1  \n",
       "4          9.0  2016-01-19 15:31:15      1  \n",
       "..         ...                  ...    ...  \n",
       "895        8.0  2007-12-01 13:29:34      0  \n",
       "896        7.0  2008-12-28 15:23:58      0  \n",
       "897        4.0  2014-06-20 05:10:09      0  \n",
       "898       10.0  2012-05-30 00:15:43      0  \n",
       "899       10.0  2010-09-25 12:16:08      0  \n",
       "\n",
       "[900 rows x 8 columns]"
      ]
     },
     "execution_count": 16,
     "metadata": {},
     "output_type": "execute_result"
    }
   ],
   "source": [
    "df"
   ]
  },
  {
   "cell_type": "markdown",
   "metadata": {},
   "source": [
    "- \"Onboard_date\" 컬럼이 object 타입이므로 처리가 필요할 것으로 보임"
   ]
  },
  {
   "cell_type": "code",
   "execution_count": null,
   "metadata": {},
   "outputs": [],
   "source": []
  },
  {
   "cell_type": "code",
   "execution_count": 17,
   "metadata": {},
   "outputs": [],
   "source": [
    "df[\"Onboard_date\"] = df[\"Onboard_date\"].astype(str)"
   ]
  },
  {
   "cell_type": "code",
   "execution_count": 18,
   "metadata": {
    "scrolled": true
   },
   "outputs": [
    {
     "data": {
      "text/plain": [
       "'2013-08-30'"
      ]
     },
     "execution_count": 18,
     "metadata": {},
     "output_type": "execute_result"
    }
   ],
   "source": [
    "df[\"Onboard_date\"][0][:10]"
   ]
  },
  {
   "cell_type": "code",
   "execution_count": 19,
   "metadata": {},
   "outputs": [
    {
     "data": {
      "text/plain": [
       "0"
      ]
     },
     "execution_count": 19,
     "metadata": {},
     "output_type": "execute_result"
    }
   ],
   "source": [
    "df[\"Onboard_date\"].isna().sum()"
   ]
  },
  {
   "cell_type": "code",
   "execution_count": 20,
   "metadata": {},
   "outputs": [],
   "source": [
    "df[\"date\"] = df[\"Onboard_date\"].apply(lambda x: x[0:10])"
   ]
  },
  {
   "cell_type": "code",
   "execution_count": 21,
   "metadata": {},
   "outputs": [],
   "source": [
    "df[\"year\"] = df[\"date\"].apply(lambda x: x[0:4])"
   ]
  },
  {
   "cell_type": "code",
   "execution_count": 22,
   "metadata": {},
   "outputs": [],
   "source": [
    "df[\"month\"] = df[\"date\"].apply(lambda x: x[5:7])"
   ]
  },
  {
   "cell_type": "code",
   "execution_count": 23,
   "metadata": {
    "scrolled": true
   },
   "outputs": [
    {
     "data": {
      "text/plain": [
       "'2006'"
      ]
     },
     "execution_count": 23,
     "metadata": {},
     "output_type": "execute_result"
    }
   ],
   "source": [
    "df[\"year\"].unique().min()"
   ]
  },
  {
   "cell_type": "code",
   "execution_count": 24,
   "metadata": {},
   "outputs": [],
   "source": [
    "df[\"year\"] = df[\"year\"].astype(int)"
   ]
  },
  {
   "cell_type": "code",
   "execution_count": 25,
   "metadata": {},
   "outputs": [],
   "source": [
    "df[\"month\"] = df[\"month\"].astype(int)"
   ]
  },
  {
   "cell_type": "code",
   "execution_count": 26,
   "metadata": {},
   "outputs": [],
   "source": [
    "df[\"onboard\"] = (df[\"year\"]-2006) + df[\"month\"] * 12"
   ]
  },
  {
   "cell_type": "code",
   "execution_count": 27,
   "metadata": {},
   "outputs": [
    {
     "data": {
      "text/plain": [
       "131"
      ]
     },
     "execution_count": 27,
     "metadata": {},
     "output_type": "execute_result"
    }
   ],
   "source": [
    "df[\"onboard\"].nunique()"
   ]
  },
  {
   "cell_type": "code",
   "execution_count": 28,
   "metadata": {},
   "outputs": [
    {
     "data": {
      "text/plain": [
       "0"
      ]
     },
     "execution_count": 28,
     "metadata": {},
     "output_type": "execute_result"
    }
   ],
   "source": [
    "df[\"onboard\"].isna().sum()"
   ]
  },
  {
   "cell_type": "code",
   "execution_count": 29,
   "metadata": {},
   "outputs": [
    {
     "data": {
      "text/plain": [
       "0       8.0\n",
       "1      11.0\n",
       "2      12.0\n",
       "3      10.0\n",
       "4       9.0\n",
       "       ... \n",
       "895     8.0\n",
       "896     7.0\n",
       "897     4.0\n",
       "898    10.0\n",
       "899    10.0\n",
       "Name: Num_Sites, Length: 900, dtype: float64"
      ]
     },
     "execution_count": 29,
     "metadata": {},
     "output_type": "execute_result"
    }
   ],
   "source": [
    "df[\"Num_Sites\"]"
   ]
  },
  {
   "cell_type": "code",
   "execution_count": null,
   "metadata": {},
   "outputs": [],
   "source": []
  },
  {
   "cell_type": "code",
   "execution_count": 30,
   "metadata": {},
   "outputs": [
    {
     "data": {
      "text/plain": [
       "Index(['Names', 'Age', 'Total_Purchase', 'Account_Manager', 'Years',\n",
       "       'Num_Sites', 'Onboard_date', 'Churn', 'date', 'year', 'month',\n",
       "       'onboard'],\n",
       "      dtype='object')"
      ]
     },
     "execution_count": 30,
     "metadata": {},
     "output_type": "execute_result"
    }
   ],
   "source": [
    "df.columns"
   ]
  },
  {
   "cell_type": "code",
   "execution_count": 31,
   "metadata": {},
   "outputs": [],
   "source": [
    "df = df.drop([\"Names\", \"Onboard_date\", \"date\", \"year\", \"month\"], axis = 1)"
   ]
  },
  {
   "cell_type": "code",
   "execution_count": 32,
   "metadata": {
    "scrolled": true
   },
   "outputs": [
    {
     "data": {
      "text/html": [
       "<div>\n",
       "<style scoped>\n",
       "    .dataframe tbody tr th:only-of-type {\n",
       "        vertical-align: middle;\n",
       "    }\n",
       "\n",
       "    .dataframe tbody tr th {\n",
       "        vertical-align: top;\n",
       "    }\n",
       "\n",
       "    .dataframe thead th {\n",
       "        text-align: right;\n",
       "    }\n",
       "</style>\n",
       "<table border=\"1\" class=\"dataframe\">\n",
       "  <thead>\n",
       "    <tr style=\"text-align: right;\">\n",
       "      <th></th>\n",
       "      <th>Age</th>\n",
       "      <th>Total_Purchase</th>\n",
       "      <th>Account_Manager</th>\n",
       "      <th>Years</th>\n",
       "      <th>Num_Sites</th>\n",
       "      <th>Churn</th>\n",
       "      <th>onboard</th>\n",
       "    </tr>\n",
       "  </thead>\n",
       "  <tbody>\n",
       "    <tr>\n",
       "      <th>0</th>\n",
       "      <td>42.0</td>\n",
       "      <td>11066.80</td>\n",
       "      <td>0</td>\n",
       "      <td>7.22</td>\n",
       "      <td>8.0</td>\n",
       "      <td>1</td>\n",
       "      <td>103</td>\n",
       "    </tr>\n",
       "    <tr>\n",
       "      <th>1</th>\n",
       "      <td>41.0</td>\n",
       "      <td>11916.22</td>\n",
       "      <td>0</td>\n",
       "      <td>6.50</td>\n",
       "      <td>11.0</td>\n",
       "      <td>1</td>\n",
       "      <td>103</td>\n",
       "    </tr>\n",
       "    <tr>\n",
       "      <th>2</th>\n",
       "      <td>38.0</td>\n",
       "      <td>12884.75</td>\n",
       "      <td>0</td>\n",
       "      <td>6.67</td>\n",
       "      <td>12.0</td>\n",
       "      <td>1</td>\n",
       "      <td>82</td>\n",
       "    </tr>\n",
       "    <tr>\n",
       "      <th>3</th>\n",
       "      <td>42.0</td>\n",
       "      <td>8010.76</td>\n",
       "      <td>0</td>\n",
       "      <td>6.71</td>\n",
       "      <td>10.0</td>\n",
       "      <td>1</td>\n",
       "      <td>56</td>\n",
       "    </tr>\n",
       "    <tr>\n",
       "      <th>4</th>\n",
       "      <td>37.0</td>\n",
       "      <td>9191.58</td>\n",
       "      <td>0</td>\n",
       "      <td>5.56</td>\n",
       "      <td>9.0</td>\n",
       "      <td>1</td>\n",
       "      <td>22</td>\n",
       "    </tr>\n",
       "    <tr>\n",
       "      <th>...</th>\n",
       "      <td>...</td>\n",
       "      <td>...</td>\n",
       "      <td>...</td>\n",
       "      <td>...</td>\n",
       "      <td>...</td>\n",
       "      <td>...</td>\n",
       "      <td>...</td>\n",
       "    </tr>\n",
       "    <tr>\n",
       "      <th>895</th>\n",
       "      <td>42.0</td>\n",
       "      <td>12800.82</td>\n",
       "      <td>1</td>\n",
       "      <td>3.62</td>\n",
       "      <td>8.0</td>\n",
       "      <td>0</td>\n",
       "      <td>145</td>\n",
       "    </tr>\n",
       "    <tr>\n",
       "      <th>896</th>\n",
       "      <td>52.0</td>\n",
       "      <td>9893.92</td>\n",
       "      <td>0</td>\n",
       "      <td>6.91</td>\n",
       "      <td>7.0</td>\n",
       "      <td>0</td>\n",
       "      <td>146</td>\n",
       "    </tr>\n",
       "    <tr>\n",
       "      <th>897</th>\n",
       "      <td>45.0</td>\n",
       "      <td>12056.18</td>\n",
       "      <td>0</td>\n",
       "      <td>5.46</td>\n",
       "      <td>4.0</td>\n",
       "      <td>0</td>\n",
       "      <td>80</td>\n",
       "    </tr>\n",
       "    <tr>\n",
       "      <th>898</th>\n",
       "      <td>51.0</td>\n",
       "      <td>6517.93</td>\n",
       "      <td>1</td>\n",
       "      <td>5.47</td>\n",
       "      <td>10.0</td>\n",
       "      <td>0</td>\n",
       "      <td>66</td>\n",
       "    </tr>\n",
       "    <tr>\n",
       "      <th>899</th>\n",
       "      <td>39.0</td>\n",
       "      <td>9315.60</td>\n",
       "      <td>1</td>\n",
       "      <td>5.02</td>\n",
       "      <td>10.0</td>\n",
       "      <td>0</td>\n",
       "      <td>112</td>\n",
       "    </tr>\n",
       "  </tbody>\n",
       "</table>\n",
       "<p>900 rows × 7 columns</p>\n",
       "</div>"
      ],
      "text/plain": [
       "      Age  Total_Purchase  Account_Manager  Years  Num_Sites  Churn  onboard\n",
       "0    42.0        11066.80                0   7.22        8.0      1      103\n",
       "1    41.0        11916.22                0   6.50       11.0      1      103\n",
       "2    38.0        12884.75                0   6.67       12.0      1       82\n",
       "3    42.0         8010.76                0   6.71       10.0      1       56\n",
       "4    37.0         9191.58                0   5.56        9.0      1       22\n",
       "..    ...             ...              ...    ...        ...    ...      ...\n",
       "895  42.0        12800.82                1   3.62        8.0      0      145\n",
       "896  52.0         9893.92                0   6.91        7.0      0      146\n",
       "897  45.0        12056.18                0   5.46        4.0      0       80\n",
       "898  51.0         6517.93                1   5.47       10.0      0       66\n",
       "899  39.0         9315.60                1   5.02       10.0      0      112\n",
       "\n",
       "[900 rows x 7 columns]"
      ]
     },
     "execution_count": 32,
     "metadata": {},
     "output_type": "execute_result"
    }
   ],
   "source": [
    "df"
   ]
  },
  {
   "cell_type": "code",
   "execution_count": 33,
   "metadata": {},
   "outputs": [],
   "source": [
    "# 피처 각각에 대한 히스토그램을 출력\n",
    "def plot_hist(df):\n",
    "    plt.rcParams[\"figure.figsize\"] = [20, 16]\n",
    "    fig = plt.figure()\n",
    "    \n",
    "    # df의 열 개수만큼의 subplot을 출력\n",
    "    for i in range(len(df.columns)):\n",
    "        ax = fig.add_subplot(4, 2, i + 1)\n",
    "        plt.hist(df[df.columns[i]], bins = 50)\n",
    "        ax.set_title(df.columns[i])\n",
    "        \n",
    "    plt.tight_layout()\n",
    "    plt.show()"
   ]
  },
  {
   "cell_type": "code",
   "execution_count": null,
   "metadata": {},
   "outputs": [],
   "source": []
  },
  {
   "cell_type": "code",
   "execution_count": 34,
   "metadata": {
    "scrolled": true
   },
   "outputs": [
    {
     "data": {
      "image/png": "[encoded data removed]",
      "text/plain": [
       "<Figure size 2000x1600 with 7 Axes>"
      ]
     },
     "metadata": {},
     "output_type": "display_data"
    }
   ],
   "source": [
    "plot_hist(df)"
   ]
  },
  {
   "cell_type": "code",
   "execution_count": 35,
   "metadata": {},
   "outputs": [],
   "source": [
    "df = df.sort_values(by=\"Total_Purchase\", ascending = False).reset_index(drop = True)"
   ]
  },
  {
   "cell_type": "code",
   "execution_count": 36,
   "metadata": {},
   "outputs": [],
   "source": [
    "x = df.drop(\"Churn\", axis = 1)\n",
    "y = df[\"Churn\"]"
   ]
  },
  {
   "cell_type": "code",
   "execution_count": 37,
   "metadata": {},
   "outputs": [],
   "source": [
    "x_train, x_test, y_train, y_test = train_test_split(x, y, test_size = 0.25, stratify = y, random_state = 4)"
   ]
  },
  {
   "cell_type": "code",
   "execution_count": 38,
   "metadata": {},
   "outputs": [],
   "source": [
    "ss = StandardScaler()\n",
    "scaled_train = ss.fit_transform(x_train)\n",
    "scaled_test = ss.transform(x_test)"
   ]
  },
  {
   "cell_type": "markdown",
   "metadata": {},
   "source": [
    "### 머신러닝용 데이터 전처리"
   ]
  },
  {
   "cell_type": "markdown",
   "metadata": {},
   "source": [
    "우리는 수치형 데이터만 이용할 예정입니다. Account_Manager는 다루기 어렵지 않기 때문에 모델학습에 포함할 수도 있겠지만 무작위로 할당된 것이기 때문에 큰 의미가 없을 수 있습니다."
   ]
  },
  {
   "cell_type": "code",
   "execution_count": 39,
   "metadata": {},
   "outputs": [
    {
     "data": {
      "text/plain": [
       "Age                66\n",
       "Total_Purchase     66\n",
       "Account_Manager    66\n",
       "Years              66\n",
       "Num_Sites          66\n",
       "Churn              66\n",
       "onboard            66\n",
       "dtype: int64"
      ]
     },
     "execution_count": 39,
     "metadata": {},
     "output_type": "execute_result"
    }
   ],
   "source": [
    "df.loc[(df[\"Account_Manager\"] == 0) & (df[\"Churn\"] == 1)].count()"
   ]
  },
  {
   "cell_type": "code",
   "execution_count": 40,
   "metadata": {},
   "outputs": [
    {
     "data": {
      "text/plain": [
       "Age                401\n",
       "Total_Purchase     401\n",
       "Account_Manager    401\n",
       "Years              401\n",
       "Num_Sites          401\n",
       "Churn              401\n",
       "onboard            401\n",
       "dtype: int64"
      ]
     },
     "execution_count": 40,
     "metadata": {},
     "output_type": "execute_result"
    }
   ],
   "source": [
    "df.loc[(df[\"Account_Manager\"] == 0) & (df[\"Churn\"] == 0)].count()"
   ]
  },
  {
   "cell_type": "code",
   "execution_count": 41,
   "metadata": {},
   "outputs": [
    {
     "data": {
      "text/plain": [
       "Age                349\n",
       "Total_Purchase     349\n",
       "Account_Manager    349\n",
       "Years              349\n",
       "Num_Sites          349\n",
       "Churn              349\n",
       "onboard            349\n",
       "dtype: int64"
      ]
     },
     "execution_count": 41,
     "metadata": {},
     "output_type": "execute_result"
    }
   ],
   "source": [
    "df.loc[(df[\"Account_Manager\"] == 1) & (df[\"Churn\"] == 0)].count()"
   ]
  },
  {
   "cell_type": "code",
   "execution_count": 42,
   "metadata": {},
   "outputs": [
    {
     "data": {
      "text/plain": [
       "Age                84\n",
       "Total_Purchase     84\n",
       "Account_Manager    84\n",
       "Years              84\n",
       "Num_Sites          84\n",
       "Churn              84\n",
       "onboard            84\n",
       "dtype: int64"
      ]
     },
     "execution_count": 42,
     "metadata": {},
     "output_type": "execute_result"
    }
   ],
   "source": [
    "df.loc[(df[\"Account_Manager\"] == 1) & (df[\"Churn\"] == 1)].count()"
   ]
  },
  {
   "cell_type": "markdown",
   "metadata": {},
   "source": [
    "- Account_Manager가 배정되지 않은 경우 이탈비율은 약 66/(401+66) = 14%\n",
    "- Account_Manager가 배정된 경우 이탈비율은 약 84/(349+84) = 19% \n",
    "- 오히려 Account_Manager가 배정된 그룹의 이탈비율이 더 높은 것을 확인할 수 있음\n",
    "- Account_Manager 배치 여부는 이탈과는 무관할 수도 있다고 생각됨"
   ]
  },
  {
   "cell_type": "code",
   "execution_count": 43,
   "metadata": {},
   "outputs": [],
   "source": [
    "x = df.drop([\"Churn\", \"Account_Manager\"], axis = 1)\n",
    "y = df[\"Churn\"]\n",
    "x_train, x_test, y_train, y_test = train_test_split(x, y, test_size = 0.25, stratify = y, random_state = 9)\n",
    "ss = StandardScaler()\n",
    "scaled_train = ss.fit_transform(x_train)\n",
    "scaled_test = ss.transform(x_test)"
   ]
  },
  {
   "cell_type": "code",
   "execution_count": 44,
   "metadata": {},
   "outputs": [
    {
     "data": {
      "text/html": [
       "<style>#sk-container-id-1 {color: black;background-color: white;}#sk-container-id-1 pre{padding: 0;}#sk-container-id-1 div.sk-toggleable {background-color: white;}#sk-container-id-1 label.sk-toggleable__label {cursor: pointer;display: block;width: 100%;margin-bottom: 0;padding: 0.3em;box-sizing: border-box;text-align: center;}#sk-container-id-1 label.sk-toggleable__label-arrow:before {content: \"▸\";float: left;margin-right: 0.25em;color: #696969;}#sk-container-id-1 label.sk-toggleable__label-arrow:hover:before {color: black;}#sk-container-id-1 div.sk-estimator:hover label.sk-toggleable__label-arrow:before {color: black;}#sk-container-id-1 div.sk-toggleable__content {max-height: 0;max-width: 0;overflow: hidden;text-align: left;background-color: #f0f8ff;}#sk-container-id-1 div.sk-toggleable__content pre {margin: 0.2em;color: black;border-radius: 0.25em;background-color: #f0f8ff;}#sk-container-id-1 input.sk-toggleable__control:checked~div.sk-toggleable__content {max-height: 200px;max-width: 100%;overflow: auto;}#sk-container-id-1 input.sk-toggleable__control:checked~label.sk-toggleable__label-arrow:before {content: \"▾\";}#sk-container-id-1 div.sk-estimator input.sk-toggleable__control:checked~label.sk-toggleable__label {background-color: #d4ebff;}#sk-container-id-1 div.sk-label input.sk-toggleable__control:checked~label.sk-toggleable__label {background-color: #d4ebff;}#sk-container-id-1 input.sk-hidden--visually {border: 0;clip: rect(1px 1px 1px 1px);clip: rect(1px, 1px, 1px, 1px);height: 1px;margin: -1px;overflow: hidden;padding: 0;position: absolute;width: 1px;}#sk-container-id-1 div.sk-estimator {font-family: monospace;background-color: #f0f8ff;border: 1px dotted black;border-radius: 0.25em;box-sizing: border-box;margin-bottom: 0.5em;}#sk-container-id-1 div.sk-estimator:hover {background-color: #d4ebff;}#sk-container-id-1 div.sk-parallel-item::after {content: \"\";width: 100%;border-bottom: 1px solid gray;flex-grow: 1;}#sk-container-id-1 div.sk-label:hover label.sk-toggleable__label {background-color: #d4ebff;}#sk-container-id-1 div.sk-serial::before {content: \"\";position: absolute;border-left: 1px solid gray;box-sizing: border-box;top: 0;bottom: 0;left: 50%;z-index: 0;}#sk-container-id-1 div.sk-serial {display: flex;flex-direction: column;align-items: center;background-color: white;padding-right: 0.2em;padding-left: 0.2em;position: relative;}#sk-container-id-1 div.sk-item {position: relative;z-index: 1;}#sk-container-id-1 div.sk-parallel {display: flex;align-items: stretch;justify-content: center;background-color: white;position: relative;}#sk-container-id-1 div.sk-item::before, #sk-container-id-1 div.sk-parallel-item::before {content: \"\";position: absolute;border-left: 1px solid gray;box-sizing: border-box;top: 0;bottom: 0;left: 50%;z-index: -1;}#sk-container-id-1 div.sk-parallel-item {display: flex;flex-direction: column;z-index: 1;position: relative;background-color: white;}#sk-container-id-1 div.sk-parallel-item:first-child::after {align-self: flex-end;width: 50%;}#sk-container-id-1 div.sk-parallel-item:last-child::after {align-self: flex-start;width: 50%;}#sk-container-id-1 div.sk-parallel-item:only-child::after {width: 0;}#sk-container-id-1 div.sk-dashed-wrapped {border: 1px dashed gray;margin: 0 0.4em 0.5em 0.4em;box-sizing: border-box;padding-bottom: 0.4em;background-color: white;}#sk-container-id-1 div.sk-label label {font-family: monospace;font-weight: bold;display: inline-block;line-height: 1.2em;}#sk-container-id-1 div.sk-label-container {text-align: center;}#sk-container-id-1 div.sk-container {/* jupyter's `normalize.less` sets `[hidden] { display: none; }` but bootstrap.min.css set `[hidden] { display: none !important; }` so we also need the `!important` here to be able to override the default hidden behavior on the sphinx rendered scikit-learn.org. See: https://github.com/scikit-learn/scikit-learn/issues/21755 */display: inline-block !important;position: relative;}#sk-container-id-1 div.sk-text-repr-fallback {display: none;}</style><div id=\"sk-container-id-1\" class=\"sk-top-container\"><div class=\"sk-text-repr-fallback\"><pre>LogisticRegression()</pre><b>In a Jupyter environment, please rerun this cell to show the HTML representation or trust the notebook. <br />On GitHub, the HTML representation is unable to render, please try loading this page with nbviewer.org.</b></div><div class=\"sk-container\" hidden><div class=\"sk-item\"><div class=\"sk-estimator sk-toggleable\"><input class=\"sk-toggleable__control sk-hidden--visually\" id=\"sk-estimator-id-1\" type=\"checkbox\" checked><label for=\"sk-estimator-id-1\" class=\"sk-toggleable__label sk-toggleable__label-arrow\">LogisticRegression</label><div class=\"sk-toggleable__content\"><pre>LogisticRegression()</pre></div></div></div></div></div>"
      ],
      "text/plain": [
       "LogisticRegression()"
      ]
     },
     "execution_count": 44,
     "metadata": {},
     "output_type": "execute_result"
    }
   ],
   "source": [
    "logi = LogisticRegression()\n",
    "logi.fit(scaled_train, y_train)"
   ]
  },
  {
   "cell_type": "code",
   "execution_count": 45,
   "metadata": {},
   "outputs": [
    {
     "data": {
      "text/plain": [
       "array([0, 0, 0, 1, 0, 0, 1, 0, 0, 0, 1, 0, 0, 0, 1, 0, 0, 0, 0, 0, 0, 0,\n",
       "       0, 0, 0, 0, 0, 0, 0, 0, 0, 0, 0, 0, 1, 0, 0, 0, 0, 0, 0, 1, 0, 1,\n",
       "       0, 0, 1, 0, 0, 1, 0, 0, 0, 0, 0, 0, 0, 0, 0, 0, 0, 0, 0, 0, 0, 0,\n",
       "       0, 0, 0, 0, 0, 0, 0, 0, 0, 0, 0, 1, 0, 0, 0, 0, 0, 0, 0, 0, 0, 0,\n",
       "       0, 0, 0, 0, 0, 0, 0, 1, 0, 0, 0, 0, 1, 1, 1, 0, 0, 0, 0, 0, 0, 0,\n",
       "       0, 0, 0, 0, 0, 1, 0, 0, 0, 0, 0, 1, 0, 1, 0, 0, 0, 0, 0, 1, 1, 0,\n",
       "       0, 0, 0, 0, 0, 0, 0, 1, 0, 0, 0, 0, 0, 1, 0, 0, 0, 0, 0, 0, 0, 0,\n",
       "       0, 1, 1, 1, 0, 0, 0, 0, 0, 1, 0, 1, 0, 0, 0, 0, 0, 0, 0, 0, 0, 0,\n",
       "       0, 0, 0, 0, 0, 0, 0, 0, 0, 0, 0, 0, 0, 1, 0, 0, 0, 1, 0, 0, 0, 0,\n",
       "       0, 1, 0, 0, 1, 0, 1, 0, 0, 0, 0, 0, 1, 1, 0, 0, 0, 0, 1, 0, 0, 0,\n",
       "       0, 0, 0, 0, 0], dtype=int64)"
      ]
     },
     "execution_count": 45,
     "metadata": {},
     "output_type": "execute_result"
    }
   ],
   "source": [
    "logi.predict(scaled_test)"
   ]
  },
  {
   "cell_type": "code",
   "execution_count": 46,
   "metadata": {},
   "outputs": [
    {
     "data": {
      "text/plain": [
       "array([[0.86888141, 0.13111859],\n",
       "       [0.98747016, 0.01252984],\n",
       "       [0.6014516 , 0.3985484 ],\n",
       "       [0.35501491, 0.64498509],\n",
       "       [0.98940799, 0.01059201]])"
      ]
     },
     "execution_count": 46,
     "metadata": {},
     "output_type": "execute_result"
    }
   ],
   "source": [
    "# 예측확률 출력\n",
    "logi.predict_proba(scaled_test)[:5]"
   ]
  },
  {
   "cell_type": "code",
   "execution_count": 47,
   "metadata": {},
   "outputs": [
    {
     "data": {
      "text/plain": [
       "array([0, 1], dtype=int64)"
      ]
     },
     "execution_count": 47,
     "metadata": {},
     "output_type": "execute_result"
    }
   ],
   "source": [
    "# 종속변수 값 확인\n",
    "logi.classes_"
   ]
  },
  {
   "cell_type": "code",
   "execution_count": 48,
   "metadata": {},
   "outputs": [
    {
     "data": {
      "text/plain": [
       "(array([[ 0.25069826,  0.1483206 ,  0.79079755,  1.86295275, -0.01924224]]),\n",
       " array([-2.64213556]))"
      ]
     },
     "execution_count": 48,
     "metadata": {},
     "output_type": "execute_result"
    }
   ],
   "source": [
    "# 로지스틱 회귀 회귀식 확인\n",
    "logi.coef_, logi.intercept_"
   ]
  },
  {
   "cell_type": "code",
   "execution_count": null,
   "metadata": {},
   "outputs": [],
   "source": []
  },
  {
   "cell_type": "code",
   "execution_count": 49,
   "metadata": {},
   "outputs": [
    {
     "data": {
      "image/png": "[encoded data removed]",
      "text/plain": [
       "<Figure size 2000x1600 with 1 Axes>"
      ]
     },
     "metadata": {},
     "output_type": "display_data"
    }
   ],
   "source": [
    "# roc 커브\n",
    "pred_proba_class1 = logi.predict_proba(scaled_test)[:, 1]\n",
    "\n",
    "fprs, tprs, thresholds = roc_curve(y_test, pred_proba_class1)\n",
    "\n",
    "plt.figure()\n",
    "plt.plot(fprs, tprs, label = \"ROC\")\n",
    "plt.plot([0,1], [0,1], \"k--\", label=\"Random\")\n",
    "\n",
    "plt.xticks(np.round(np.arange(0, 1, 0.01), 5))\n",
    "plt.xlabel(\"FPR\")\n",
    "plt.ylabel(\"TPR\")\n",
    "plt.legend()\n",
    "\n",
    "plt.show()"
   ]
  },
  {
   "cell_type": "code",
   "execution_count": 50,
   "metadata": {},
   "outputs": [
    {
     "data": {
      "text/plain": [
       "0.9253881541115584"
      ]
     },
     "execution_count": 50,
     "metadata": {},
     "output_type": "execute_result"
    }
   ],
   "source": [
    "roc_auc_score(y_test, pred_proba_class1)"
   ]
  },
  {
   "cell_type": "code",
   "execution_count": 51,
   "metadata": {},
   "outputs": [],
   "source": [
    "guess = pd.read_csv(\"./data/new_customers.csv\").reset_index()"
   ]
  },
  {
   "cell_type": "code",
   "execution_count": 52,
   "metadata": {
    "scrolled": true
   },
   "outputs": [
    {
     "data": {
      "text/html": [
       "<div>\n",
       "<style scoped>\n",
       "    .dataframe tbody tr th:only-of-type {\n",
       "        vertical-align: middle;\n",
       "    }\n",
       "\n",
       "    .dataframe tbody tr th {\n",
       "        vertical-align: top;\n",
       "    }\n",
       "\n",
       "    .dataframe thead th {\n",
       "        text-align: right;\n",
       "    }\n",
       "</style>\n",
       "<table border=\"1\" class=\"dataframe\">\n",
       "  <thead>\n",
       "    <tr style=\"text-align: right;\">\n",
       "      <th></th>\n",
       "      <th>index</th>\n",
       "      <th>Names</th>\n",
       "      <th>Age</th>\n",
       "      <th>Total_Purchase</th>\n",
       "      <th>Account_Manager</th>\n",
       "      <th>Years</th>\n",
       "      <th>Num_Sites</th>\n",
       "      <th>Onboard_date</th>\n",
       "      <th>Location</th>\n",
       "      <th>Company</th>\n",
       "    </tr>\n",
       "  </thead>\n",
       "  <tbody>\n",
       "    <tr>\n",
       "      <th>0</th>\n",
       "      <td>Andrew Mccall</td>\n",
       "      <td>37.0</td>\n",
       "      <td>9935.53</td>\n",
       "      <td>1</td>\n",
       "      <td>7.71</td>\n",
       "      <td>8.0</td>\n",
       "      <td>2011-08-29 18:37:54</td>\n",
       "      <td>38612 Johnny Stravenue Nataliebury, WI 15717-8316</td>\n",
       "      <td>King Ltd</td>\n",
       "      <td>NaN</td>\n",
       "    </tr>\n",
       "    <tr>\n",
       "      <th>1</th>\n",
       "      <td>Michele Wright</td>\n",
       "      <td>23.0</td>\n",
       "      <td>7526.94</td>\n",
       "      <td>1</td>\n",
       "      <td>9.28</td>\n",
       "      <td>15.0</td>\n",
       "      <td>2013-07-22 18:19:54</td>\n",
       "      <td>21083 Nicole Junction Suite 332, Youngport, ME...</td>\n",
       "      <td>Cannon-Benson</td>\n",
       "      <td>NaN</td>\n",
       "    </tr>\n",
       "    <tr>\n",
       "      <th>2</th>\n",
       "      <td>Jeremy Chang</td>\n",
       "      <td>65.0</td>\n",
       "      <td>100.00</td>\n",
       "      <td>1</td>\n",
       "      <td>1.00</td>\n",
       "      <td>15.0</td>\n",
       "      <td>2006-12-11 07:48:13</td>\n",
       "      <td>085 Austin Views Lake Julialand, WY 63726-4298</td>\n",
       "      <td>Barron-Robertson</td>\n",
       "      <td>NaN</td>\n",
       "    </tr>\n",
       "    <tr>\n",
       "      <th>3</th>\n",
       "      <td>Megan Ferguson</td>\n",
       "      <td>32.0</td>\n",
       "      <td>6487.50</td>\n",
       "      <td>0</td>\n",
       "      <td>9.40</td>\n",
       "      <td>14.0</td>\n",
       "      <td>2016-10-28 05:32:13</td>\n",
       "      <td>922 Wright Branch North Cynthialand, NC 64721</td>\n",
       "      <td>Sexton-Golden</td>\n",
       "      <td>NaN</td>\n",
       "    </tr>\n",
       "    <tr>\n",
       "      <th>4</th>\n",
       "      <td>Taylor Young</td>\n",
       "      <td>32.0</td>\n",
       "      <td>13147.71</td>\n",
       "      <td>1</td>\n",
       "      <td>10.00</td>\n",
       "      <td>8.0</td>\n",
       "      <td>2012-03-20 00:36:46</td>\n",
       "      <td>Unit 0789 Box 0734 DPO AP 39702</td>\n",
       "      <td>Wood LLC</td>\n",
       "      <td>NaN</td>\n",
       "    </tr>\n",
       "    <tr>\n",
       "      <th>5</th>\n",
       "      <td>Jessica Drake</td>\n",
       "      <td>22.0</td>\n",
       "      <td>8445.26</td>\n",
       "      <td>1</td>\n",
       "      <td>3.46</td>\n",
       "      <td>14.0</td>\n",
       "      <td>2011-02-04 19:29:27</td>\n",
       "      <td>1148 Tina Stravenue Apt. 978 South Carlos TX 2...</td>\n",
       "      <td>Parks-Robbins</td>\n",
       "      <td>NaN</td>\n",
       "    </tr>\n",
       "  </tbody>\n",
       "</table>\n",
       "</div>"
      ],
      "text/plain": [
       "            index  Names       Age  Total_Purchase  Account_Manager  Years  \\\n",
       "0   Andrew Mccall   37.0   9935.53               1             7.71    8.0   \n",
       "1  Michele Wright   23.0   7526.94               1             9.28   15.0   \n",
       "2    Jeremy Chang   65.0    100.00               1             1.00   15.0   \n",
       "3  Megan Ferguson   32.0   6487.50               0             9.40   14.0   \n",
       "4    Taylor Young   32.0  13147.71               1            10.00    8.0   \n",
       "5   Jessica Drake   22.0   8445.26               1             3.46   14.0   \n",
       "\n",
       "             Num_Sites                                       Onboard_date  \\\n",
       "0  2011-08-29 18:37:54  38612 Johnny Stravenue Nataliebury, WI 15717-8316   \n",
       "1  2013-07-22 18:19:54  21083 Nicole Junction Suite 332, Youngport, ME...   \n",
       "2  2006-12-11 07:48:13     085 Austin Views Lake Julialand, WY 63726-4298   \n",
       "3  2016-10-28 05:32:13      922 Wright Branch North Cynthialand, NC 64721   \n",
       "4  2012-03-20 00:36:46                    Unit 0789 Box 0734 DPO AP 39702   \n",
       "5  2011-02-04 19:29:27  1148 Tina Stravenue Apt. 978 South Carlos TX 2...   \n",
       "\n",
       "           Location  Company  \n",
       "0          King Ltd      NaN  \n",
       "1     Cannon-Benson      NaN  \n",
       "2  Barron-Robertson      NaN  \n",
       "3     Sexton-Golden      NaN  \n",
       "4          Wood LLC      NaN  \n",
       "5     Parks-Robbins      NaN  "
      ]
     },
     "execution_count": 52,
     "metadata": {},
     "output_type": "execute_result"
    }
   ],
   "source": [
    "guess"
   ]
  },
  {
   "cell_type": "code",
   "execution_count": 53,
   "metadata": {},
   "outputs": [],
   "source": [
    "guess = guess.drop(\"Company\", axis = 1)"
   ]
  },
  {
   "cell_type": "code",
   "execution_count": 54,
   "metadata": {},
   "outputs": [
    {
     "data": {
      "text/plain": [
       "9"
      ]
     },
     "execution_count": 54,
     "metadata": {},
     "output_type": "execute_result"
    }
   ],
   "source": [
    "guess.columns.nunique()"
   ]
  },
  {
   "cell_type": "code",
   "execution_count": 55,
   "metadata": {},
   "outputs": [],
   "source": [
    "guess.columns = ['Names', 'Age', 'Total_Purchase', 'Account_Manager', 'Years', 'Num_Sites', 'Onboard_date', 'Location', 'Company']"
   ]
  },
  {
   "cell_type": "code",
   "execution_count": 56,
   "metadata": {},
   "outputs": [
    {
     "data": {
      "text/html": [
       "<div>\n",
       "<style scoped>\n",
       "    .dataframe tbody tr th:only-of-type {\n",
       "        vertical-align: middle;\n",
       "    }\n",
       "\n",
       "    .dataframe tbody tr th {\n",
       "        vertical-align: top;\n",
       "    }\n",
       "\n",
       "    .dataframe thead th {\n",
       "        text-align: right;\n",
       "    }\n",
       "</style>\n",
       "<table border=\"1\" class=\"dataframe\">\n",
       "  <thead>\n",
       "    <tr style=\"text-align: right;\">\n",
       "      <th></th>\n",
       "      <th>Names</th>\n",
       "      <th>Age</th>\n",
       "      <th>Total_Purchase</th>\n",
       "      <th>Account_Manager</th>\n",
       "      <th>Years</th>\n",
       "      <th>Num_Sites</th>\n",
       "      <th>Onboard_date</th>\n",
       "      <th>Location</th>\n",
       "      <th>Company</th>\n",
       "    </tr>\n",
       "  </thead>\n",
       "  <tbody>\n",
       "    <tr>\n",
       "      <th>0</th>\n",
       "      <td>Andrew Mccall</td>\n",
       "      <td>37.0</td>\n",
       "      <td>9935.53</td>\n",
       "      <td>1</td>\n",
       "      <td>7.71</td>\n",
       "      <td>8.0</td>\n",
       "      <td>2011-08-29 18:37:54</td>\n",
       "      <td>38612 Johnny Stravenue Nataliebury, WI 15717-8316</td>\n",
       "      <td>King Ltd</td>\n",
       "    </tr>\n",
       "    <tr>\n",
       "      <th>1</th>\n",
       "      <td>Michele Wright</td>\n",
       "      <td>23.0</td>\n",
       "      <td>7526.94</td>\n",
       "      <td>1</td>\n",
       "      <td>9.28</td>\n",
       "      <td>15.0</td>\n",
       "      <td>2013-07-22 18:19:54</td>\n",
       "      <td>21083 Nicole Junction Suite 332, Youngport, ME...</td>\n",
       "      <td>Cannon-Benson</td>\n",
       "    </tr>\n",
       "    <tr>\n",
       "      <th>2</th>\n",
       "      <td>Jeremy Chang</td>\n",
       "      <td>65.0</td>\n",
       "      <td>100.00</td>\n",
       "      <td>1</td>\n",
       "      <td>1.00</td>\n",
       "      <td>15.0</td>\n",
       "      <td>2006-12-11 07:48:13</td>\n",
       "      <td>085 Austin Views Lake Julialand, WY 63726-4298</td>\n",
       "      <td>Barron-Robertson</td>\n",
       "    </tr>\n",
       "    <tr>\n",
       "      <th>3</th>\n",
       "      <td>Megan Ferguson</td>\n",
       "      <td>32.0</td>\n",
       "      <td>6487.50</td>\n",
       "      <td>0</td>\n",
       "      <td>9.40</td>\n",
       "      <td>14.0</td>\n",
       "      <td>2016-10-28 05:32:13</td>\n",
       "      <td>922 Wright Branch North Cynthialand, NC 64721</td>\n",
       "      <td>Sexton-Golden</td>\n",
       "    </tr>\n",
       "    <tr>\n",
       "      <th>4</th>\n",
       "      <td>Taylor Young</td>\n",
       "      <td>32.0</td>\n",
       "      <td>13147.71</td>\n",
       "      <td>1</td>\n",
       "      <td>10.00</td>\n",
       "      <td>8.0</td>\n",
       "      <td>2012-03-20 00:36:46</td>\n",
       "      <td>Unit 0789 Box 0734 DPO AP 39702</td>\n",
       "      <td>Wood LLC</td>\n",
       "    </tr>\n",
       "    <tr>\n",
       "      <th>5</th>\n",
       "      <td>Jessica Drake</td>\n",
       "      <td>22.0</td>\n",
       "      <td>8445.26</td>\n",
       "      <td>1</td>\n",
       "      <td>3.46</td>\n",
       "      <td>14.0</td>\n",
       "      <td>2011-02-04 19:29:27</td>\n",
       "      <td>1148 Tina Stravenue Apt. 978 South Carlos TX 2...</td>\n",
       "      <td>Parks-Robbins</td>\n",
       "    </tr>\n",
       "  </tbody>\n",
       "</table>\n",
       "</div>"
      ],
      "text/plain": [
       "            Names   Age  Total_Purchase  Account_Manager  Years  Num_Sites  \\\n",
       "0   Andrew Mccall  37.0         9935.53                1   7.71        8.0   \n",
       "1  Michele Wright  23.0         7526.94                1   9.28       15.0   \n",
       "2    Jeremy Chang  65.0          100.00                1   1.00       15.0   \n",
       "3  Megan Ferguson  32.0         6487.50                0   9.40       14.0   \n",
       "4    Taylor Young  32.0        13147.71                1  10.00        8.0   \n",
       "5   Jessica Drake  22.0         8445.26                1   3.46       14.0   \n",
       "\n",
       "          Onboard_date                                           Location  \\\n",
       "0  2011-08-29 18:37:54  38612 Johnny Stravenue Nataliebury, WI 15717-8316   \n",
       "1  2013-07-22 18:19:54  21083 Nicole Junction Suite 332, Youngport, ME...   \n",
       "2  2006-12-11 07:48:13     085 Austin Views Lake Julialand, WY 63726-4298   \n",
       "3  2016-10-28 05:32:13      922 Wright Branch North Cynthialand, NC 64721   \n",
       "4  2012-03-20 00:36:46                    Unit 0789 Box 0734 DPO AP 39702   \n",
       "5  2011-02-04 19:29:27  1148 Tina Stravenue Apt. 978 South Carlos TX 2...   \n",
       "\n",
       "            Company  \n",
       "0          King Ltd  \n",
       "1     Cannon-Benson  \n",
       "2  Barron-Robertson  \n",
       "3     Sexton-Golden  \n",
       "4          Wood LLC  \n",
       "5     Parks-Robbins  "
      ]
     },
     "execution_count": 56,
     "metadata": {},
     "output_type": "execute_result"
    }
   ],
   "source": [
    "guess"
   ]
  },
  {
   "cell_type": "code",
   "execution_count": 57,
   "metadata": {},
   "outputs": [],
   "source": [
    "guess[\"Onboard_date\"] = guess[\"Onboard_date\"].astype(str)\n",
    "guess[\"date\"] = guess[\"Onboard_date\"].apply(lambda x: x[0:10])\n",
    "guess[\"year\"] = guess[\"date\"].apply(lambda x: x[0:4])\n",
    "guess[\"month\"] = guess[\"date\"].apply(lambda x: x[5:7])\n",
    "guess[\"year\"] = guess[\"year\"].astype(int)\n",
    "guess[\"month\"] = guess[\"month\"].astype(int)\n",
    "guess[\"onboard\"] = (guess[\"year\"]-2006) + guess[\"month\"] * 12"
   ]
  },
  {
   "cell_type": "code",
   "execution_count": 58,
   "metadata": {
    "scrolled": true
   },
   "outputs": [
    {
     "data": {
      "text/html": [
       "<div>\n",
       "<style scoped>\n",
       "    .dataframe tbody tr th:only-of-type {\n",
       "        vertical-align: middle;\n",
       "    }\n",
       "\n",
       "    .dataframe tbody tr th {\n",
       "        vertical-align: top;\n",
       "    }\n",
       "\n",
       "    .dataframe thead th {\n",
       "        text-align: right;\n",
       "    }\n",
       "</style>\n",
       "<table border=\"1\" class=\"dataframe\">\n",
       "  <thead>\n",
       "    <tr style=\"text-align: right;\">\n",
       "      <th></th>\n",
       "      <th>Names</th>\n",
       "      <th>Age</th>\n",
       "      <th>Total_Purchase</th>\n",
       "      <th>Account_Manager</th>\n",
       "      <th>Years</th>\n",
       "      <th>Num_Sites</th>\n",
       "      <th>Onboard_date</th>\n",
       "      <th>Location</th>\n",
       "      <th>Company</th>\n",
       "      <th>date</th>\n",
       "      <th>year</th>\n",
       "      <th>month</th>\n",
       "      <th>onboard</th>\n",
       "    </tr>\n",
       "  </thead>\n",
       "  <tbody>\n",
       "    <tr>\n",
       "      <th>0</th>\n",
       "      <td>Andrew Mccall</td>\n",
       "      <td>37.0</td>\n",
       "      <td>9935.53</td>\n",
       "      <td>1</td>\n",
       "      <td>7.71</td>\n",
       "      <td>8.0</td>\n",
       "      <td>2011-08-29 18:37:54</td>\n",
       "      <td>38612 Johnny Stravenue Nataliebury, WI 15717-8316</td>\n",
       "      <td>King Ltd</td>\n",
       "      <td>2011-08-29</td>\n",
       "      <td>2011</td>\n",
       "      <td>8</td>\n",
       "      <td>101</td>\n",
       "    </tr>\n",
       "    <tr>\n",
       "      <th>1</th>\n",
       "      <td>Michele Wright</td>\n",
       "      <td>23.0</td>\n",
       "      <td>7526.94</td>\n",
       "      <td>1</td>\n",
       "      <td>9.28</td>\n",
       "      <td>15.0</td>\n",
       "      <td>2013-07-22 18:19:54</td>\n",
       "      <td>21083 Nicole Junction Suite 332, Youngport, ME...</td>\n",
       "      <td>Cannon-Benson</td>\n",
       "      <td>2013-07-22</td>\n",
       "      <td>2013</td>\n",
       "      <td>7</td>\n",
       "      <td>91</td>\n",
       "    </tr>\n",
       "    <tr>\n",
       "      <th>2</th>\n",
       "      <td>Jeremy Chang</td>\n",
       "      <td>65.0</td>\n",
       "      <td>100.00</td>\n",
       "      <td>1</td>\n",
       "      <td>1.00</td>\n",
       "      <td>15.0</td>\n",
       "      <td>2006-12-11 07:48:13</td>\n",
       "      <td>085 Austin Views Lake Julialand, WY 63726-4298</td>\n",
       "      <td>Barron-Robertson</td>\n",
       "      <td>2006-12-11</td>\n",
       "      <td>2006</td>\n",
       "      <td>12</td>\n",
       "      <td>144</td>\n",
       "    </tr>\n",
       "    <tr>\n",
       "      <th>3</th>\n",
       "      <td>Megan Ferguson</td>\n",
       "      <td>32.0</td>\n",
       "      <td>6487.50</td>\n",
       "      <td>0</td>\n",
       "      <td>9.40</td>\n",
       "      <td>14.0</td>\n",
       "      <td>2016-10-28 05:32:13</td>\n",
       "      <td>922 Wright Branch North Cynthialand, NC 64721</td>\n",
       "      <td>Sexton-Golden</td>\n",
       "      <td>2016-10-28</td>\n",
       "      <td>2016</td>\n",
       "      <td>10</td>\n",
       "      <td>130</td>\n",
       "    </tr>\n",
       "    <tr>\n",
       "      <th>4</th>\n",
       "      <td>Taylor Young</td>\n",
       "      <td>32.0</td>\n",
       "      <td>13147.71</td>\n",
       "      <td>1</td>\n",
       "      <td>10.00</td>\n",
       "      <td>8.0</td>\n",
       "      <td>2012-03-20 00:36:46</td>\n",
       "      <td>Unit 0789 Box 0734 DPO AP 39702</td>\n",
       "      <td>Wood LLC</td>\n",
       "      <td>2012-03-20</td>\n",
       "      <td>2012</td>\n",
       "      <td>3</td>\n",
       "      <td>42</td>\n",
       "    </tr>\n",
       "    <tr>\n",
       "      <th>5</th>\n",
       "      <td>Jessica Drake</td>\n",
       "      <td>22.0</td>\n",
       "      <td>8445.26</td>\n",
       "      <td>1</td>\n",
       "      <td>3.46</td>\n",
       "      <td>14.0</td>\n",
       "      <td>2011-02-04 19:29:27</td>\n",
       "      <td>1148 Tina Stravenue Apt. 978 South Carlos TX 2...</td>\n",
       "      <td>Parks-Robbins</td>\n",
       "      <td>2011-02-04</td>\n",
       "      <td>2011</td>\n",
       "      <td>2</td>\n",
       "      <td>29</td>\n",
       "    </tr>\n",
       "  </tbody>\n",
       "</table>\n",
       "</div>"
      ],
      "text/plain": [
       "            Names   Age  Total_Purchase  Account_Manager  Years  Num_Sites  \\\n",
       "0   Andrew Mccall  37.0         9935.53                1   7.71        8.0   \n",
       "1  Michele Wright  23.0         7526.94                1   9.28       15.0   \n",
       "2    Jeremy Chang  65.0          100.00                1   1.00       15.0   \n",
       "3  Megan Ferguson  32.0         6487.50                0   9.40       14.0   \n",
       "4    Taylor Young  32.0        13147.71                1  10.00        8.0   \n",
       "5   Jessica Drake  22.0         8445.26                1   3.46       14.0   \n",
       "\n",
       "          Onboard_date                                           Location  \\\n",
       "0  2011-08-29 18:37:54  38612 Johnny Stravenue Nataliebury, WI 15717-8316   \n",
       "1  2013-07-22 18:19:54  21083 Nicole Junction Suite 332, Youngport, ME...   \n",
       "2  2006-12-11 07:48:13     085 Austin Views Lake Julialand, WY 63726-4298   \n",
       "3  2016-10-28 05:32:13      922 Wright Branch North Cynthialand, NC 64721   \n",
       "4  2012-03-20 00:36:46                    Unit 0789 Box 0734 DPO AP 39702   \n",
       "5  2011-02-04 19:29:27  1148 Tina Stravenue Apt. 978 South Carlos TX 2...   \n",
       "\n",
       "            Company        date  year  month  onboard  \n",
       "0          King Ltd  2011-08-29  2011      8      101  \n",
       "1     Cannon-Benson  2013-07-22  2013      7       91  \n",
       "2  Barron-Robertson  2006-12-11  2006     12      144  \n",
       "3     Sexton-Golden  2016-10-28  2016     10      130  \n",
       "4          Wood LLC  2012-03-20  2012      3       42  \n",
       "5     Parks-Robbins  2011-02-04  2011      2       29  "
      ]
     },
     "execution_count": 58,
     "metadata": {},
     "output_type": "execute_result"
    }
   ],
   "source": [
    "guess"
   ]
  },
  {
   "cell_type": "code",
   "execution_count": 59,
   "metadata": {},
   "outputs": [
    {
     "data": {
      "text/html": [
       "<div>\n",
       "<style scoped>\n",
       "    .dataframe tbody tr th:only-of-type {\n",
       "        vertical-align: middle;\n",
       "    }\n",
       "\n",
       "    .dataframe tbody tr th {\n",
       "        vertical-align: top;\n",
       "    }\n",
       "\n",
       "    .dataframe thead th {\n",
       "        text-align: right;\n",
       "    }\n",
       "</style>\n",
       "<table border=\"1\" class=\"dataframe\">\n",
       "  <thead>\n",
       "    <tr style=\"text-align: right;\">\n",
       "      <th></th>\n",
       "      <th>Names</th>\n",
       "      <th>Age</th>\n",
       "      <th>Total_Purchase</th>\n",
       "      <th>Account_Manager</th>\n",
       "      <th>Years</th>\n",
       "      <th>Num_Sites</th>\n",
       "      <th>Onboard_date</th>\n",
       "      <th>Location</th>\n",
       "      <th>Company</th>\n",
       "      <th>date</th>\n",
       "      <th>year</th>\n",
       "      <th>month</th>\n",
       "      <th>onboard</th>\n",
       "    </tr>\n",
       "  </thead>\n",
       "  <tbody>\n",
       "    <tr>\n",
       "      <th>0</th>\n",
       "      <td>Andrew Mccall</td>\n",
       "      <td>37.0</td>\n",
       "      <td>9935.53</td>\n",
       "      <td>1</td>\n",
       "      <td>7.71</td>\n",
       "      <td>8.0</td>\n",
       "      <td>2011-08-29 18:37:54</td>\n",
       "      <td>38612 Johnny Stravenue Nataliebury, WI 15717-8316</td>\n",
       "      <td>King Ltd</td>\n",
       "      <td>2011-08-29</td>\n",
       "      <td>2011</td>\n",
       "      <td>8</td>\n",
       "      <td>101</td>\n",
       "    </tr>\n",
       "    <tr>\n",
       "      <th>1</th>\n",
       "      <td>Michele Wright</td>\n",
       "      <td>23.0</td>\n",
       "      <td>7526.94</td>\n",
       "      <td>1</td>\n",
       "      <td>9.28</td>\n",
       "      <td>15.0</td>\n",
       "      <td>2013-07-22 18:19:54</td>\n",
       "      <td>21083 Nicole Junction Suite 332, Youngport, ME...</td>\n",
       "      <td>Cannon-Benson</td>\n",
       "      <td>2013-07-22</td>\n",
       "      <td>2013</td>\n",
       "      <td>7</td>\n",
       "      <td>91</td>\n",
       "    </tr>\n",
       "    <tr>\n",
       "      <th>2</th>\n",
       "      <td>Jeremy Chang</td>\n",
       "      <td>65.0</td>\n",
       "      <td>100.00</td>\n",
       "      <td>1</td>\n",
       "      <td>1.00</td>\n",
       "      <td>15.0</td>\n",
       "      <td>2006-12-11 07:48:13</td>\n",
       "      <td>085 Austin Views Lake Julialand, WY 63726-4298</td>\n",
       "      <td>Barron-Robertson</td>\n",
       "      <td>2006-12-11</td>\n",
       "      <td>2006</td>\n",
       "      <td>12</td>\n",
       "      <td>144</td>\n",
       "    </tr>\n",
       "    <tr>\n",
       "      <th>3</th>\n",
       "      <td>Megan Ferguson</td>\n",
       "      <td>32.0</td>\n",
       "      <td>6487.50</td>\n",
       "      <td>0</td>\n",
       "      <td>9.40</td>\n",
       "      <td>14.0</td>\n",
       "      <td>2016-10-28 05:32:13</td>\n",
       "      <td>922 Wright Branch North Cynthialand, NC 64721</td>\n",
       "      <td>Sexton-Golden</td>\n",
       "      <td>2016-10-28</td>\n",
       "      <td>2016</td>\n",
       "      <td>10</td>\n",
       "      <td>130</td>\n",
       "    </tr>\n",
       "    <tr>\n",
       "      <th>4</th>\n",
       "      <td>Taylor Young</td>\n",
       "      <td>32.0</td>\n",
       "      <td>13147.71</td>\n",
       "      <td>1</td>\n",
       "      <td>10.00</td>\n",
       "      <td>8.0</td>\n",
       "      <td>2012-03-20 00:36:46</td>\n",
       "      <td>Unit 0789 Box 0734 DPO AP 39702</td>\n",
       "      <td>Wood LLC</td>\n",
       "      <td>2012-03-20</td>\n",
       "      <td>2012</td>\n",
       "      <td>3</td>\n",
       "      <td>42</td>\n",
       "    </tr>\n",
       "    <tr>\n",
       "      <th>5</th>\n",
       "      <td>Jessica Drake</td>\n",
       "      <td>22.0</td>\n",
       "      <td>8445.26</td>\n",
       "      <td>1</td>\n",
       "      <td>3.46</td>\n",
       "      <td>14.0</td>\n",
       "      <td>2011-02-04 19:29:27</td>\n",
       "      <td>1148 Tina Stravenue Apt. 978 South Carlos TX 2...</td>\n",
       "      <td>Parks-Robbins</td>\n",
       "      <td>2011-02-04</td>\n",
       "      <td>2011</td>\n",
       "      <td>2</td>\n",
       "      <td>29</td>\n",
       "    </tr>\n",
       "  </tbody>\n",
       "</table>\n",
       "</div>"
      ],
      "text/plain": [
       "            Names   Age  Total_Purchase  Account_Manager  Years  Num_Sites  \\\n",
       "0   Andrew Mccall  37.0         9935.53                1   7.71        8.0   \n",
       "1  Michele Wright  23.0         7526.94                1   9.28       15.0   \n",
       "2    Jeremy Chang  65.0          100.00                1   1.00       15.0   \n",
       "3  Megan Ferguson  32.0         6487.50                0   9.40       14.0   \n",
       "4    Taylor Young  32.0        13147.71                1  10.00        8.0   \n",
       "5   Jessica Drake  22.0         8445.26                1   3.46       14.0   \n",
       "\n",
       "          Onboard_date                                           Location  \\\n",
       "0  2011-08-29 18:37:54  38612 Johnny Stravenue Nataliebury, WI 15717-8316   \n",
       "1  2013-07-22 18:19:54  21083 Nicole Junction Suite 332, Youngport, ME...   \n",
       "2  2006-12-11 07:48:13     085 Austin Views Lake Julialand, WY 63726-4298   \n",
       "3  2016-10-28 05:32:13      922 Wright Branch North Cynthialand, NC 64721   \n",
       "4  2012-03-20 00:36:46                    Unit 0789 Box 0734 DPO AP 39702   \n",
       "5  2011-02-04 19:29:27  1148 Tina Stravenue Apt. 978 South Carlos TX 2...   \n",
       "\n",
       "            Company        date  year  month  onboard  \n",
       "0          King Ltd  2011-08-29  2011      8      101  \n",
       "1     Cannon-Benson  2013-07-22  2013      7       91  \n",
       "2  Barron-Robertson  2006-12-11  2006     12      144  \n",
       "3     Sexton-Golden  2016-10-28  2016     10      130  \n",
       "4          Wood LLC  2012-03-20  2012      3       42  \n",
       "5     Parks-Robbins  2011-02-04  2011      2       29  "
      ]
     },
     "execution_count": 59,
     "metadata": {},
     "output_type": "execute_result"
    }
   ],
   "source": [
    "guess"
   ]
  },
  {
   "cell_type": "code",
   "execution_count": 60,
   "metadata": {},
   "outputs": [],
   "source": [
    "guess = guess.drop([\"Names\",\"Location\", \"Company\", \"Onboard_date\",\"date\", \"year\", \"month\", \"Account_Manager\"], axis = 1)"
   ]
  },
  {
   "cell_type": "code",
   "execution_count": 61,
   "metadata": {},
   "outputs": [],
   "source": [
    "scaled_guess = ss.transform(guess)"
   ]
  },
  {
   "cell_type": "code",
   "execution_count": 62,
   "metadata": {},
   "outputs": [
    {
     "data": {
      "text/plain": [
       "array([0, 1, 1, 1, 0, 1], dtype=int64)"
      ]
     },
     "execution_count": 62,
     "metadata": {},
     "output_type": "execute_result"
    }
   ],
   "source": [
    "logi.predict(scaled_guess)"
   ]
  },
  {
   "cell_type": "code",
   "execution_count": null,
   "metadata": {},
   "outputs": [],
   "source": []
  },
  {
   "cell_type": "code",
   "execution_count": null,
   "metadata": {},
   "outputs": [],
   "source": []
  }
 ],
 "metadata": {
  "kernelspec": {
   "display_name": "Python 3 (ipykernel)",
   "language": "python",
   "name": "python3"
  },
  "language_info": {
   "codemirror_mode": {
    "name": "ipython",
    "version": 3
   },
   "file_extension": ".py",
   "mimetype": "text/x-python",
   "name": "python",
   "nbconvert_exporter": "python",
   "pygments_lexer": "ipython3",
   "version": "3.11.3"
  }
 },
 "nbformat": 4,
 "nbformat_minor": 4
}
