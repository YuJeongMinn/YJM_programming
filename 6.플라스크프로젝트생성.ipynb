{
 "cells": [
  {
   "cell_type": "markdown",
   "id": "c921a9bb",
   "metadata": {},
   "source": [
    "# 플라스크(Flask)"
   ]
  },
  {
   "cell_type": "markdown",
   "id": "6c7d8a06",
   "metadata": {},
   "source": [
    "- 플라스크는 2004년 오스트리아의 오픈소스 개발자 아르민 로나히(Armin Ronacher)가 만든 웹프레임워크"
   ]
  },
  {
   "cell_type": "markdown",
   "id": "39245f40",
   "metadata": {},
   "source": [
    "## 마이크로 웹 프레임워크"
   ]
  },
  {
   "cell_type": "markdown",
   "id": "4b15f9ed",
   "metadata": {},
   "source": [
    "- 플라스크는 마이크로 웹 프레임워크\n",
    "- 마이크로 웹 프레임워크란 프레임워크를 **간결**하게 유지하고 **확장**할 수 있도록 만들었다는 뜻\n",
    "- 간결함 : 플라스크는 파일 하나로 구성된 짧은 코드만으로도 완벽하게 동작하는 웹프로그램을 만들 수 있음\n",
    "- 확장성\n",
    "    - 플라스크에는 폼(form), 데이터베이스(database)를 처리하는 기능이 없음\n",
    "    - 장고(django)는 폼과 데이터베이스를 처리하는 기능이 포함된 덩치가 큰 프레임워크\n",
    "    - 플라스크는 처음부터 모든 기능을 포함하고 있지 않고, 그때그때 개발자가 필요한 확장 모듈을 포함하며 개발하는 방식\n",
    "- 자유도\n",
    "    - 플라스크는 자유도가 높은 프레임워크\n",
    "    - 프레임워크는 대부분 규칙이 복잡하고, 개발자는 그 규칙을 반드시 따라야 함\n",
    "    - 플라스크에는 최소한의 규칙만 있고 개발의 자유도는 다른 프레임워크보다 높은 편"
   ]
  },
  {
   "cell_type": "markdown",
   "id": "6cd7c5b8",
   "metadata": {},
   "source": [
    "# 플라스크 프로젝트 생성"
   ]
  },
  {
   "cell_type": "markdown",
   "id": "7cb16741",
   "metadata": {},
   "source": [
    "- 플라스크 설치 명령어: $ pip install Flask"
   ]
  },
  {
   "cell_type": "markdown",
   "id": "6db24cc5",
   "metadata": {},
   "source": [
    "## 애플리케이션 생성"
   ]
  },
  {
   "cell_type": "markdown",
   "id": "026db0d0",
   "metadata": {},
   "source": [
    "## 플라스크 서버 실행"
   ]
  },
  {
   "cell_type": "markdown",
   "id": "a4442091",
   "metadata": {},
   "source": [
    "- \\$ flask run\n",
    "    - 플라스크는 아무런 설정을 하지 않는다면 기본 운영 환경으로 실행\n",
    "- \\$ flask--debug run\n",
    "    - 디버그 모드는 오류가 발생하면 웹 브라우저에 오류를 출력해주고 서버 실행 중에 프로그램을 변경하면 서버가 자동으로 재시작하여 변경된 내용을 적용"
   ]
  },
  {
   "cell_type": "markdown",
   "id": "92e473f6",
   "metadata": {},
   "source": [
    "# 플라스크 개발 기초"
   ]
  },
  {
   "cell_type": "markdown",
   "id": "089e9898",
   "metadata": {},
   "source": [
    "- 현재 웹 프로젝트는 flask_project 디렉토리 아래의 app.py 파일만 생성한 상태\n",
    "- 규모를 갖춘 플라스크 프로젝트를 만들려고 한다면 프로젝트 구조를 잘 만들어야 함\n",
    "    - 하지만 플라스크는 프로젝트의 구조를 어떻게 할지 규칙이 없음\n",
    "    - 따라서 프로젝트 구성에 더 신경을 써야함\n",
    "    \n",
    "- 프로젝트 구조 예시\n",
    "- flask_project/\n",
    "    - 앱/\n",
    "        - \\_\\_init\\_\\_.py\n",
    "        - models.py\n",
    "        - form.py\n",
    "        - views/\n",
    "            - main_views.py\n",
    "        - static/\n",
    "            - static.css\n",
    "        - templates/\n",
    "            - index.html\n",
    "    - config.py"
   ]
  },
  {
   "cell_type": "markdown",
   "id": "ee6dbcce",
   "metadata": {},
   "source": [
    "# models.py"
   ]
  },
  {
   "cell_type": "markdown",
   "id": "db22805b",
   "metadata": {},
   "source": [
    "- 데이터베이스를 처리\n",
    "- 모델 기반으로 데이터베이스를 처리하기 위해 모델 클래스들을 정의하는 역할"
   ]
  },
  {
   "cell_type": "markdown",
   "id": "c3c07452",
   "metadata": {},
   "source": [
    "## forms.py"
   ]
  },
  {
   "cell_type": "markdown",
   "id": "a3335464",
   "metadata": {},
   "source": [
    "- 서버로 전송된 폼을 처리\n",
    "- 모델 기반으로 폼을 처리하기 위해 폼 클래스를 정의하는 역할"
   ]
  },
  {
   "cell_type": "markdown",
   "id": "c7830491",
   "metadata": {},
   "source": [
    "## views/"
   ]
  },
  {
   "cell_type": "markdown",
   "id": "4bba9f96",
   "metadata": {},
   "source": [
    "- app.py에 작성했던 hello함수의 역할은 화면 구성\n",
    "- views 디렉터리에는 이런 함수들이 작성된 여러가지 뷰 파일을 저장"
   ]
  },
  {
   "cell_type": "markdown",
   "id": "6ed33f33",
   "metadata": {},
   "source": [
    "## static/\n",
    "\n",
    "- CSS, javascript, 이미지 파일 등의 정적인 파일들을 저장하는 디렉터리"
   ]
  },
  {
   "cell_type": "markdown",
   "id": "e6c35d40",
   "metadata": {},
   "source": [
    "## templates/\n",
    "\n",
    "- HTML 파일을 저장하는 디렉터리"
   ]
  },
  {
   "cell_type": "markdown",
   "id": "f7302144",
   "metadata": {},
   "source": [
    "## config.py\n",
    "\n",
    "- 프로젝트의 환경변수, 데이터베이스 등의 설정을 저장하는 설정 파일"
   ]
  },
  {
   "cell_type": "markdown",
   "id": "88c20798",
   "metadata": {},
   "source": [
    "# 애플리케이션 팩토리"
   ]
  },
  {
   "cell_type": "markdown",
   "id": "1cc860dc",
   "metadata": {},
   "source": [
    "- 플라스크 앱은 Flask 클래스로 만든 객체\n",
    "    - app=Flask(\\_\\_name\\_\\_)\n",
    "    \n",
    "- 플라스크는 app 객체를 사용해 여러가지 설정을 진행하는데, 위와 같은 방식으로 app 객체를 전역으로 사용하면 프로젝트 규모가 커질수록 순환 참조 오류 등의 문제가 발생할 위험이 커짐\n",
    "\n",
    "- 따라서 플라스크에서는 애플리케이션 팩토리(application factory)를 사용할 것을 권고\n",
    "\n",
    "- export FLASK_APP=\"board\" (맥의 경우)\n",
    "\n",
    "- create_app 함수가 app 객체를 생성해 반환하도록 수정\n",
    "- 여기서 사용된 create_app 함수가 애플리케이션 팩토리"
   ]
  },
  {
   "cell_type": "markdown",
   "id": "3555ab7f",
   "metadata": {},
   "source": [
    "# 블루프린트\n",
    "\n",
    "- \\_\\_init\\_\\_.py의 내용을 보면 create_app 함수 안에 hello 함수가 들어있음\n",
    "- hello 함수는 url에서 \\에 매핑되는 함수인데, 그 매핑은 @app.route(\"/\")가 만들어줌\n",
    "- 이 때, @app.route와 같은 함수를 라우트 함수라고 함\n",
    "- 만약에 지금처럼 새로운 url이 생길 때마다 라우트 함수를 create_app 함수 안에 계속 추가해야 한다면 다소 번거로움\n",
    "- 따라서 블루프린트(Blueprint) 클래스를 사용"
   ]
  },
  {
   "cell_type": "markdown",
   "id": "25f889e3",
   "metadata": {},
   "source": [
    "## 블루프린트 생성\n",
    "\n",
    "- Blueprint(이름, 모듈명, url프리픽스)"
   ]
  },
  {
   "cell_type": "markdown",
   "id": "82c596a4",
   "metadata": {},
   "source": [
    "# 모델\n",
    "\n",
    "- 게시판에서 질문이나 답변을 작성하면 데이터가 생성됨\n",
    "- 그러므로 데이터를 저장하거나 조회하거나 수정하는 등의 기능을 구현해야 하는데, 웹서비스에서는 데이터를 처리할 때 데이터베이스를 사용함\n",
    "- 원래 데이터베이스를 사용하려면 SQL쿼리를 작성하고 실행해야함\n",
    "    - 이 때, ORM(object relational mapping)을 이용하면 파이썬 문법으로 데이터베이스를 다룰 수 있음\n",
    "    - ORM을 이용하면 데이터베이스 종류에 상관없이 일관된 코드를 유지할 수 잇어서 프로그램 유지보수가 편리하고 내부에서 안전한 SQL 쿼리를 자동으로 생성해주므로 개발자가 달라져도 통일괸 쿼리를 작성할 수 있고 오류발생률을 줄일 수 있음"
   ]
  },
  {
   "cell_type": "markdown",
   "id": "3ee02cfe",
   "metadata": {},
   "source": [
    "## 플라스크 ORM 라이브러리 사용"
   ]
  },
  {
   "cell_type": "markdown",
   "id": "09ab15ea",
   "metadata": {},
   "source": [
    "- $ pip install Flask-Migrate"
   ]
  },
  {
   "cell_type": "markdown",
   "id": "8d3cec88",
   "metadata": {},
   "source": [
    "# 데이터베이스 초기화\n",
    "\n",
    "- $ flask db init\n",
    "- 데이터베이스를 관리하는 초기 파일들을 migrations라는 디렉터리에 자동으로 생성해줌\n",
    "- 이 때 생성되는 파일들을 Flask-Migrate 라이브러리에서 사용\n",
    "- flask db init 명령어는 최초 한번만 수행하면 됨"
   ]
  },
  {
   "cell_type": "markdown",
   "id": "d52a42df",
   "metadata": {},
   "source": [
    "### 데이터베이스 관리 명령어\n",
    "\n",
    "- flask db migrate : 모델을 새로 생성하거나 변경할 때\n",
    "- flask db upgrade : 모델의 변경 내용을 실제 데이터베이스에 적용할 때"
   ]
  },
  {
   "cell_type": "markdown",
   "id": "568d0a06",
   "metadata": {},
   "source": [
    "# 모델 생성\n",
    "\n",
    "- 질문 모델\n",
    "    - id : 질문 데이터의 고유 번호\n",
    "    - subject : 질문 제목\n",
    "    - content : 질문 내용\n",
    "    - create_date : 질문 작성일시\n",
    "    \n",
    "- 답변 모델\n",
    "    - id : 답변 데이터의 고유 번호\n",
    "    - question_id : 질문 데이터의 고유 번호\n",
    "        - 어떤 질문에 달린 답변인지 알아야 하므로\n",
    "    - content : 답변 내용\n",
    "    - create_date : 답변 작성 일시"
   ]
  },
  {
   "cell_type": "markdown",
   "id": "7125c87e",
   "metadata": {},
   "source": [
    "## 모델 사용"
   ]
  },
  {
   "cell_type": "markdown",
   "id": "f6bef6ec",
   "metadata": {},
   "source": [
    "- $ flask shell "
   ]
  },
  {
   "cell_type": "markdown",
   "id": "d75a1923",
   "metadata": {},
   "source": [
    "# 질문 목록 조회, 질문 상세 조회기능"
   ]
  },
  {
   "cell_type": "markdown",
   "id": "2793a131",
   "metadata": {},
   "source": [
    "## 템플릿 작성"
   ]
  },
  {
   "cell_type": "markdown",
   "id": "2b07d39c",
   "metadata": {},
   "source": [
    "- 별다른 설정을 하지 않더라도 앱 디렉터리에 templates 디렉터리를 만들면 템플릿 디렉터리로 인식함"
   ]
  },
  {
   "cell_type": "markdown",
   "id": "fe9e8396",
   "metadata": {},
   "source": [
    "# 게시판 상세 조회 기능\n",
    "\n",
    "- 지금은 질문 목록 조회 페이지에서 질문 링크를 클릭하면 오류메시지가 표시됨\n",
    "- 질문 목록 링크를 누르면 \"localhost:5000/detail/2/\" url로 요청을 보내는데, 이 요청에 대응할 수 있도록 라우트 함수를 구현해야함"
   ]
  },
  {
   "cell_type": "markdown",
   "id": "e64a26f1",
   "metadata": {},
   "source": [
    "# 404 오류 페이지 표시\n",
    "\n",
    "- localhost:5000/detail/20/ 페이지를 요청하면 빈 페이지가 나타남\n",
    "- 앱이 전달받은 question_id가 20이므로 main_view.py 파일의 detail 함수에서 Question.query.get(20)이 호출되는데, id가 20인 질문이 없기 때문\n",
    "    - 하지만 잘못된 URL을 요청받을 때 단순히 빈 페이지를 표시하면 안됨\n",
    "    - 이 때는 보통 404 page not foound 오류 페이지를 표시\n",
    "- 기존의 get 함수 대신 get_or_404 함수를 사용하면 해당 데이터를 찾을 수 없는 경우에 404 페이지를 출력해줌"
   ]
  },
  {
   "cell_type": "markdown",
   "id": "bb03f876",
   "metadata": {},
   "source": [
    "## 블루프린트로 기능 분리"
   ]
  },
  {
   "cell_type": "markdown",
   "id": "e1823522",
   "metadata": {},
   "source": [
    "- 지금까지는 질문 목록 조회와 질문 상세 조회 기능을 main_view.py에 구현했음\n",
    "- 모든 기능을 main_view.py 파일에 구현하는 것도 가능하지만 각 기능을 블루프린트 파일로 분리해서 관리하면 유지보수하는데 유리함"
   ]
  },
  {
   "cell_type": "markdown",
   "id": "3193962c",
   "metadata": {},
   "source": [
    "### url_for로 리다이렉트 기능 추가"
   ]
  },
  {
   "cell_type": "markdown",
   "id": "c6589f44",
   "metadata": {},
   "source": [
    "- index 함수는 question.\\_list에 해당하는 url로 리다이렉트할 수 있도록 코드를 수정\n",
    "    - url_for: 라우트가 설정된 함수명으로 url을 역으로 찾아줌\n",
    "    - 지금은 \\question 접두어와 /list/가 더해져서 localhost:5000/question/list/의 url을 반환함\n",
    "- localhost:5000로 접속하면 리다이렉트 덕분에 바로 question/list/ 페이지가 호출됨"
   ]
  },
  {
   "cell_type": "markdown",
   "id": "1275e91f",
   "metadata": {},
   "source": [
    "### 하드코딩된 url을 url_for로 수정"
   ]
  },
  {
   "cell_type": "markdown",
   "id": "08079d88",
   "metadata": {},
   "source": [
    "# 답변 등록 기능\n",
    "\n",
    "- 질문에 답변을 등록하고 보여주는 기능\n",
    "    - 질문 상세 조회화면에 답변을 입력하기 위한 텍스트창(textarea)과 답변 등록 버튼을 생성하고\n",
    "    - 버튼을 누르면 텍스트 창에 입력된 데이터가 저장"
   ]
  },
  {
   "cell_type": "markdown",
   "id": "7c82639e",
   "metadata": {},
   "source": [
    "## 답변 블루프린트 생성&적용\n",
    "\n",
    "- question을 관리하는 블루프린트를 만들었듯이 answer를 관리하는 블루프린트를 만들어야 함\n",
    "- create 함수의 매개변수 question_id는 url에서 전달됨\n",
    "- @bp.route의 methods 속성에는 POST를 지정했음\n",
    "    - 상세 페이지에서 form 태그는 POST 방식으로 전달되므로 같은 값을 지정해야함\n",
    "- form 태그를 통해 전달된 데이터들은 create 함수에서 request 객체로 얻을 수 있음"
   ]
  },
  {
   "cell_type": "markdown",
   "id": "b1053c95",
   "metadata": {},
   "source": [
    "# 질문 상세 페이지에 답변 표시\n",
    "\n",
    "- <h5>{{ question.answer_set|length }}</h5> 개의 답변이 있습니다.\n",
    "    - length는 객체의 길이를 반환해주는 템플릿 필터\n",
    "    - 템플릿 필터는 | 문자 뒤에 추가해서 사용"
   ]
  },
  {
   "cell_type": "markdown",
   "id": "c9c7d480",
   "metadata": {},
   "source": [
    "# 화면 구성\n",
    "\n",
    "- 웹페이지에 CSS를 적용하기 위해서는 CSS파일이 board/static 디렉터리에 있어야 함\n",
    "    - 이 때 CSS파일은 플라스크에서 정적(static) 파일로 분류\n",
    "    - 정적 파일은 주로 이미지나, 자바스크립트, 스타일시트와 같은 파일을 의미"
   ]
  },
  {
   "cell_type": "markdown",
   "id": "f8742b73",
   "metadata": {},
   "source": [
    "## 질문 상세 페이지에 스타일 시트 적용\n",
    "\n",
    "- {{ url_for('static', filename='style.css') }}\n",
    "    - url_for 함수는 정적 파일의 url도 찾아줌"
   ]
  },
  {
   "cell_type": "markdown",
   "id": "65839a54",
   "metadata": {},
   "source": [
    "# 부트스트랩"
   ]
  },
  {
   "cell_type": "markdown",
   "id": "f4e4b34a",
   "metadata": {},
   "source": [
    "# 템플릿 상속\n",
    "\n",
    "- 모든 템플릿 파일이 표준 HTML 구조를 따르게 된다면 body 태그 바깥 부분은 모두 같은 내용이 중복됨\n",
    "    - CSS 파일이 변경되거나 추가되면 head 태그 내용을 수정하기 위해 일일이 찾아다녀야 하는 불편함도 발생할 수 있음\n",
    "- 플라스크는 이런 불편함을 해소하기 위한 템플릿 상속 기능을 제공"
   ]
  },
  {
   "cell_type": "markdown",
   "id": "16b74489",
   "metadata": {},
   "source": [
    "# 폼 모듈로 데이터 검증\n",
    "\n",
    "- 웹 프로그램에서 폼(form)은 사용자에게 입력 양식을 편리하게 제공하기 위해 사용\n",
    "- 폼 모듈을 사용하면 폼으로 전송되는 데이터의 필수 여부, 길이, 형식 등을 더 쉽게 검증할 수 있음\n",
    "- 장고의 폼보다는 플라스크의 폼이 기능이 더 많음\n",
    "- 플라스크에서 폼을 사용하려면 Flask-WTF라는 라이브러리를 설치해야함\n",
    "    - \\$ pip install Flask-WTF\n",
    "- Flask-WTF를 사용하려면 플라스크 환경 변수 SECRET_KEY가 필요 : csrf_token과 유사\n",
    "    - SECRET_KEY는 csrf(cross-site request forgery)공격을 방지하는데 사용\n",
    "    - SECRET_KEY를 기반으로 해서 생성되는 CSRF 토큰은 폼으로 전송된 데이터가 실제 웹 페이지에서 작성된 데이터인지를 판단해주는 역할\n",
    "\n",
    "```flask\n",
    "class QuestionForm(FlaskForm):\n",
    "    subject = StringField(\"제목\", validators=[DataRequired()]) # DataRequired : 필수값\n",
    "    content = TextAreaField(\"내용\", validators=[DataRequired()])\n",
    "```\n",
    "- StringField 함수의 첫번째 인자는 폼 라벨로 사용되며, 템플릿에서 이 값으로 라벨을 출력할 수 있음\n",
    "- 두번째 인자 validators는 필드값을 검증할 떄 사용하는 도구\n",
    "    - 필수 항목인지 점검하는 DataRequired\n",
    "    - 이메일인지 점검하는 Email\n",
    "    - 길이를 점검하는 Length 등\n",
    "    - 필수값이면서 이메일이어야 한다면 validators=[DataRequired(), Email()]로 작성"
   ]
  },
  {
   "cell_type": "markdown",
   "id": "f8abdca9",
   "metadata": {},
   "source": [
    "## 질문 등록 템플릿 작성\n",
    "\n",
    "- 질문 등록을 하면 method not allowed 오류가 나타남\n",
    "    - 현재 폼이 post방식으로 데이터를 전송하기 때문\n",
    "    - form 태그의 method 속성이 post이므로 form에서 입력한 데이터는 모두 post 방식으로 전송되는데\n",
    "    - 현재 create 라우트에는 별도의 method 속성을 지정하지 않았으므로 기본 처리 방식인 get만 처리할 수 있기 때문에 오류 발생"
   ]
  },
  {
   "cell_type": "markdown",
   "id": "15a8671d",
   "metadata": {},
   "source": [
    "### 질문 전송 방식 수정"
   ]
  },
  {
   "cell_type": "markdown",
   "id": "0e330fd7",
   "metadata": {},
   "source": [
    "- @bp.route(\"/create/\", methods=(\"GET\", \"POST\"))\n",
    "    - 다시 질문 등록을 하면 오루는 보이지 않지만 아무런 반응이 없음\n",
    "        - create 함수에서 데이터를 저장하는 코드를 작성하지 않았기 때문에"
   ]
  },
  {
   "cell_type": "markdown",
   "id": "e7c761cd",
   "metadata": {},
   "source": [
    "### 폼 데이터 저장\n",
    "\n",
    "- request.method : create 함수로 요청된 전송 방식\n",
    "- form.validate_on_submit : post 방식으로 전송된 폼 데이터의 정합성을 점검\n",
    "    - 폼을 생성할 때 각 필드에 지정한 DataRequired 같은 점검 항목에 이상이 없는지 확인\n",
    "- 데이터 저장이 완료되면 redirect로 main.index 페이지로 이동\n",
    "- create 함수는 데이터 전송 방식이 get방식인지 post방식인지에 따라 내용이 달라짐\n",
    "    - 질문 목록에서 질문 등록하기 버튼을 눌러도 create 라우트가 똑같이 요청을 받음\n",
    "    - 다만, 질문 등록하기 버튼은 get 요청 방식이므로, 그대로 질문 등록 화면을 보여주고\n",
    "    - 저장하기는 post방식의 요청이므로 데이터베이스에 폼 데이터를 저장한 다음 질문 목록으로 이동"
   ]
  },
  {
   "cell_type": "markdown",
   "id": "70de2a77",
   "metadata": {},
   "source": [
    "### 폼에 부트스트랩 적용"
   ]
  },
  {
   "cell_type": "markdown",
   "id": "c2f1007c",
   "metadata": {},
   "source": [
    "- {{ form.subject() }} 같은 코드는 HTML이 폼을 자동으로 생성하므로 부트스트랩을 적용할 수 없음\n",
    "- 하지만 템플릿을 수정하면 부트스트랩을 적용할 수 있음\n",
    "- form.subject()코드를 사용하면 HTML코드를 자동으로 생성할 수 있음\n",
    "    - 이 방식은 폼을 빠르게 만드는데는 도움이 되지만\n",
    "    - 내가 원하는 디자인을 적용하거나 속성을 추가하기는 어려움\n",
    "- HTML을 자동으로 생성하는 방식과 수동으로 작성하는 방식 중 옳은 방식은 없으므로 프로젝트 성격에 적합한 방식을 골라 사용"
   ]
  },
  {
   "cell_type": "markdown",
   "id": "423bd57d",
   "metadata": {},
   "source": [
    "## 질문 등록 기능 완성"
   ]
  },
  {
   "cell_type": "markdown",
   "id": "da59ee44",
   "metadata": {},
   "source": [
    "- 질문 데이터를 데이터베이스에 저장하는 기능을 추가했지만 질문 등록 화면에서 저장하기를 눌러도 화면에는 아무런 변화가 없음\n",
    "    - 화면에 아무런 변화가 없으면 무엇이 잘못됐는지 알기 어려움\n",
    "    - 오류 내용을 표시하도록 질문 등록 템플릿을 수정"
   ]
  },
  {
   "cell_type": "markdown",
   "id": "d1b7c3e6",
   "metadata": {},
   "source": [
    "# CSRF 토큰 오류 처리"
   ]
  },
  {
   "cell_type": "markdown",
   "id": "e5bd5b3b",
   "metadata": {},
   "source": [
    "- CSRF 토큰 오류를 처리하면 질문 등록 기능은 제대로 동작하지만, 질문을 등록하는 과정에서 오류가 발생하면 입력한 내용이 모두 사라짐\n",
    "- {{ form.subject.data or '' }}\n",
    "    - ''는 기존 입력값이 없는 경우 오류를 방지하기 위해서 사용"
   ]
  },
  {
   "cell_type": "markdown",
   "id": "6e3a4e62",
   "metadata": {},
   "source": [
    "## 답변 등록 기능 수정\n",
    "\n",
    "- 답변 기능도 폼을 사용하도록 수정\n",
    "- 답변 등록 라우트 함수 수정\n",
    "- csrf토큰, 항목 입력 오류 표시 기능 추가\n",
    "- 상세보기 라우트에 폼 적용"
   ]
  },
  {
   "cell_type": "code",
   "execution_count": null,
   "id": "a410d54d",
   "metadata": {},
   "outputs": [],
   "source": []
  }
 ],
 "metadata": {
  "kernelspec": {
   "display_name": "Python 3 (ipykernel)",
   "language": "python",
   "name": "python3"
  },
  "language_info": {
   "codemirror_mode": {
    "name": "ipython",
    "version": 3
   },
   "file_extension": ".py",
   "mimetype": "text/x-python",
   "name": "python",
   "nbconvert_exporter": "python",
   "pygments_lexer": "ipython3",
   "version": "3.11.3"
  }
 },
 "nbformat": 4,
 "nbformat_minor": 5
}
