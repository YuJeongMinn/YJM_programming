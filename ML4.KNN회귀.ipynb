{
 "cells": [
  {
   "cell_type": "markdown",
   "id": "5fe6e4dc",
   "metadata": {},
   "source": [
    "# 생선 길이로 무게 예측\n",
    "\n",
    "- 회귀(regression)\n",
    "    - 임의의 어떤 숫자를 예측하는 문제\n",
    "    - 변수들 사이의 상관관계를 분석하는 방법\n",
    "    \n",
    "- KNN회귀\n",
    "    1. 분류와 똑같이 예측하려는 샘플에 가장 가까운 샘플 k개를 선택\n",
    "    2. k개의 샘플의 종속변수 값의 평균을 구함"
   ]
  },
  {
   "cell_type": "code",
   "execution_count": 5,
   "id": "db0f7e0d",
   "metadata": {},
   "outputs": [],
   "source": [
    "import pandas as pd\n",
    "import numpy as np\n",
    "import matplotlib.pyplot as plt\n",
    "from sklearn.neighbors import KNeighborsRegressor\n",
    "from sklearn.model_selection import train_test_split\n",
    "from sklearn.metrics import mean_absolute_error"
   ]
  },
  {
   "cell_type": "markdown",
   "id": "f0ed6de9",
   "metadata": {},
   "source": [
    "# 데이터 준비"
   ]
  },
  {
   "cell_type": "code",
   "execution_count": 6,
   "id": "83150829",
   "metadata": {},
   "outputs": [],
   "source": [
    "df = pd.read_csv(\"./data/Fish.csv\")"
   ]
  },
  {
   "cell_type": "code",
   "execution_count": 7,
   "id": "6fcdb8c9",
   "metadata": {},
   "outputs": [],
   "source": [
    "# 농어 데이터만 사용\n",
    "df = df.loc[df[\"Species\"] == \"Perch\", [\"Species\", \"Length2\", \"Weight\"]]"
   ]
  },
  {
   "cell_type": "code",
   "execution_count": 8,
   "id": "692aa417",
   "metadata": {},
   "outputs": [
    {
     "data": {
      "text/html": [
       "<div>\n",
       "<style scoped>\n",
       "    .dataframe tbody tr th:only-of-type {\n",
       "        vertical-align: middle;\n",
       "    }\n",
       "\n",
       "    .dataframe tbody tr th {\n",
       "        vertical-align: top;\n",
       "    }\n",
       "\n",
       "    .dataframe thead th {\n",
       "        text-align: right;\n",
       "    }\n",
       "</style>\n",
       "<table border=\"1\" class=\"dataframe\">\n",
       "  <thead>\n",
       "    <tr style=\"text-align: right;\">\n",
       "      <th></th>\n",
       "      <th>Species</th>\n",
       "      <th>Length2</th>\n",
       "      <th>Weight</th>\n",
       "    </tr>\n",
       "  </thead>\n",
       "  <tbody>\n",
       "    <tr>\n",
       "      <th>72</th>\n",
       "      <td>Perch</td>\n",
       "      <td>8.4</td>\n",
       "      <td>5.9</td>\n",
       "    </tr>\n",
       "    <tr>\n",
       "      <th>73</th>\n",
       "      <td>Perch</td>\n",
       "      <td>13.7</td>\n",
       "      <td>32.0</td>\n",
       "    </tr>\n",
       "    <tr>\n",
       "      <th>74</th>\n",
       "      <td>Perch</td>\n",
       "      <td>15.0</td>\n",
       "      <td>40.0</td>\n",
       "    </tr>\n",
       "    <tr>\n",
       "      <th>75</th>\n",
       "      <td>Perch</td>\n",
       "      <td>16.2</td>\n",
       "      <td>51.5</td>\n",
       "    </tr>\n",
       "    <tr>\n",
       "      <th>76</th>\n",
       "      <td>Perch</td>\n",
       "      <td>17.4</td>\n",
       "      <td>70.0</td>\n",
       "    </tr>\n",
       "  </tbody>\n",
       "</table>\n",
       "</div>"
      ],
      "text/plain": [
       "   Species  Length2  Weight\n",
       "72   Perch      8.4     5.9\n",
       "73   Perch     13.7    32.0\n",
       "74   Perch     15.0    40.0\n",
       "75   Perch     16.2    51.5\n",
       "76   Perch     17.4    70.0"
      ]
     },
     "execution_count": 8,
     "metadata": {},
     "output_type": "execute_result"
    }
   ],
   "source": [
    "df.head()"
   ]
  },
  {
   "cell_type": "code",
   "execution_count": 9,
   "id": "488545e5",
   "metadata": {},
   "outputs": [
    {
     "data": {
      "image/png": "[encoded data removed]",
      "text/plain": [
       "<Figure size 640x480 with 1 Axes>"
      ]
     },
     "metadata": {},
     "output_type": "display_data"
    }
   ],
   "source": [
    "plt.figure()\n",
    "\n",
    "plt.scatter(df[\"Length2\"], df[\"Weight\"])\n",
    "\n",
    "plt.xlabel(\"length\")\n",
    "plt.ylabel(\"weight\")\n",
    "plt.show()"
   ]
  },
  {
   "cell_type": "markdown",
   "id": "61b98230",
   "metadata": {},
   "source": [
    "- 길이가 커짐에 따라 무게가 증가하는 경향이 있음"
   ]
  },
  {
   "cell_type": "code",
   "execution_count": 10,
   "id": "a34926d9",
   "metadata": {},
   "outputs": [],
   "source": [
    "x_train, x_test, y_train, y_test = train_test_split(df[\"Length2\"], df[\"Weight\"], test_size = 0.25, random_state = 1)"
   ]
  },
  {
   "cell_type": "code",
   "execution_count": 11,
   "id": "daba1fee",
   "metadata": {},
   "outputs": [
    {
     "data": {
      "text/plain": [
       "82     21.0\n",
       "75     16.2\n",
       "96     24.0\n",
       "124    43.0\n",
       "107    28.7\n",
       "98     24.6\n",
       "117    39.0\n",
       "126    43.5\n",
       "99     25.0\n",
       "106    28.0\n",
       "85     21.3\n",
       "94     23.0\n",
       "119    40.0\n",
       "102    27.3\n",
       "89     22.0\n",
       "123    42.0\n",
       "103    27.5\n",
       "95     23.5\n",
       "76     17.4\n",
       "86     22.0\n",
       "101    26.5\n",
       "100    25.6\n",
       "122    40.0\n",
       "112    36.5\n",
       "90     22.0\n",
       "127    44.0\n",
       "92     22.5\n",
       "97     24.0\n",
       "78     18.7\n",
       "79     19.0\n",
       "125    43.0\n",
       "73     13.7\n",
       "88     22.0\n",
       "72      8.4\n",
       "87     22.0\n",
       "77     18.0\n",
       "83     21.0\n",
       "81     20.0\n",
       "80     19.6\n",
       "84     21.0\n",
       "115    37.0\n",
       "109    32.8\n",
       "Name: Length2, dtype: float64"
      ]
     },
     "execution_count": 11,
     "metadata": {},
     "output_type": "execute_result"
    }
   ],
   "source": [
    "# 독립변수는 2차원 배열이어야 함\n",
    "x_train  # 시리즈 형태"
   ]
  },
  {
   "cell_type": "code",
   "execution_count": 12,
   "id": "8baded77",
   "metadata": {},
   "outputs": [],
   "source": [
    "x_train = np.reshape(x_train.values, (-1, 1))"
   ]
  },
  {
   "cell_type": "code",
   "execution_count": 13,
   "id": "2ecdfd37",
   "metadata": {},
   "outputs": [
    {
     "data": {
      "text/plain": [
       "array([[21. ],\n",
       "       [16.2],\n",
       "       [24. ],\n",
       "       [43. ],\n",
       "       [28.7],\n",
       "       [24.6],\n",
       "       [39. ],\n",
       "       [43.5],\n",
       "       [25. ],\n",
       "       [28. ],\n",
       "       [21.3],\n",
       "       [23. ],\n",
       "       [40. ],\n",
       "       [27.3],\n",
       "       [22. ],\n",
       "       [42. ],\n",
       "       [27.5],\n",
       "       [23.5],\n",
       "       [17.4],\n",
       "       [22. ],\n",
       "       [26.5],\n",
       "       [25.6],\n",
       "       [40. ],\n",
       "       [36.5],\n",
       "       [22. ],\n",
       "       [44. ],\n",
       "       [22.5],\n",
       "       [24. ],\n",
       "       [18.7],\n",
       "       [19. ],\n",
       "       [43. ],\n",
       "       [13.7],\n",
       "       [22. ],\n",
       "       [ 8.4],\n",
       "       [22. ],\n",
       "       [18. ],\n",
       "       [21. ],\n",
       "       [20. ],\n",
       "       [19.6],\n",
       "       [21. ],\n",
       "       [37. ],\n",
       "       [32.8]])"
      ]
     },
     "execution_count": 13,
     "metadata": {},
     "output_type": "execute_result"
    }
   ],
   "source": [
    "x_train"
   ]
  },
  {
   "cell_type": "code",
   "execution_count": 14,
   "id": "b60fd412",
   "metadata": {},
   "outputs": [],
   "source": [
    "x_test = np.reshape(x_test.values, (-1, 1))"
   ]
  },
  {
   "cell_type": "markdown",
   "id": "ba0fc01b",
   "metadata": {},
   "source": [
    "# 모델 훈련"
   ]
  },
  {
   "cell_type": "code",
   "execution_count": 16,
   "id": "0fc3ae4f",
   "metadata": {},
   "outputs": [],
   "source": [
    "knr = KNeighborsRegressor(n_neighbors = 5)"
   ]
  },
  {
   "cell_type": "code",
   "execution_count": 17,
   "id": "3282e0eb",
   "metadata": {},
   "outputs": [
    {
     "data": {
      "text/html": [
       "<style>#sk-container-id-1 {color: black;background-color: white;}#sk-container-id-1 pre{padding: 0;}#sk-container-id-1 div.sk-toggleable {background-color: white;}#sk-container-id-1 label.sk-toggleable__label {cursor: pointer;display: block;width: 100%;margin-bottom: 0;padding: 0.3em;box-sizing: border-box;text-align: center;}#sk-container-id-1 label.sk-toggleable__label-arrow:before {content: \"▸\";float: left;margin-right: 0.25em;color: #696969;}#sk-container-id-1 label.sk-toggleable__label-arrow:hover:before {color: black;}#sk-container-id-1 div.sk-estimator:hover label.sk-toggleable__label-arrow:before {color: black;}#sk-container-id-1 div.sk-toggleable__content {max-height: 0;max-width: 0;overflow: hidden;text-align: left;background-color: #f0f8ff;}#sk-container-id-1 div.sk-toggleable__content pre {margin: 0.2em;color: black;border-radius: 0.25em;background-color: #f0f8ff;}#sk-container-id-1 input.sk-toggleable__control:checked~div.sk-toggleable__content {max-height: 200px;max-width: 100%;overflow: auto;}#sk-container-id-1 input.sk-toggleable__control:checked~label.sk-toggleable__label-arrow:before {content: \"▾\";}#sk-container-id-1 div.sk-estimator input.sk-toggleable__control:checked~label.sk-toggleable__label {background-color: #d4ebff;}#sk-container-id-1 div.sk-label input.sk-toggleable__control:checked~label.sk-toggleable__label {background-color: #d4ebff;}#sk-container-id-1 input.sk-hidden--visually {border: 0;clip: rect(1px 1px 1px 1px);clip: rect(1px, 1px, 1px, 1px);height: 1px;margin: -1px;overflow: hidden;padding: 0;position: absolute;width: 1px;}#sk-container-id-1 div.sk-estimator {font-family: monospace;background-color: #f0f8ff;border: 1px dotted black;border-radius: 0.25em;box-sizing: border-box;margin-bottom: 0.5em;}#sk-container-id-1 div.sk-estimator:hover {background-color: #d4ebff;}#sk-container-id-1 div.sk-parallel-item::after {content: \"\";width: 100%;border-bottom: 1px solid gray;flex-grow: 1;}#sk-container-id-1 div.sk-label:hover label.sk-toggleable__label {background-color: #d4ebff;}#sk-container-id-1 div.sk-serial::before {content: \"\";position: absolute;border-left: 1px solid gray;box-sizing: border-box;top: 0;bottom: 0;left: 50%;z-index: 0;}#sk-container-id-1 div.sk-serial {display: flex;flex-direction: column;align-items: center;background-color: white;padding-right: 0.2em;padding-left: 0.2em;position: relative;}#sk-container-id-1 div.sk-item {position: relative;z-index: 1;}#sk-container-id-1 div.sk-parallel {display: flex;align-items: stretch;justify-content: center;background-color: white;position: relative;}#sk-container-id-1 div.sk-item::before, #sk-container-id-1 div.sk-parallel-item::before {content: \"\";position: absolute;border-left: 1px solid gray;box-sizing: border-box;top: 0;bottom: 0;left: 50%;z-index: -1;}#sk-container-id-1 div.sk-parallel-item {display: flex;flex-direction: column;z-index: 1;position: relative;background-color: white;}#sk-container-id-1 div.sk-parallel-item:first-child::after {align-self: flex-end;width: 50%;}#sk-container-id-1 div.sk-parallel-item:last-child::after {align-self: flex-start;width: 50%;}#sk-container-id-1 div.sk-parallel-item:only-child::after {width: 0;}#sk-container-id-1 div.sk-dashed-wrapped {border: 1px dashed gray;margin: 0 0.4em 0.5em 0.4em;box-sizing: border-box;padding-bottom: 0.4em;background-color: white;}#sk-container-id-1 div.sk-label label {font-family: monospace;font-weight: bold;display: inline-block;line-height: 1.2em;}#sk-container-id-1 div.sk-label-container {text-align: center;}#sk-container-id-1 div.sk-container {/* jupyter's `normalize.less` sets `[hidden] { display: none; }` but bootstrap.min.css set `[hidden] { display: none !important; }` so we also need the `!important` here to be able to override the default hidden behavior on the sphinx rendered scikit-learn.org. See: https://github.com/scikit-learn/scikit-learn/issues/21755 */display: inline-block !important;position: relative;}#sk-container-id-1 div.sk-text-repr-fallback {display: none;}</style><div id=\"sk-container-id-1\" class=\"sk-top-container\"><div class=\"sk-text-repr-fallback\"><pre>KNeighborsRegressor()</pre><b>In a Jupyter environment, please rerun this cell to show the HTML representation or trust the notebook. <br />On GitHub, the HTML representation is unable to render, please try loading this page with nbviewer.org.</b></div><div class=\"sk-container\" hidden><div class=\"sk-item\"><div class=\"sk-estimator sk-toggleable\"><input class=\"sk-toggleable__control sk-hidden--visually\" id=\"sk-estimator-id-1\" type=\"checkbox\" checked><label for=\"sk-estimator-id-1\" class=\"sk-toggleable__label sk-toggleable__label-arrow\">KNeighborsRegressor</label><div class=\"sk-toggleable__content\"><pre>KNeighborsRegressor()</pre></div></div></div></div></div>"
      ],
      "text/plain": [
       "KNeighborsRegressor()"
      ]
     },
     "execution_count": 17,
     "metadata": {},
     "output_type": "execute_result"
    }
   ],
   "source": [
    "knr.fit(x_train, y_train)"
   ]
  },
  {
   "cell_type": "markdown",
   "id": "1a5e4e34",
   "metadata": {},
   "source": [
    "# 모델 평가\n",
    "\n",
    "- 결정계수\n",
    "    - 계산식\n",
    "        - 1 - ((sum((타깃 - 예측)^2)) / (sum((타깃 - 타깃평균)^2)))\n",
    "    - 모델의 설명력을 뜻함\n",
    "    - 1에 가까울수록 모델 성능이 좋다"
   ]
  },
  {
   "cell_type": "code",
   "execution_count": 18,
   "id": "b24dae5e",
   "metadata": {},
   "outputs": [
    {
     "data": {
      "text/plain": [
       "0.9364645895704451"
      ]
     },
     "execution_count": 18,
     "metadata": {},
     "output_type": "execute_result"
    }
   ],
   "source": [
    "knr.score(x_test, y_test)"
   ]
  },
  {
   "cell_type": "markdown",
   "id": "dfb206b6",
   "metadata": {},
   "source": [
    "- mean_absolute_error\n",
    "    - 타깃과 예측의 절댓값 오차를 평균하여 반환"
   ]
  },
  {
   "cell_type": "code",
   "execution_count": 19,
   "id": "5a1f3772",
   "metadata": {},
   "outputs": [],
   "source": [
    "# 테스트 세트에 대한 예측\n",
    "pred = knr.predict(x_test)"
   ]
  },
  {
   "cell_type": "code",
   "execution_count": 20,
   "id": "342711b4",
   "metadata": {},
   "outputs": [
    {
     "data": {
      "text/html": [
       "<div>\n",
       "<style scoped>\n",
       "    .dataframe tbody tr th:only-of-type {\n",
       "        vertical-align: middle;\n",
       "    }\n",
       "\n",
       "    .dataframe tbody tr th {\n",
       "        vertical-align: top;\n",
       "    }\n",
       "\n",
       "    .dataframe thead th {\n",
       "        text-align: right;\n",
       "    }\n",
       "</style>\n",
       "<table border=\"1\" class=\"dataframe\">\n",
       "  <thead>\n",
       "    <tr style=\"text-align: right;\">\n",
       "      <th></th>\n",
       "      <th>ans</th>\n",
       "      <th>pred</th>\n",
       "    </tr>\n",
       "  </thead>\n",
       "  <tbody>\n",
       "    <tr>\n",
       "      <th>116</th>\n",
       "      <td>900.0</td>\n",
       "      <td>739.0</td>\n",
       "    </tr>\n",
       "    <tr>\n",
       "      <th>74</th>\n",
       "      <td>40.0</td>\n",
       "      <td>66.3</td>\n",
       "    </tr>\n",
       "    <tr>\n",
       "      <th>118</th>\n",
       "      <td>820.0</td>\n",
       "      <td>739.0</td>\n",
       "    </tr>\n",
       "    <tr>\n",
       "      <th>91</th>\n",
       "      <td>130.0</td>\n",
       "      <td>133.0</td>\n",
       "    </tr>\n",
       "    <tr>\n",
       "      <th>104</th>\n",
       "      <td>265.0</td>\n",
       "      <td>265.6</td>\n",
       "    </tr>\n",
       "  </tbody>\n",
       "</table>\n",
       "</div>"
      ],
      "text/plain": [
       "       ans   pred\n",
       "116  900.0  739.0\n",
       "74    40.0   66.3\n",
       "118  820.0  739.0\n",
       "91   130.0  133.0\n",
       "104  265.0  265.6"
      ]
     },
     "execution_count": 20,
     "metadata": {},
     "output_type": "execute_result"
    }
   ],
   "source": [
    "pred_df = pd.DataFrame({\"ans\" : y_test, \"pred\" : pred})\n",
    "pred_df.head()"
   ]
  },
  {
   "cell_type": "code",
   "execution_count": 21,
   "id": "227ab77b",
   "metadata": {},
   "outputs": [
    {
     "data": {
      "text/plain": [
       "57.32142857142858"
      ]
     },
     "execution_count": 21,
     "metadata": {},
     "output_type": "execute_result"
    }
   ],
   "source": [
    "# 테스트 세트에 대한 평균 절댓값 오차를 계산\n",
    "mae = mean_absolute_error(y_test, pred)\n",
    "mae"
   ]
  },
  {
   "cell_type": "markdown",
   "id": "c8800261",
   "metadata": {},
   "source": [
    "<img src = \"./image/KNN_VS_LINEAR.png\">"
   ]
  },
  {
   "cell_type": "code",
   "execution_count": 22,
   "id": "2533b17e",
   "metadata": {},
   "outputs": [
    {
     "data": {
      "text/plain": [
       "array([44.])"
      ]
     },
     "execution_count": 22,
     "metadata": {},
     "output_type": "execute_result"
    }
   ],
   "source": [
    "max(x_train)"
   ]
  },
  {
   "cell_type": "code",
   "execution_count": 23,
   "id": "9fed4446",
   "metadata": {},
   "outputs": [
    {
     "data": {
      "text/plain": [
       "array([1040.])"
      ]
     },
     "execution_count": 23,
     "metadata": {},
     "output_type": "execute_result"
    }
   ],
   "source": [
    "knr.predict([[50]])"
   ]
  },
  {
   "cell_type": "code",
   "execution_count": 24,
   "id": "bc114a7e",
   "metadata": {},
   "outputs": [
    {
     "data": {
      "text/plain": [
       "array([1040.])"
      ]
     },
     "execution_count": 24,
     "metadata": {},
     "output_type": "execute_result"
    }
   ],
   "source": [
    "knr.predict([[60]])"
   ]
  },
  {
   "cell_type": "code",
   "execution_count": 25,
   "id": "24b74f94",
   "metadata": {},
   "outputs": [
    {
     "data": {
      "text/plain": [
       "array([1040.])"
      ]
     },
     "execution_count": 25,
     "metadata": {},
     "output_type": "execute_result"
    }
   ],
   "source": [
    "knr.predict([[70]])"
   ]
  },
  {
   "cell_type": "code",
   "execution_count": 26,
   "id": "d1188c89",
   "metadata": {},
   "outputs": [
    {
     "data": {
      "text/plain": [
       "1100.0"
      ]
     },
     "execution_count": 26,
     "metadata": {},
     "output_type": "execute_result"
    }
   ],
   "source": [
    "max(y_train)"
   ]
  },
  {
   "cell_type": "code",
   "execution_count": 27,
   "id": "4d2d39bf",
   "metadata": {},
   "outputs": [],
   "source": [
    "# 50cm 농어의 이웃 찾기\n",
    "dist, idx = knr.kneighbors([[50]])"
   ]
  },
  {
   "cell_type": "code",
   "execution_count": 28,
   "id": "b3c2d632",
   "metadata": {},
   "outputs": [
    {
     "data": {
      "image/png": "[encoded data removed]",
      "text/plain": [
       "<Figure size 640x480 with 1 Axes>"
      ]
     },
     "metadata": {},
     "output_type": "display_data"
    }
   ],
   "source": [
    "plt.figure()\n",
    "\n",
    "plt.scatter(x_train, y_train)\n",
    "plt.scatter(x_train[idx], y_train.iloc[idx.flatten()], marker = \"D\")\n",
    "plt.scatter(50, 1040, marker = \"^\")\n",
    "\n",
    "plt.xlabel(\"length\")\n",
    "plt.ylabel(\"weight\")\n",
    "plt.show()"
   ]
  },
  {
   "cell_type": "code",
   "execution_count": null,
   "id": "9d91bd9e",
   "metadata": {},
   "outputs": [],
   "source": []
  }
 ],
 "metadata": {
  "kernelspec": {
   "display_name": "Python 3 (ipykernel)",
   "language": "python",
   "name": "python3"
  },
  "language_info": {
   "codemirror_mode": {
    "name": "ipython",
    "version": 3
   },
   "file_extension": ".py",
   "mimetype": "text/x-python",
   "name": "python",
   "nbconvert_exporter": "python",
   "pygments_lexer": "ipython3",
   "version": "3.11.3"
  }
 },
 "nbformat": 4,
 "nbformat_minor": 5
}
