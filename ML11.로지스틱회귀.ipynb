{
 "cells": [
  {
   "cell_type": "markdown",
   "id": "b4f9902e",
   "metadata": {},
   "source": [
    "# 로지스틱 회귀\n",
    "\n",
    "- 의의\n",
    "    - 확률을 예측하는데 사용되는 통계 모델\n",
    "        - 특정 결과의 확률을 계산\n",
    "        \n",
    "    - 결과값은 이진이어야 함(결과는 둘 중 하나)\n",
    "        - 원하는 결과는 1, 원하지 않는 결과는 0\n",
    "        \n",
    "    - 선형회귀와 마찬가지로 다중 공선성은 거의 없어야 함\n",
    "        - 독립변수는 서로 독립적이어야 함\n",
    "    \n",
    "    - 종속변수와 관련 없는 독립변수를 제거할 때 더 효율적인 경향이 있음\n",
    "    \n",
    "- 장점\n",
    "    - 많은 양의 연산 자원을 필요로 하지 않음\n",
    "    - 쉽게 해석할 수 있음\n",
    "    \n",
    "- 단점\n",
    "    - 비선형 데이터에 사용하기 힘듦\n",
    "    - 과대적합에 취약함\n",
    "    - 1과 0으로만 결과가 출력되기 때문에 범주형 결과를 예측하는 데에만 사용가능"
   ]
  },
  {
   "cell_type": "code",
   "execution_count": 4,
   "id": "1ad29038",
   "metadata": {},
   "outputs": [],
   "source": [
    "import numpy as np\n",
    "import pandas as pd\n",
    "import matplotlib.pyplot as plt\n",
    "from sklearn.model_selection import train_test_split\n",
    "from sklearn.preprocessing import StandardScaler\n",
    "from sklearn.linear_model import LogisticRegression\n",
    "from sklearn.metrics import roc_curve, roc_auc_score\n",
    "from scipy.special import expit, softmax\n",
    "plt.rcParams['axes.unicode_minus'] = False"
   ]
  },
  {
   "cell_type": "code",
   "execution_count": 5,
   "id": "6e1fbf8e",
   "metadata": {},
   "outputs": [
    {
     "data": {
      "image/png": "[encoded data removed]",
      "text/plain": [
       "<Figure size 640x480 with 1 Axes>"
      ]
     },
     "metadata": {},
     "output_type": "display_data"
    }
   ],
   "source": [
    "# 로지스틱 함수 시각화\n",
    "z = np.arange(-5, 5, 0.1)\n",
    "phi = 1 / (1 + np.exp(-z))\n",
    "plt.plot(z, phi)\n",
    "plt.xlabel(\"z\")\n",
    "plt.ylabel(\"phi\")\n",
    "plt.show()"
   ]
  },
  {
   "cell_type": "markdown",
   "id": "f7492caf",
   "metadata": {},
   "source": [
    "## 데이터 준비"
   ]
  },
  {
   "cell_type": "code",
   "execution_count": 6,
   "id": "cb341abe",
   "metadata": {},
   "outputs": [],
   "source": [
    "df = pd.read_csv(\"./data/Fish.csv\")"
   ]
  },
  {
   "cell_type": "code",
   "execution_count": 7,
   "id": "06573df6",
   "metadata": {},
   "outputs": [],
   "source": [
    "df_bs = df[df[\"Species\"].isin([\"Bream\", \"Smelt\"])]"
   ]
  },
  {
   "cell_type": "code",
   "execution_count": 8,
   "id": "5d81f504",
   "metadata": {},
   "outputs": [
    {
     "data": {
      "text/html": [
       "<div>\n",
       "<style scoped>\n",
       "    .dataframe tbody tr th:only-of-type {\n",
       "        vertical-align: middle;\n",
       "    }\n",
       "\n",
       "    .dataframe tbody tr th {\n",
       "        vertical-align: top;\n",
       "    }\n",
       "\n",
       "    .dataframe thead th {\n",
       "        text-align: right;\n",
       "    }\n",
       "</style>\n",
       "<table border=\"1\" class=\"dataframe\">\n",
       "  <thead>\n",
       "    <tr style=\"text-align: right;\">\n",
       "      <th></th>\n",
       "      <th>Species</th>\n",
       "      <th>Weight</th>\n",
       "      <th>Length1</th>\n",
       "      <th>Length2</th>\n",
       "      <th>Length3</th>\n",
       "      <th>Height</th>\n",
       "      <th>Width</th>\n",
       "    </tr>\n",
       "  </thead>\n",
       "  <tbody>\n",
       "    <tr>\n",
       "      <th>0</th>\n",
       "      <td>Bream</td>\n",
       "      <td>242.0</td>\n",
       "      <td>23.2</td>\n",
       "      <td>25.4</td>\n",
       "      <td>30.0</td>\n",
       "      <td>11.52</td>\n",
       "      <td>4.0200</td>\n",
       "    </tr>\n",
       "    <tr>\n",
       "      <th>1</th>\n",
       "      <td>Bream</td>\n",
       "      <td>290.0</td>\n",
       "      <td>24.0</td>\n",
       "      <td>26.3</td>\n",
       "      <td>31.2</td>\n",
       "      <td>12.48</td>\n",
       "      <td>4.3056</td>\n",
       "    </tr>\n",
       "  </tbody>\n",
       "</table>\n",
       "</div>"
      ],
      "text/plain": [
       "  Species  Weight  Length1  Length2  Length3  Height   Width\n",
       "0   Bream   242.0     23.2     25.4     30.0   11.52  4.0200\n",
       "1   Bream   290.0     24.0     26.3     31.2   12.48  4.3056"
      ]
     },
     "execution_count": 8,
     "metadata": {},
     "output_type": "execute_result"
    }
   ],
   "source": [
    "df_bs.head(2)"
   ]
  },
  {
   "cell_type": "code",
   "execution_count": 9,
   "id": "c4ea680c",
   "metadata": {},
   "outputs": [
    {
     "data": {
      "text/html": [
       "<div>\n",
       "<style scoped>\n",
       "    .dataframe tbody tr th:only-of-type {\n",
       "        vertical-align: middle;\n",
       "    }\n",
       "\n",
       "    .dataframe tbody tr th {\n",
       "        vertical-align: top;\n",
       "    }\n",
       "\n",
       "    .dataframe thead th {\n",
       "        text-align: right;\n",
       "    }\n",
       "</style>\n",
       "<table border=\"1\" class=\"dataframe\">\n",
       "  <thead>\n",
       "    <tr style=\"text-align: right;\">\n",
       "      <th></th>\n",
       "      <th>Species</th>\n",
       "      <th>Weight</th>\n",
       "      <th>Length1</th>\n",
       "      <th>Length2</th>\n",
       "      <th>Length3</th>\n",
       "      <th>Height</th>\n",
       "      <th>Width</th>\n",
       "    </tr>\n",
       "  </thead>\n",
       "  <tbody>\n",
       "    <tr>\n",
       "      <th>157</th>\n",
       "      <td>Smelt</td>\n",
       "      <td>19.7</td>\n",
       "      <td>13.2</td>\n",
       "      <td>14.3</td>\n",
       "      <td>15.2</td>\n",
       "      <td>2.8728</td>\n",
       "      <td>2.0672</td>\n",
       "    </tr>\n",
       "    <tr>\n",
       "      <th>158</th>\n",
       "      <td>Smelt</td>\n",
       "      <td>19.9</td>\n",
       "      <td>13.8</td>\n",
       "      <td>15.0</td>\n",
       "      <td>16.2</td>\n",
       "      <td>2.9322</td>\n",
       "      <td>1.8792</td>\n",
       "    </tr>\n",
       "  </tbody>\n",
       "</table>\n",
       "</div>"
      ],
      "text/plain": [
       "    Species  Weight  Length1  Length2  Length3  Height   Width\n",
       "157   Smelt    19.7     13.2     14.3     15.2  2.8728  2.0672\n",
       "158   Smelt    19.9     13.8     15.0     16.2  2.9322  1.8792"
      ]
     },
     "execution_count": 9,
     "metadata": {},
     "output_type": "execute_result"
    }
   ],
   "source": [
    "df_bs.tail(2)"
   ]
  },
  {
   "cell_type": "code",
   "execution_count": 10,
   "id": "d7d62dee",
   "metadata": {},
   "outputs": [],
   "source": [
    "df_bs = df_bs.drop(\"Length1\", axis = 1)"
   ]
  },
  {
   "cell_type": "code",
   "execution_count": 11,
   "id": "9226ff12",
   "metadata": {},
   "outputs": [
    {
     "data": {
      "text/html": [
       "<div>\n",
       "<style scoped>\n",
       "    .dataframe tbody tr th:only-of-type {\n",
       "        vertical-align: middle;\n",
       "    }\n",
       "\n",
       "    .dataframe tbody tr th {\n",
       "        vertical-align: top;\n",
       "    }\n",
       "\n",
       "    .dataframe thead th {\n",
       "        text-align: right;\n",
       "    }\n",
       "</style>\n",
       "<table border=\"1\" class=\"dataframe\">\n",
       "  <thead>\n",
       "    <tr style=\"text-align: right;\">\n",
       "      <th></th>\n",
       "      <th>Species</th>\n",
       "      <th>Weight</th>\n",
       "      <th>Length2</th>\n",
       "      <th>Length3</th>\n",
       "      <th>Height</th>\n",
       "      <th>Width</th>\n",
       "    </tr>\n",
       "  </thead>\n",
       "  <tbody>\n",
       "    <tr>\n",
       "      <th>0</th>\n",
       "      <td>Bream</td>\n",
       "      <td>242.0</td>\n",
       "      <td>25.4</td>\n",
       "      <td>30.0</td>\n",
       "      <td>11.5200</td>\n",
       "      <td>4.0200</td>\n",
       "    </tr>\n",
       "    <tr>\n",
       "      <th>1</th>\n",
       "      <td>Bream</td>\n",
       "      <td>290.0</td>\n",
       "      <td>26.3</td>\n",
       "      <td>31.2</td>\n",
       "      <td>12.4800</td>\n",
       "      <td>4.3056</td>\n",
       "    </tr>\n",
       "    <tr>\n",
       "      <th>2</th>\n",
       "      <td>Bream</td>\n",
       "      <td>340.0</td>\n",
       "      <td>26.5</td>\n",
       "      <td>31.1</td>\n",
       "      <td>12.3778</td>\n",
       "      <td>4.6961</td>\n",
       "    </tr>\n",
       "    <tr>\n",
       "      <th>3</th>\n",
       "      <td>Bream</td>\n",
       "      <td>363.0</td>\n",
       "      <td>29.0</td>\n",
       "      <td>33.5</td>\n",
       "      <td>12.7300</td>\n",
       "      <td>4.4555</td>\n",
       "    </tr>\n",
       "    <tr>\n",
       "      <th>4</th>\n",
       "      <td>Bream</td>\n",
       "      <td>430.0</td>\n",
       "      <td>29.0</td>\n",
       "      <td>34.0</td>\n",
       "      <td>12.4440</td>\n",
       "      <td>5.1340</td>\n",
       "    </tr>\n",
       "  </tbody>\n",
       "</table>\n",
       "</div>"
      ],
      "text/plain": [
       "  Species  Weight  Length2  Length3   Height   Width\n",
       "0   Bream   242.0     25.4     30.0  11.5200  4.0200\n",
       "1   Bream   290.0     26.3     31.2  12.4800  4.3056\n",
       "2   Bream   340.0     26.5     31.1  12.3778  4.6961\n",
       "3   Bream   363.0     29.0     33.5  12.7300  4.4555\n",
       "4   Bream   430.0     29.0     34.0  12.4440  5.1340"
      ]
     },
     "execution_count": 11,
     "metadata": {},
     "output_type": "execute_result"
    }
   ],
   "source": [
    "df_bs.head()"
   ]
  },
  {
   "cell_type": "code",
   "execution_count": 12,
   "id": "d8c61a26",
   "metadata": {},
   "outputs": [],
   "source": [
    "x = df_bs.drop(\"Species\", axis = 1)\n",
    "y = df_bs[\"Species\"]"
   ]
  },
  {
   "cell_type": "code",
   "execution_count": 13,
   "id": "f23e681f",
   "metadata": {},
   "outputs": [],
   "source": [
    "x_train, x_test, y_train, y_test = train_test_split(x, y, test_size = 0.25, stratify = y, random_state = 4)"
   ]
  },
  {
   "cell_type": "code",
   "execution_count": 14,
   "id": "4d8458ee",
   "metadata": {},
   "outputs": [],
   "source": [
    "ss = StandardScaler()\n",
    "scaled_train = ss.fit_transform(x_train)\n",
    "scaled_test = ss.transform(x_test)"
   ]
  },
  {
   "cell_type": "markdown",
   "id": "665c7f57",
   "metadata": {},
   "source": [
    "## 모델 훈련"
   ]
  },
  {
   "cell_type": "code",
   "execution_count": 15,
   "id": "af78b902",
   "metadata": {},
   "outputs": [
    {
     "data": {
      "text/html": [
       "<style>#sk-container-id-1 {color: black;background-color: white;}#sk-container-id-1 pre{padding: 0;}#sk-container-id-1 div.sk-toggleable {background-color: white;}#sk-container-id-1 label.sk-toggleable__label {cursor: pointer;display: block;width: 100%;margin-bottom: 0;padding: 0.3em;box-sizing: border-box;text-align: center;}#sk-container-id-1 label.sk-toggleable__label-arrow:before {content: \"▸\";float: left;margin-right: 0.25em;color: #696969;}#sk-container-id-1 label.sk-toggleable__label-arrow:hover:before {color: black;}#sk-container-id-1 div.sk-estimator:hover label.sk-toggleable__label-arrow:before {color: black;}#sk-container-id-1 div.sk-toggleable__content {max-height: 0;max-width: 0;overflow: hidden;text-align: left;background-color: #f0f8ff;}#sk-container-id-1 div.sk-toggleable__content pre {margin: 0.2em;color: black;border-radius: 0.25em;background-color: #f0f8ff;}#sk-container-id-1 input.sk-toggleable__control:checked~div.sk-toggleable__content {max-height: 200px;max-width: 100%;overflow: auto;}#sk-container-id-1 input.sk-toggleable__control:checked~label.sk-toggleable__label-arrow:before {content: \"▾\";}#sk-container-id-1 div.sk-estimator input.sk-toggleable__control:checked~label.sk-toggleable__label {background-color: #d4ebff;}#sk-container-id-1 div.sk-label input.sk-toggleable__control:checked~label.sk-toggleable__label {background-color: #d4ebff;}#sk-container-id-1 input.sk-hidden--visually {border: 0;clip: rect(1px 1px 1px 1px);clip: rect(1px, 1px, 1px, 1px);height: 1px;margin: -1px;overflow: hidden;padding: 0;position: absolute;width: 1px;}#sk-container-id-1 div.sk-estimator {font-family: monospace;background-color: #f0f8ff;border: 1px dotted black;border-radius: 0.25em;box-sizing: border-box;margin-bottom: 0.5em;}#sk-container-id-1 div.sk-estimator:hover {background-color: #d4ebff;}#sk-container-id-1 div.sk-parallel-item::after {content: \"\";width: 100%;border-bottom: 1px solid gray;flex-grow: 1;}#sk-container-id-1 div.sk-label:hover label.sk-toggleable__label {background-color: #d4ebff;}#sk-container-id-1 div.sk-serial::before {content: \"\";position: absolute;border-left: 1px solid gray;box-sizing: border-box;top: 0;bottom: 0;left: 50%;z-index: 0;}#sk-container-id-1 div.sk-serial {display: flex;flex-direction: column;align-items: center;background-color: white;padding-right: 0.2em;padding-left: 0.2em;position: relative;}#sk-container-id-1 div.sk-item {position: relative;z-index: 1;}#sk-container-id-1 div.sk-parallel {display: flex;align-items: stretch;justify-content: center;background-color: white;position: relative;}#sk-container-id-1 div.sk-item::before, #sk-container-id-1 div.sk-parallel-item::before {content: \"\";position: absolute;border-left: 1px solid gray;box-sizing: border-box;top: 0;bottom: 0;left: 50%;z-index: -1;}#sk-container-id-1 div.sk-parallel-item {display: flex;flex-direction: column;z-index: 1;position: relative;background-color: white;}#sk-container-id-1 div.sk-parallel-item:first-child::after {align-self: flex-end;width: 50%;}#sk-container-id-1 div.sk-parallel-item:last-child::after {align-self: flex-start;width: 50%;}#sk-container-id-1 div.sk-parallel-item:only-child::after {width: 0;}#sk-container-id-1 div.sk-dashed-wrapped {border: 1px dashed gray;margin: 0 0.4em 0.5em 0.4em;box-sizing: border-box;padding-bottom: 0.4em;background-color: white;}#sk-container-id-1 div.sk-label label {font-family: monospace;font-weight: bold;display: inline-block;line-height: 1.2em;}#sk-container-id-1 div.sk-label-container {text-align: center;}#sk-container-id-1 div.sk-container {/* jupyter's `normalize.less` sets `[hidden] { display: none; }` but bootstrap.min.css set `[hidden] { display: none !important; }` so we also need the `!important` here to be able to override the default hidden behavior on the sphinx rendered scikit-learn.org. See: https://github.com/scikit-learn/scikit-learn/issues/21755 */display: inline-block !important;position: relative;}#sk-container-id-1 div.sk-text-repr-fallback {display: none;}</style><div id=\"sk-container-id-1\" class=\"sk-top-container\"><div class=\"sk-text-repr-fallback\"><pre>LogisticRegression()</pre><b>In a Jupyter environment, please rerun this cell to show the HTML representation or trust the notebook. <br />On GitHub, the HTML representation is unable to render, please try loading this page with nbviewer.org.</b></div><div class=\"sk-container\" hidden><div class=\"sk-item\"><div class=\"sk-estimator sk-toggleable\"><input class=\"sk-toggleable__control sk-hidden--visually\" id=\"sk-estimator-id-1\" type=\"checkbox\" checked><label for=\"sk-estimator-id-1\" class=\"sk-toggleable__label sk-toggleable__label-arrow\">LogisticRegression</label><div class=\"sk-toggleable__content\"><pre>LogisticRegression()</pre></div></div></div></div></div>"
      ],
      "text/plain": [
       "LogisticRegression()"
      ]
     },
     "execution_count": 15,
     "metadata": {},
     "output_type": "execute_result"
    }
   ],
   "source": [
    "logi = LogisticRegression()\n",
    "logi.fit(scaled_train, y_train)"
   ]
  },
  {
   "cell_type": "code",
   "execution_count": 16,
   "id": "129f6a4a",
   "metadata": {},
   "outputs": [
    {
     "data": {
      "text/plain": [
       "array(['Bream', 'Smelt', 'Bream', 'Bream', 'Bream', 'Smelt', 'Smelt',\n",
       "       'Bream', 'Smelt', 'Bream', 'Bream', 'Bream', 'Bream'], dtype=object)"
      ]
     },
     "execution_count": 16,
     "metadata": {},
     "output_type": "execute_result"
    }
   ],
   "source": [
    "logi.predict(scaled_test)"
   ]
  },
  {
   "cell_type": "code",
   "execution_count": 17,
   "id": "1320785b",
   "metadata": {},
   "outputs": [
    {
     "data": {
      "text/plain": [
       "array([[0.97148899, 0.02851101],\n",
       "       [0.04079957, 0.95920043],\n",
       "       [0.99616728, 0.00383272],\n",
       "       [0.95984921, 0.04015079],\n",
       "       [0.96947094, 0.03052906]])"
      ]
     },
     "execution_count": 17,
     "metadata": {},
     "output_type": "execute_result"
    }
   ],
   "source": [
    "# 예측확률 출력\n",
    "logi.predict_proba(scaled_test)[:5]"
   ]
  },
  {
   "cell_type": "code",
   "execution_count": 18,
   "id": "1e5a7a20",
   "metadata": {},
   "outputs": [
    {
     "data": {
      "text/plain": [
       "array(['Bream', 'Smelt'], dtype=object)"
      ]
     },
     "execution_count": 18,
     "metadata": {},
     "output_type": "execute_result"
    }
   ],
   "source": [
    "# 종속변수 값 확인\n",
    "logi.classes_"
   ]
  },
  {
   "cell_type": "code",
   "execution_count": 19,
   "id": "3fc3af44",
   "metadata": {},
   "outputs": [
    {
     "data": {
      "text/plain": [
       "(array([[-0.57696306, -0.77084508, -0.80633017, -0.85006795, -0.79827986]]),\n",
       " array([-2.70376518]))"
      ]
     },
     "execution_count": 19,
     "metadata": {},
     "output_type": "execute_result"
    }
   ],
   "source": [
    "# 로지스틱 회귀 회귀식 확인\n",
    "logi.coef_, logi.intercept_"
   ]
  },
  {
   "cell_type": "markdown",
   "id": "17535c67",
   "metadata": {},
   "source": [
    "- z = Weight * -0.57 + Length2 * -0.77 + Length3 * -0.8 + Height * -0.85 + Width * -0.79 + (-2.7)"
   ]
  },
  {
   "cell_type": "markdown",
   "id": "71d1e196",
   "metadata": {},
   "source": [
    "# 회귀식을 통한 확률값 계산"
   ]
  },
  {
   "cell_type": "code",
   "execution_count": 20,
   "id": "2c8f2be0",
   "metadata": {},
   "outputs": [
    {
     "data": {
      "text/plain": [
       "array([-3.5285396 ,  3.15742852, -5.56034138, -3.17413406, -3.45807148])"
      ]
     },
     "execution_count": 20,
     "metadata": {},
     "output_type": "execute_result"
    }
   ],
   "source": [
    "# z값 계산\n",
    "decision_z = logi.decision_function(scaled_test[:5])\n",
    "decision_z"
   ]
  },
  {
   "cell_type": "code",
   "execution_count": 21,
   "id": "8445c390",
   "metadata": {},
   "outputs": [
    {
     "data": {
      "text/plain": [
       "array([-0.09071436,  0.22112041,  0.2702087 ,  0.35347067,  0.23589742])"
      ]
     },
     "execution_count": 21,
     "metadata": {},
     "output_type": "execute_result"
    }
   ],
   "source": [
    "scaled_test[0]"
   ]
  },
  {
   "cell_type": "code",
   "execution_count": 22,
   "id": "1780ee30",
   "metadata": {},
   "outputs": [
    {
     "data": {
      "text/plain": [
       "-3.5133"
      ]
     },
     "execution_count": 22,
     "metadata": {},
     "output_type": "execute_result"
    }
   ],
   "source": [
    "-0.09 * -0.57 + 0.22 * -0.77 + 0.27 * -0.8 + 0.35 * -0.85 + 0.23 * -0.79 -2.7"
   ]
  },
  {
   "cell_type": "code",
   "execution_count": 23,
   "id": "e365075f",
   "metadata": {},
   "outputs": [
    {
     "data": {
      "text/plain": [
       "array([0.02851101, 0.95920043, 0.00383272, 0.04015079, 0.03052906])"
      ]
     },
     "execution_count": 23,
     "metadata": {},
     "output_type": "execute_result"
    }
   ],
   "source": [
    "# z값을 로지스틱 함수에 통과시켜 확률값 계산\n",
    "expit(decision_z) # 1번 범주에 속할 확률"
   ]
  },
  {
   "cell_type": "code",
   "execution_count": 24,
   "id": "3bf171ee",
   "metadata": {},
   "outputs": [
    {
     "data": {
      "text/plain": [
       "0.97148899"
      ]
     },
     "execution_count": 24,
     "metadata": {},
     "output_type": "execute_result"
    }
   ],
   "source": [
    "1 - 0.02851101"
   ]
  },
  {
   "cell_type": "code",
   "execution_count": 26,
   "id": "86f13f20",
   "metadata": {
    "scrolled": true
   },
   "outputs": [
    {
     "data": {
      "text/plain": [
       "1.0"
      ]
     },
     "execution_count": 26,
     "metadata": {},
     "output_type": "execute_result"
    }
   ],
   "source": [
    "# logistic 모델 정확도\n",
    "logi.score(scaled_test, y_test)"
   ]
  },
  {
   "cell_type": "code",
   "execution_count": 29,
   "id": "3b6bd18a",
   "metadata": {},
   "outputs": [
    {
     "data": {
      "text/plain": [
       "8      0\n",
       "153    1\n",
       "26     0\n",
       "7      0\n",
       "5      0\n",
       "155    1\n",
       "148    1\n",
       "9      0\n",
       "145    1\n",
       "18     0\n",
       "13     0\n",
       "1      0\n",
       "23     0\n",
       "Name: Species, dtype: int64"
      ]
     },
     "execution_count": 29,
     "metadata": {},
     "output_type": "execute_result"
    }
   ],
   "source": [
    "y_test.map(lambda x: 0 if x == \"Bream\" else 1)"
   ]
  },
  {
   "cell_type": "code",
   "execution_count": 30,
   "id": "d6033f6c",
   "metadata": {},
   "outputs": [
    {
     "data": {
      "text/plain": [
       "array([0., 0., 0., 1.])"
      ]
     },
     "execution_count": 30,
     "metadata": {},
     "output_type": "execute_result"
    }
   ],
   "source": [
    "fprs"
   ]
  },
  {
   "cell_type": "code",
   "execution_count": 31,
   "id": "80293619",
   "metadata": {},
   "outputs": [
    {
     "data": {
      "text/plain": [
       "array([0.  , 0.25, 1.  , 1.  ])"
      ]
     },
     "execution_count": 31,
     "metadata": {},
     "output_type": "execute_result"
    }
   ],
   "source": [
    "tprs"
   ]
  },
  {
   "cell_type": "code",
   "execution_count": 32,
   "id": "539678c8",
   "metadata": {},
   "outputs": [
    {
     "data": {
      "text/plain": [
       "array([1.97322438, 0.97322438, 0.95352092, 0.00383272])"
      ]
     },
     "execution_count": 32,
     "metadata": {},
     "output_type": "execute_result"
    }
   ],
   "source": [
    "thresholds"
   ]
  },
  {
   "cell_type": "code",
   "execution_count": 28,
   "id": "6821b352",
   "metadata": {},
   "outputs": [
    {
     "data": {
      "image/png": "[encoded data removed]",
      "text/plain": [
       "<Figure size 640x480 with 1 Axes>"
      ]
     },
     "metadata": {},
     "output_type": "display_data"
    }
   ],
   "source": [
    "# roc 커브\n",
    "pred_proba_class1 = logi.predict_proba(scaled_test)[:, 1]\n",
    "\n",
    "fprs, tprs, thresholds = roc_curve(y_test.map(lambda x: 0 if x == \"Bream\" else 1), pred_proba_class1)\n",
    "\n",
    "plt.figure()\n",
    "plt.plot(fprs, tprs, label = \"ROC\")\n",
    "plt.plot([0,1], [0,1], \"k--\", label=\"Random\")\n",
    "\n",
    "plt.xticks(np.round(np.arange(0, 1, 0.1), 2))\n",
    "plt.xlabel(\"FPR\")\n",
    "plt.ylabel(\"TPR\")\n",
    "plt.legend()\n",
    "\n",
    "plt.show()"
   ]
  },
  {
   "cell_type": "code",
   "execution_count": 33,
   "id": "7da86460",
   "metadata": {},
   "outputs": [
    {
     "data": {
      "text/plain": [
       "1.0"
      ]
     },
     "execution_count": 33,
     "metadata": {},
     "output_type": "execute_result"
    }
   ],
   "source": [
    "roc_auc_score(y_test, pred_proba_class1)"
   ]
  },
  {
   "cell_type": "markdown",
   "id": "03cbe44f",
   "metadata": {},
   "source": [
    "#### ROC 곡선(Receiver Operation Characteristic Curve)\n",
    "\n",
    "<img src = \"./image/roc.png\">"
   ]
  },
  {
   "cell_type": "markdown",
   "id": "8226fe45",
   "metadata": {},
   "source": [
    "- 수신자 판단 곡선\n",
    "- 머신러닝의 이진 분류 모델의 예측 성능을 판단하는 평가 지표\n",
    "- FPR(False Positive Rate)가 변할 때 TPR(True Positive Rate)의 변화를 나타낸 곡선\n",
    "    - TPR\n",
    "        - 재현율\n",
    "        - TP / (TP + FN)\n",
    "        - 실제 양성인 데이터 중 양성으로 예측된 비율\n",
    "    - FPR\n",
    "        - 1 - 특이도\n",
    "        - FP / (FP + TN)\n",
    "        - 실제 음성인 데이터 중 양성으로 잘못 예측된 비율\n",
    "              \n",
    "- ROC 곡선의 가운데 직선은 ROC 곡선의 최저값\n",
    "    - 랜덤 수준의 이진 분류의 ROC 직선\n",
    "    - ROC 곡선이 직선에서 멀어질수록 성능이 뛰어난 것\n",
    "    \n",
    "- 분류 결정 임계값을 변경하여 FPR을 0부터 1까지 변경하면서 TPR의 변화값을 구함\n",
    "    - 임계값을 1로 지정하면 FPR이 0이 됨\n",
    "        - 100% 확실한 경우에만 양성으로 예측한다면 실제 음성인 데이터를 양성으로 잘못 예측할 확률은 0\n",
    "        \n",
    "    - 임계값을 0으로 지정하면 FPR은 1이 됨\n",
    "        - 모든 데이터를 양성으로 예측한다면 실제 음성인 데이터를 양성으로 잘못 예측할 확률은 100%"
   ]
  },
  {
   "cell_type": "markdown",
   "id": "63810bdf",
   "metadata": {},
   "source": [
    "## 로지스틱 회귀로 다중 분류"
   ]
  },
  {
   "cell_type": "code",
   "execution_count": 34,
   "id": "f0e1d5fe",
   "metadata": {},
   "outputs": [],
   "source": [
    "df = df[[\"Species\", \"Weight\", \"Length2\", \"Length3\", \"Height\", \"Width\"]]"
   ]
  },
  {
   "cell_type": "code",
   "execution_count": 35,
   "id": "12cf9c49",
   "metadata": {},
   "outputs": [],
   "source": [
    "x = df.drop(\"Species\", axis = 1)\n",
    "y = df[\"Species\"]"
   ]
  },
  {
   "cell_type": "code",
   "execution_count": 36,
   "id": "f5caf221",
   "metadata": {},
   "outputs": [
    {
     "data": {
      "text/plain": [
       "(159, 6)"
      ]
     },
     "execution_count": 36,
     "metadata": {},
     "output_type": "execute_result"
    }
   ],
   "source": [
    "df.shape"
   ]
  },
  {
   "cell_type": "code",
   "execution_count": 37,
   "id": "f4791bf1",
   "metadata": {},
   "outputs": [
    {
     "data": {
      "text/plain": [
       "7"
      ]
     },
     "execution_count": 37,
     "metadata": {},
     "output_type": "execute_result"
    }
   ],
   "source": [
    "df[\"Species\"].nunique()"
   ]
  },
  {
   "cell_type": "code",
   "execution_count": 39,
   "id": "1192becd",
   "metadata": {},
   "outputs": [],
   "source": [
    "x_train, x_test, y_train, y_test = train_test_split(x, y, test_size=0.25, stratify=y, random_state = 4)"
   ]
  },
  {
   "cell_type": "code",
   "execution_count": 40,
   "id": "53f7f38a",
   "metadata": {},
   "outputs": [],
   "source": [
    "ss = StandardScaler()\n",
    "scaled_train = ss.fit_transform(x_train)\n",
    "scaled_test = ss.transform(x_test)"
   ]
  },
  {
   "cell_type": "code",
   "execution_count": 41,
   "id": "9de79be4",
   "metadata": {},
   "outputs": [
    {
     "name": "stdout",
     "output_type": "stream",
     "text": [
      "0.8067226890756303\n",
      "0.825\n"
     ]
    }
   ],
   "source": [
    "logi = LogisticRegression()\n",
    "logi.fit(scaled_train, y_train)\n",
    "print(logi.score(scaled_train, y_train))\n",
    "print(logi.score(scaled_test, y_test))"
   ]
  },
  {
   "cell_type": "code",
   "execution_count": 42,
   "id": "449dd360",
   "metadata": {},
   "outputs": [
    {
     "data": {
      "text/plain": [
       "array(['Perch', 'Bream', 'Perch', 'Smelt', 'Perch', 'Smelt', 'Perch',\n",
       "       'Parkki', 'Bream', 'Perch', 'Perch', 'Smelt', 'Bream', 'Perch',\n",
       "       'Bream', 'Bream', 'Perch', 'Perch', 'Perch', 'Pike', 'Perch',\n",
       "       'Parkki', 'Bream', 'Perch', 'Bream', 'Bream', 'Perch', 'Pike',\n",
       "       'Bream', 'Perch', 'Perch', 'Perch', 'Pike', 'Perch', 'Perch',\n",
       "       'Perch', 'Parkki', 'Perch', 'Pike', 'Perch'], dtype=object)"
      ]
     },
     "execution_count": 42,
     "metadata": {},
     "output_type": "execute_result"
    }
   ],
   "source": [
    "logi.predict(scaled_test)"
   ]
  },
  {
   "cell_type": "code",
   "execution_count": 43,
   "id": "b3632c01",
   "metadata": {},
   "outputs": [
    {
     "name": "stdout",
     "output_type": "stream",
     "text": [
      "[[0.009 0.064 0.602 0.021 0.258 0.018 0.028]\n",
      " [0.932 0.028 0.007 0.005 0.007 0.    0.021]\n",
      " [0.041 0.055 0.547 0.068 0.228 0.002 0.06 ]\n",
      " [0.    0.049 0.143 0.002 0.088 0.714 0.002]\n",
      " [0.007 0.129 0.439 0.013 0.31  0.082 0.019]]\n"
     ]
    }
   ],
   "source": [
    "# 예측 확률값 확인\n",
    "proba = logi.predict_proba(scaled_test[:5])\n",
    "print(np.round(proba, decimals = 3))"
   ]
  },
  {
   "cell_type": "code",
   "execution_count": 44,
   "id": "a371d69d",
   "metadata": {},
   "outputs": [
    {
     "data": {
      "text/plain": [
       "array(['Bream', 'Parkki', 'Perch', 'Pike', 'Roach', 'Smelt', 'Whitefish'],\n",
       "      dtype=object)"
      ]
     },
     "execution_count": 44,
     "metadata": {},
     "output_type": "execute_result"
    }
   ],
   "source": [
    "# 종속변수 확인\n",
    "logi.classes_"
   ]
  },
  {
   "cell_type": "code",
   "execution_count": 45,
   "id": "ea8ad5b6",
   "metadata": {},
   "outputs": [
    {
     "data": {
      "text/plain": [
       "array([[ 0.03466818, -0.14426458,  0.59447569,  2.87750097, -0.32660901],\n",
       "       [-0.42664549, -0.68816025, -0.66056168,  1.84659393, -0.70298749],\n",
       "       [ 1.051147  ,  0.23258994, -1.31369402, -1.873154  ,  1.96370622],\n",
       "       [-0.08529506,  1.76189614,  1.71727333, -1.22798479, -0.72536922],\n",
       "       [-0.87958312, -0.3986401 ,  0.31522013, -0.3711218 ,  0.58065257],\n",
       "       [-0.3172497 , -0.77847619, -0.75299294, -1.2619235 , -1.66094845],\n",
       "       [ 0.62295819,  0.01505504,  0.10027948,  0.01008918,  0.87155537]])"
      ]
     },
     "execution_count": 45,
     "metadata": {},
     "output_type": "execute_result"
    }
   ],
   "source": [
    "# 회귀식 확인\n",
    "logi.coef_"
   ]
  },
  {
   "cell_type": "code",
   "execution_count": 46,
   "id": "47c8deec",
   "metadata": {},
   "outputs": [
    {
     "data": {
      "text/plain": [
       "array([ 0.49493769, -0.0171718 ,  2.22732827,  0.02106828,  0.96085809,\n",
       "       -4.10510449,  0.41808396])"
      ]
     },
     "execution_count": 46,
     "metadata": {},
     "output_type": "execute_result"
    }
   ],
   "source": [
    "logi.intercept_"
   ]
  },
  {
   "cell_type": "markdown",
   "id": "fba3d052",
   "metadata": {},
   "source": [
    "- 현재의 로지스틱 다중분류에서 독립변수는 5개를 사용하기 때문에 coef_ 배열의 열은 5개임\n",
    "- 종속변수의 범주 수가 7개이기 때문에 coef_ 배열의 행과 intercept_ 배열의 행은 7개임\n",
    "    - 즉, 로지스틱 다중분류는 각 클래스마다 z값을 계산함\n",
    "    - 이 때, 확률 값은 각각의 z값을 합이 1이 되도록 압축하기 위해 소프트맥스 함수(softmax)를 사용"
   ]
  },
  {
   "cell_type": "markdown",
   "id": "e0f871f7",
   "metadata": {},
   "source": [
    "### 회귀식을 통한 확률값 계산"
   ]
  },
  {
   "cell_type": "code",
   "execution_count": 47,
   "id": "926992a5",
   "metadata": {},
   "outputs": [],
   "source": [
    "decision_z = logi.decision_function(scaled_test[:5])"
   ]
  },
  {
   "cell_type": "code",
   "execution_count": 48,
   "id": "2ffcc049",
   "metadata": {},
   "outputs": [
    {
     "data": {
      "text/plain": [
       "array([[-1.75,  0.22,  2.46, -0.88,  1.62, -1.06, -0.61],\n",
       "       [ 5.  ,  1.51,  0.08, -0.28,  0.14, -7.65,  1.2 ],\n",
       "       [-0.37, -0.09,  2.21,  0.12,  1.34, -3.19, -0.01],\n",
       "       [-4.13,  0.99,  2.06, -2.09,  1.58,  3.67, -2.08],\n",
       "       [-2.12,  0.77,  2.  , -1.5 ,  1.65,  0.32, -1.12]])"
      ]
     },
     "execution_count": 48,
     "metadata": {},
     "output_type": "execute_result"
    }
   ],
   "source": [
    "np.round(decision_z, decimals = 2)"
   ]
  },
  {
   "cell_type": "code",
   "execution_count": 53,
   "id": "429045ea",
   "metadata": {},
   "outputs": [
    {
     "data": {
      "text/plain": [
       "array([[0.009, 0.064, 0.602, 0.021, 0.258, 0.018, 0.028],\n",
       "       [0.932, 0.028, 0.007, 0.005, 0.007, 0.   , 0.021],\n",
       "       [0.041, 0.055, 0.547, 0.068, 0.228, 0.002, 0.06 ],\n",
       "       [0.   , 0.049, 0.143, 0.002, 0.088, 0.714, 0.002],\n",
       "       [0.007, 0.129, 0.439, 0.013, 0.31 , 0.082, 0.019]])"
      ]
     },
     "execution_count": 53,
     "metadata": {},
     "output_type": "execute_result"
    }
   ],
   "source": [
    "proba = softmax(decision_z, axis = 1) # axis = 1: 각 행에 대해서 소프트맥스 계산\n",
    "np.round(proba, decimals=3)"
   ]
  },
  {
   "cell_type": "code",
   "execution_count": 54,
   "id": "2be53c50",
   "metadata": {},
   "outputs": [
    {
     "data": {
      "text/plain": [
       "1.0"
      ]
     },
     "execution_count": 54,
     "metadata": {},
     "output_type": "execute_result"
    }
   ],
   "source": [
    "0.009 + 0.064 + 0.602 + 0.021 + 0.258 + 0.018 + 0.028"
   ]
  },
  {
   "cell_type": "markdown",
   "id": "a5f53457",
   "metadata": {},
   "source": [
    "# 정리\n",
    "\n",
    "- 로지스틱 회귀는 선형 회귀처럼 선형 방정식을 사용\n",
    "- 방정식의 값을 0 ~ 1 사이로 압축\n",
    "    - 해당 값을 0 ~ 100% 사이의 확률로 이해할 수 있음\n",
    "- 이진 분류\n",
    "    1. 하나의 선형 방정식을 훈련\n",
    "    2. 출력값을 시그모이드 함수에 통과시켜 0 ~ 1 사이의 값을 만듦\n",
    "    3. 2번의 출력값이 양성 클래스에 대한 확률\n",
    "- 다중 분류\n",
    "    1. 클래스 개수만큼 방정식을 훈련\n",
    "    2. 각 방정식의 출력값을 소프트맥스 함수를 통과시켜 전체 클래스에 대한 합이 항상 1이 되도록 계산\n",
    "    3. 2번의 출력값이 각 클래스에 대한 확률값"
   ]
  },
  {
   "cell_type": "code",
   "execution_count": null,
   "id": "5cb07d23",
   "metadata": {},
   "outputs": [],
   "source": []
  }
 ],
 "metadata": {
  "kernelspec": {
   "display_name": "Python 3 (ipykernel)",
   "language": "python",
   "name": "python3"
  },
  "language_info": {
   "codemirror_mode": {
    "name": "ipython",
    "version": 3
   },
   "file_extension": ".py",
   "mimetype": "text/x-python",
   "name": "python",
   "nbconvert_exporter": "python",
   "pygments_lexer": "ipython3",
   "version": "3.11.3"
  }
 },
 "nbformat": 4,
 "nbformat_minor": 5
}
