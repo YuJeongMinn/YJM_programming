{
 "cells": [
  {
   "cell_type": "markdown",
   "id": "2086d35b",
   "metadata": {},
   "source": [
    "# 테스트 주도개발(Test driven development: TDD)"
   ]
  },
  {
   "cell_type": "markdown",
   "id": "ce972d85",
   "metadata": {},
   "source": [
    "<img src = \"./img/tdd_img.png\">"
   ]
  },
  {
   "cell_type": "markdown",
   "id": "fb3a48b4",
   "metadata": {},
   "source": [
    "- 일종의 개발 방식 또는 개발 패턴\n",
    "- 무언가를 개발할 때 바로 개발부터 하는 것이 아니라 개발하려는 항목에 대한 점검 사항을 테스트 코드로 만드록 그 테스트를 통과시키는 방식으로 개발을 진행하는 방법\n",
    "- 지금까지의 개발 과정\n",
    "    - 구현: 만들고 싶은 요소의 소스코드를 작성\n",
    "    - 웹 브라우저로 확인: 웹 브라우저에서 잘 작동하는지 일일이 테스트\n",
    "    - 성공: 제대로 작동하지 않으면 다시 소스코드를 수정하면서 성공시킴\n",
    "    - 개선점 찾기: 다음에는 무엇을 더 개선해야 할지, 무엇을 개발해야 할지 고민한 후 다시 구현\n",
    "    - 단순한 웹 사이트를 만들 때는 지금의 방식도 효율적일 수 있음\n",
    "        - 하지만 모델의 구조가 복잡하고, 기능이 다양해지고, 페이지가 많은 웹 사이트를 만들 때는 효율적이지 않음\n",
    "        - 프로그램이 복잡해질수록 추가한 기능 사이에 상호 연관성이 점점 늘어나서 웹 브라우저에서 확인하기 힘들 수 있음\n",
    "        - 그리고 어떤 문제가 발생했을 때 문제가 너무 많은 요소들과 얽혀 있어 쉽게 손을 댈수가 없음"
   ]
  },
  {
   "cell_type": "markdown",
   "id": "76d54a64",
   "metadata": {},
   "source": [
    "- 위와 같은 사고를 예방하기 위해서 한 단계식 개발할 때마다 테스트를 하면 됨\n",
    "    - 하지만 개발 프로그램이 복잡해질수록 매번 코드를 테스트하기는 매우 번거롭고 지치는 작업임\n",
    "    - 따라서 테스트 주도 개발을 통해 개발한 코드가 테스트를 만족하는지 자동으로 확인하면서 개발을 진행"
   ]
  },
  {
   "cell_type": "markdown",
   "id": "e5f1152b",
   "metadata": {},
   "source": [
    "- 테스트 주도 개발의 과정\n",
    "  1. 테스트 코드 작성\n",
    "      - 만들고 싶은 기능을 점검할 코드 작성\n",
    "      - 아직 기능을 구현하지 않았으므로 테스트 결과는 당연히 실패\n",
    "  2. 기능 구현\n",
    "      - 테스트 코드를 만족시킬 수 있게 기능을 구현\n",
    "      - 테스트 통과를 최우선으로 생각하고 작업\n",
    "  3. 리팩토링\n",
    "      - 기능의 성능을 향상시키거나, 재사용성이 좋거나, 가독성이 좋은 코드로 개선\n",
    "      - 테스트 코드로 다시 점검"
   ]
  },
  {
   "cell_type": "markdown",
   "id": "8631c36c",
   "metadata": {},
   "source": [
    "# 포스트 목록 페이지 테스트"
   ]
  },
  {
   "cell_type": "markdown",
   "id": "b0e5f0ce",
   "metadata": {},
   "source": [
    "- 테스트 코드 작성은 만들고자 하는 코드의 내용을 정리하는 것으로 시작\n",
    "- 현재는 포스트 목록 페이지가 있지만, 만든 적이 없다고 가정하고 테스트 코드 작성\n",
    "    - 포스트 목록 페이지 맨 위에는 내비게이션 바가 있어야 함\n",
    "    - 그 바로 아래에 포스트를 목록 형태로 보여주는 공간이 있어야 함\n",
    "    - 그 옆에는 검색 창과 카테고리를 보여주는 공간이 있어야함\n",
    "    - 포스트를 목록 형태로 보여주는 공간에는 여러 개의 포스트가 제목과 작성일 등이 잘 정리되어 나타나야 함"
   ]
  },
  {
   "cell_type": "markdown",
   "id": "819016f3",
   "metadata": {},
   "source": [
    "## tests.py에 테스트할 내용 나열"
   ]
  },
  {
   "cell_type": "markdown",
   "id": "09e16091",
   "metadata": {},
   "source": [
    "- 기본적으로 테스트 전에 설정되어야 할 내용이 있으면 setUp()함수에서 정의\n",
    "- 현재는 setUp()함수 내에서 Client()를 사용하겠다는 내용만 담을 예정\n",
    "    - Client(): 서버를 실행시키지 않고 장고 애뮬레이팅에 의해 실행되도록 설정\n",
    "        - 테스트를 위한 가상의 사용자 설정"
   ]
  },
  {
   "cell_type": "markdown",
   "id": "ecf83239",
   "metadata": {},
   "source": [
    "## 테스트 코드 작성"
   ]
  },
  {
   "cell_type": "markdown",
   "id": "8db14a06",
   "metadata": {},
   "source": [
    "- TestCase를 이용한 테스트 방식은 실제 데이터베이스는 건드리지 않고 가상의 데이터베이스를 새로 만들어 테스트\n",
    "    - 테스트를 하려면 데이터의 생성, 수정, 삭제 등의 작업이 필요한데\n",
    "    - 이 작업 중 이미 운영되고 있는 서버의 데이터베이스를 잘못 건드리면 안되기 때문에 테스트 할 때마다 가상의 데이터베이스를 생성"
   ]
  },
  {
   "cell_type": "markdown",
   "id": "a445f54d",
   "metadata": {},
   "source": []
  },
  {
   "cell_type": "markdown",
   "id": "5b131104",
   "metadata": {},
   "source": []
  },
  {
   "cell_type": "markdown",
   "id": "c9481589",
   "metadata": {},
   "source": []
  },
  {
   "cell_type": "markdown",
   "id": "4fc2a318",
   "metadata": {},
   "source": []
  },
  {
   "cell_type": "markdown",
   "id": "2db35080",
   "metadata": {},
   "source": []
  },
  {
   "cell_type": "markdown",
   "id": "8ecef062",
   "metadata": {},
   "source": []
  },
  {
   "cell_type": "markdown",
   "id": "a912ee84",
   "metadata": {},
   "source": []
  },
  {
   "cell_type": "markdown",
   "id": "6a33babc",
   "metadata": {},
   "source": []
  },
  {
   "cell_type": "markdown",
   "id": "8584db06",
   "metadata": {},
   "source": []
  },
  {
   "cell_type": "markdown",
   "id": "43f8d372",
   "metadata": {},
   "source": []
  },
  {
   "cell_type": "markdown",
   "id": "a721ee54",
   "metadata": {},
   "source": []
  }
 ],
 "metadata": {
  "kernelspec": {
   "display_name": "Python 3 (ipykernel)",
   "language": "python",
   "name": "python3"
  },
  "language_info": {
   "codemirror_mode": {
    "name": "ipython",
    "version": 3
   },
   "file_extension": ".py",
   "mimetype": "text/x-python",
   "name": "python",
   "nbconvert_exporter": "python",
   "pygments_lexer": "ipython3",
   "version": "3.10.9"
  }
 },
 "nbformat": 4,
 "nbformat_minor": 5
}
