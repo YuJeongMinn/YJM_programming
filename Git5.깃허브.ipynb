{
 "cells": [
  {
   "cell_type": "markdown",
   "id": "cc36e5d8",
   "metadata": {},
   "source": [
    "# 원격 저장소 호스팅 서비스"
   ]
  },
  {
   "cell_type": "markdown",
   "id": "cf234bfe",
   "metadata": {},
   "source": [
    "- 원격 저장소\n",
    "    - 컴퓨터 속에만 있는 저장소가 아닌, 인터넷 세상 어딘가에 있는 다른 컴퓨터 속의 저장소\n",
    "    - 원격 저장소를 이용하면 백업과 협업에서 이점이 있음\n",
    "- 백업\n",
    "    - 프로젝트가 로컬 저장소에만 있다면 컴퓨터가 고장나거나 실수로 로컬 저장소를 삭제할 경우 큰 문제가 발생\n",
    "    - 로컬 저장소의 프로젝트를 원격 저장소에 백업해뒀다면 이런 경우에도 전혀 문제가 되지 않음\n",
    "    \n",
    "- 협업\n",
    "    - 모든 개발자가 이해하는 공통 코드를 원격 저장소에 업로드하고, 이를 내려받아 새로운 커밋들을 추가한 뒤 다시 원격 저장소에 추가하는 방식으로 작업하면 더 효율적으로 협업할 수 있음"
   ]
  },
  {
   "cell_type": "markdown",
   "id": "3afef967",
   "metadata": {},
   "source": [
    "# 원격 저장소와의 상호 작용"
   ]
  },
  {
   "cell_type": "markdown",
   "id": "5845865d",
   "metadata": {},
   "source": [
    "- 클론(clone): 원격 저장소를 복제\n",
    "- 푸시(push): 원격 저장소에 밀어넣기\n",
    "- 패치(fetch): 원격 저장소를 일단 가져만 오기\n",
    "- 풀(pull): 원격 저장소를 가져와서 합치기"
   ]
  },
  {
   "cell_type": "markdown",
   "id": "bf2ad136",
   "metadata": {},
   "source": [
    "## 클론(clone)"
   ]
  },
  {
   "cell_type": "markdown",
   "id": "e9e4f7df",
   "metadata": {},
   "source": [
    "- 원격 저장소 복제\n",
    "- 깃허브 상에 존재하는 원격 저장소를 로컬로 복사하여 가져오는 방법\n",
    "- 직접 만든 원격 저장소 뿐 아니라 깃허브상에 공개된 모든 원격 저장소를 컴퓨터로 클론하여 가져올 수 있음"
   ]
  },
  {
   "cell_type": "markdown",
   "id": "dfaddd33",
   "metadata": {},
   "source": [
    "## 푸시(push)"
   ]
  },
  {
   "cell_type": "markdown",
   "id": "7593e47f",
   "metadata": {},
   "source": [
    "- 원격 저장소에 로컬 저장소의 변경 사항을 밀어넣기\n",
    "- 클론을 한다면 원격 저장소 test-repo와 로컬 저장소 test-repo의 상태는 동일"
   ]
  },
  {
   "cell_type": "markdown",
   "id": "69b7bf79",
   "metadata": {},
   "source": [
    "## 패치(fetch)"
   ]
  },
  {
   "cell_type": "markdown",
   "id": "761c9751",
   "metadata": {},
   "source": [
    "- 원격 저장소의 변경 사항들을 가져만 오는 방법 \n",
    "- 현재 원격 저장소 test-repo는 나만 사용하고 있지만 여러 개발자가 협업하고 있는 상황이라면 다른 개발자가 언제든 test-repo에 새로운 변경사항을 추가할 수 있기 때문에 test-repo는 언제든지 변할 수 있음\n",
    "- 이때 다른 개발자가 푸시한 내용을 로컬로 가져오고 싶을 때 패치를 사용\n",
    "    - 원격 저장소의 변경 사항을 로컬로 가져올 때 패치를 사용"
   ]
  },
  {
   "cell_type": "markdown",
   "id": "411502ee",
   "metadata": {},
   "source": [
    "## 풀(pull)"
   ]
  },
  {
   "cell_type": "markdown",
   "id": "ea7dda25",
   "metadata": {},
   "source": [
    "- 원격 저장소를 가져와서 합치기\n",
    "    - 패치와 병합을 동시에 하는 방법"
   ]
  },
  {
   "cell_type": "markdown",
   "id": "d0fe6e80",
   "metadata": {},
   "source": [
    "## 풀 리퀘스트(pull request)"
   ]
  },
  {
   "cell_type": "markdown",
   "id": "b7df1018",
   "metadata": {},
   "source": [
    "- 한 원격 저장소에는 여러 개발자가 코드를 기여할 수 있음\n",
    "- 실무에서도 여러 개발자가 한 원격 저장소를 두고 개발하는 것이 일반적\n",
    "- 일반적으로 내가 소유하지 않은 원격 저장소에는 푸시할 수 없음\n",
    "    - 누구나 푸시할 수 있다면 여러 문제가 발생\n",
    "        - 원격 저장소 소유자가 원하지 않는 변경 사항들이 추가될 수 있음\n",
    "- 풀 리퀘스트를 통하면 푸시 권한이 없는 원격 저장소에 코드를 밀어넣을 수 있음\n",
    "- 풀 리퀘스트\n",
    "    - 원격 저장소가 내 변경 사항을 풀(pull)하도록 요청(request)하는 방법\n",
    "        - 내가 당신의 원격 저장소를 이렇게 변경하고 싶은데 이 변경을 당신의 저장소로 풀 해주세요!!\n",
    "- 풀 리퀘스트의 단계\n",
    "    1. 기여하려는 저장소를 본인의 계정으로 포크\n",
    "    2. 포크한 저장소를 클론\n",
    "    3. 브랜치 생성한 후 생성한 브랜치에서 작업\n",
    "    4. 작업한 브랜치 푸시\n",
    "    5. 풀 리퀘스트 보내기"
   ]
  },
  {
   "cell_type": "markdown",
   "id": "80ef9031",
   "metadata": {},
   "source": [
    "- 실습\n",
    "    - https://github.com/gobu82/230807_java_python\n",
    "    - 위 링크는 강사가 소유한 저장소이기 때문에 학생들은 직접 푸시할 수 없음\n",
    "    1. 기여하려는 저장소를 자신의 계정으로 포크하기\n",
    "        - 포크(fork): 원격 저장소를 자신의 계정으로 복제\n",
    "        - 자신의 계정으로 복제된 저장소에는 푸시 가능\n",
    "    2. 포크한 저장소를 클론하기\n",
    "        - 소스트리에서 방금 포크한 저장소를 클론하기\n",
    "    3. 브랜치 생성 후 생성한 브랜치에서 작업하기\n",
    "        - 브랜치명은 각자 알아보기 편한 이름으로 설정(예:230807_Jun)\n",
    "    4. 생성한 브랜치로 체크아웃\n",
    "    5. 저장소를 클론한 경로에서 파일 내용을 수정\n",
    "    6. 작업한 브랜치 커밋&푸시\n",
    "    7. 깃허브의 포크한 저장소로 돌아오면 compare&pull requeest가 생성돼있음\n",
    "        - compare&pull request 클릭\n",
    "        - 작업 내역을 확인한 후 create pull request\n",
    "    8. (강사)원본 저장소에서 pull requests 메뉴에서 학생들의 풀 리퀘스트를 확인\n",
    "    9. 풀 리퀘스트를 검토하고 하단부의 Merge pull request 클릭\n",
    "    10. 댓글 남기기\n",
    "    11. 병합된 풀 리퀘스트는 상태가 Merged로 변경"
   ]
  },
  {
   "cell_type": "code",
   "execution_count": null,
   "id": "7a89215f",
   "metadata": {},
   "outputs": [],
   "source": []
  }
 ],
 "metadata": {
  "kernelspec": {
   "display_name": "Python 3 (ipykernel)",
   "language": "python",
   "name": "python3"
  },
  "language_info": {
   "codemirror_mode": {
    "name": "ipython",
    "version": 3
   },
   "file_extension": ".py",
   "mimetype": "text/x-python",
   "name": "python",
   "nbconvert_exporter": "python",
   "pygments_lexer": "ipython3",
   "version": "3.11.3"
  }
 },
 "nbformat": 4,
 "nbformat_minor": 5
}
