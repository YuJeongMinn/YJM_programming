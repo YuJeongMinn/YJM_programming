{
 "cells": [
  {
   "cell_type": "markdown",
   "id": "7eb7d188",
   "metadata": {},
   "source": [
    "# 14 외벽 점검"
   ]
  },
  {
   "cell_type": "code",
   "execution_count": 1,
   "id": "14556be8",
   "metadata": {},
   "outputs": [],
   "source": [
    "from itertools import permutations"
   ]
  },
  {
   "cell_type": "code",
   "execution_count": 11,
   "id": "7786155c",
   "metadata": {},
   "outputs": [],
   "source": [
    "def solution(n, weak, dist):\n",
    "    length = len(weak)\n",
    "    for i in range(length):\n",
    "        weak.append(weak[i] + n)\n",
    "    answer = len(dist) + 1\n",
    "    for start in range(length):\n",
    "        for friends in list(permutations(dist, len(dist))):\n",
    "            count = 1\n",
    "            position = weak[start] + friends[count - 1]\n",
    "            for index in range(start, start + length):\n",
    "                if position < weak[index]:\n",
    "                    count+=1\n",
    "                    if count>len(dist):\n",
    "                        break\n",
    "                    position = weak[index]+friends[count-1]\n",
    "            answer = min(answer, count)\n",
    "    if answer > len(dist):\n",
    "        return -1\n",
    "    return answer"
   ]
  },
  {
   "cell_type": "code",
   "execution_count": 12,
   "id": "9cf3ed35",
   "metadata": {},
   "outputs": [],
   "source": [
    "n=12"
   ]
  },
  {
   "cell_type": "code",
   "execution_count": 13,
   "id": "26238e3a",
   "metadata": {},
   "outputs": [],
   "source": [
    "weak=[1, 5, 6, 10]"
   ]
  },
  {
   "cell_type": "code",
   "execution_count": 14,
   "id": "573cfffa",
   "metadata": {},
   "outputs": [],
   "source": [
    "dist=[1,2,3,4]"
   ]
  },
  {
   "cell_type": "code",
   "execution_count": 15,
   "id": "ca7a40f0",
   "metadata": {},
   "outputs": [
    {
     "data": {
      "text/plain": [
       "2"
      ]
     },
     "execution_count": 15,
     "metadata": {},
     "output_type": "execute_result"
    }
   ],
   "source": [
    "solution(n, weak, dist)"
   ]
  },
  {
   "cell_type": "code",
   "execution_count": null,
   "id": "aece6495",
   "metadata": {},
   "outputs": [],
   "source": []
  },
  {
   "cell_type": "code",
   "execution_count": null,
   "id": "e48a6735",
   "metadata": {},
   "outputs": [],
   "source": []
  },
  {
   "cell_type": "markdown",
   "id": "cc31109b",
   "metadata": {},
   "source": [
    "# 17 경쟁적 전염"
   ]
  },
  {
   "cell_type": "code",
   "execution_count": 1,
   "id": "76905cc9",
   "metadata": {},
   "outputs": [],
   "source": [
    "from collections import deque"
   ]
  },
  {
   "cell_type": "code",
   "execution_count": 2,
   "id": "d571a45a",
   "metadata": {},
   "outputs": [
    {
     "name": "stdout",
     "output_type": "stream",
     "text": [
      "3 3\n"
     ]
    }
   ],
   "source": [
    "n, k = map(int, input().split())"
   ]
  },
  {
   "cell_type": "code",
   "execution_count": 3,
   "id": "aca04d2a",
   "metadata": {},
   "outputs": [],
   "source": [
    "graph = [] # 전체 보드 정보를 담는 리스트\n",
    "data = [] # 바이러스에 대한 정보를 담는 리스트"
   ]
  },
  {
   "cell_type": "code",
   "execution_count": 4,
   "id": "4364bc39",
   "metadata": {},
   "outputs": [
    {
     "name": "stdout",
     "output_type": "stream",
     "text": [
      "1 0 2\n",
      "0 0 0 \n",
      "3 0 0\n"
     ]
    }
   ],
   "source": [
    "for i in range(n):\n",
    "    # 보드 정보를 한 줄 단위로 입력\n",
    "    graph.append(list(map(int, input().split())))\n",
    "    for j in range(n):\n",
    "        # 해당 위치에 바이러스가 존재하는 경우\n",
    "        if graph[i][j] != 0:\n",
    "            # (바이러스 종류, 시간, 위치 X, 위치 Y) 삽입\n",
    "            data.append((graph[i][j], 0, i, j))"
   ]
  },
  {
   "cell_type": "code",
   "execution_count": 5,
   "id": "2d2fa488",
   "metadata": {},
   "outputs": [],
   "source": [
    "# 정렬 이후에 큐로 옮기기(낮은 번호의 바이러스가 먼저 증식하므로)\n",
    "data.sort()\n",
    "q = deque(data)"
   ]
  },
  {
   "cell_type": "code",
   "execution_count": 7,
   "id": "e091b059",
   "metadata": {},
   "outputs": [
    {
     "name": "stdout",
     "output_type": "stream",
     "text": [
      "2 3 2\n"
     ]
    }
   ],
   "source": [
    "target_s, target_x, target_y = map(int, input().split())"
   ]
  },
  {
   "cell_type": "code",
   "execution_count": 8,
   "id": "20b7f992",
   "metadata": {},
   "outputs": [],
   "source": [
    "# 바이러스가 퍼져나갈 수 있는 4가지 위치\n",
    "dx = [-1, 0, 1, 0]\n",
    "dy = [0, 1, 0, -1]"
   ]
  },
  {
   "cell_type": "code",
   "execution_count": 9,
   "id": "43f6e3ba",
   "metadata": {},
   "outputs": [],
   "source": [
    "# 너비 우선 탐색(BFS) 진행\n",
    "while q:\n",
    "    virus, s, x, y = q.popleft()\n",
    "    # 정확히 s초가 지나거나, 큐가 빌 때까지 반복\n",
    "    if s == target_s:\n",
    "        break\n",
    "    # 현재 노드에서 주변 4가지 위치를 각각 확인\n",
    "    for i in range(4):\n",
    "        nx = x + dx[i]\n",
    "        ny = y + dy[i]\n",
    "        # 해당 위치로 이동할 수 있는 경우\n",
    "        if 0 <= nx and nx < n and 0 <= ny and ny < n:\n",
    "            # 아직 방문하지 않은 위치라면, 그 위치에 바이러스 넣기\n",
    "            if graph[nx][ny] == 0:\n",
    "                graph[nx][ny] = virus\n",
    "                q.append((virus, s + 1, nx, ny))"
   ]
  },
  {
   "cell_type": "code",
   "execution_count": 10,
   "id": "77163a17",
   "metadata": {},
   "outputs": [
    {
     "name": "stdout",
     "output_type": "stream",
     "text": [
      "3\n"
     ]
    }
   ],
   "source": [
    "print(graph[target_x - 1][target_y -1])"
   ]
  },
  {
   "cell_type": "markdown",
   "id": "d3f0496f",
   "metadata": {},
   "source": [
    "# 18 괄호 변환"
   ]
  },
  {
   "cell_type": "code",
   "execution_count": 11,
   "id": "c58bd40b",
   "metadata": {},
   "outputs": [],
   "source": [
    "# \"균형잡힌 괄호 문자열\"의 인덱스 반환\n",
    "def balanced_index(p):\n",
    "    count = 0 # 왼쪽 괄호의 개수\n",
    "    for i in range(len(p)):\n",
    "        if p[i] == '(':\n",
    "            count += 1\n",
    "        else:\n",
    "            count -= 1\n",
    "        if count == 0:\n",
    "            return i"
   ]
  },
  {
   "cell_type": "code",
   "execution_count": 12,
   "id": "d45570c3",
   "metadata": {},
   "outputs": [],
   "source": [
    "# \"올바른 괄호 문자열\"인지 판단\n",
    "def check_proper(p):\n",
    "    count = 0 # 왼쪽 괄호의 개수\n",
    "    for i in p:\n",
    "        if i == '(':\n",
    "            count += 1\n",
    "        else:\n",
    "            if count == 0: # 쌍이 맞지 않는 경우에 False 반환\n",
    "                return False\n",
    "            count -= 1\n",
    "        return True # 쌍이 맞는 경우에 True 반환"
   ]
  },
  {
   "cell_type": "code",
   "execution_count": 13,
   "id": "6e40c6e4",
   "metadata": {},
   "outputs": [],
   "source": [
    "def solution(p):\n",
    "    answer = ''\n",
    "    if p == '':\n",
    "        return answer\n",
    "    index = balanced_index(p)\n",
    "    u = p[:index + 1]\n",
    "    v = p[index + 1:]\n",
    "    # \"올바른 괄호 문자열\"이면, v에 대해 함수를 수행한 결과를 붙여 반환\n",
    "    if check_proper(u):\n",
    "        answer = u + solution(v)\n",
    "    # \"올바른 괄호 문자열\"이 아니라면 아래의 과정을 수행\n",
    "    else:\n",
    "        answer = '('\n",
    "        answer += solution(v)\n",
    "        answer += ')'\n",
    "        u = list(u[1:-1]) # 첫번째와 마지막 문자를 제거\n",
    "        for i in range(len(u)):\n",
    "            if u[i] == '(':\n",
    "                u[i] = ')'\n",
    "            else:\n",
    "                u[i] ='('\n",
    "        answer += \"\".join(u)\n",
    "    return answer"
   ]
  },
  {
   "cell_type": "code",
   "execution_count": null,
   "id": "0cd8724c",
   "metadata": {},
   "outputs": [],
   "source": []
  },
  {
   "cell_type": "markdown",
   "id": "d5eb8c00",
   "metadata": {},
   "source": [
    "# 19 연산자 끼워넣기"
   ]
  },
  {
   "cell_type": "code",
   "execution_count": 1,
   "id": "1409dbcd",
   "metadata": {},
   "outputs": [
    {
     "name": "stdout",
     "output_type": "stream",
     "text": [
      "11\n"
     ]
    }
   ],
   "source": [
    "n = int(input())"
   ]
  },
  {
   "cell_type": "code",
   "execution_count": 2,
   "id": "5b1091db",
   "metadata": {},
   "outputs": [
    {
     "name": "stdout",
     "output_type": "stream",
     "text": [
      "10 20 32 55 61 21 26 19 34 28 45\n"
     ]
    }
   ],
   "source": [
    "# 연산을 수행하고자 하는 수 리스트\n",
    "data = list(map(int, input().split()))"
   ]
  },
  {
   "cell_type": "code",
   "execution_count": 3,
   "id": "2a71031a",
   "metadata": {},
   "outputs": [
    {
     "name": "stdout",
     "output_type": "stream",
     "text": [
      "4 4 3 3\n"
     ]
    }
   ],
   "source": [
    "# 더하기, 빼기, 곱하기, 나누기 연산자 개수\n",
    "add, sub, mul, div = map(int, input().split())"
   ]
  },
  {
   "cell_type": "code",
   "execution_count": 4,
   "id": "238c8669",
   "metadata": {},
   "outputs": [],
   "source": [
    "# 최솟값과 최댓값 초기화\n",
    "min_value = 1e9\n",
    "max_value = -1e9"
   ]
  },
  {
   "cell_type": "code",
   "execution_count": 8,
   "id": "33810911",
   "metadata": {},
   "outputs": [],
   "source": [
    "# 깊이 우선 탐색(DFS) 메서드\n",
    "def dfs(i, now):\n",
    "    global min_value, max_value, add, sub, mul, div\n",
    "    # 모든 연산자를 다 사용한 경우, 최솟값과 최댓값 업데이트\n",
    "    if i == n:\n",
    "        min_value = min(min_value, now)\n",
    "        max_value = max(max_value, now)\n",
    "    else:\n",
    "        # 각 연산자에 대하여 재귀적으로 수행\n",
    "        if add > 0:\n",
    "            add -= 1\n",
    "            dfs(i + 1, now + data[i])\n",
    "            add += 1\n",
    "        if sub > 0:\n",
    "            sub -= 1\n",
    "            dfs(i + 1, now - data[i])\n",
    "            sub += 1\n",
    "        if mul > 0:\n",
    "            mul -= 1\n",
    "            dfs(i + 1, now * data[i])\n",
    "            mul += 1\n",
    "        if div > 0:\n",
    "            div -= 1\n",
    "            dfs(i + 1, int(now / data[i])) # 나눌 떄는 나머지를 제거\n",
    "            div += 1"
   ]
  },
  {
   "cell_type": "code",
   "execution_count": 9,
   "id": "d9bde76b",
   "metadata": {},
   "outputs": [],
   "source": [
    "# DFS 메서드 호출\n",
    "dfs(1, data[0])"
   ]
  },
  {
   "cell_type": "code",
   "execution_count": 10,
   "id": "05afefed",
   "metadata": {},
   "outputs": [
    {
     "name": "stdout",
     "output_type": "stream",
     "text": [
      "10896930\n",
      "-9030330\n"
     ]
    }
   ],
   "source": [
    "# 최댓값과 최솟값 차례대로 출력\n",
    "print(max_value)\n",
    "print(min_value)"
   ]
  },
  {
   "cell_type": "markdown",
   "id": "f713dcf2",
   "metadata": {},
   "source": [
    "# 20 감시 피하기"
   ]
  },
  {
   "cell_type": "code",
   "execution_count": 1,
   "id": "12e14ce4",
   "metadata": {},
   "outputs": [],
   "source": [
    "from itertools import combinations"
   ]
  },
  {
   "cell_type": "code",
   "execution_count": 2,
   "id": "dc322682",
   "metadata": {},
   "outputs": [
    {
     "name": "stdout",
     "output_type": "stream",
     "text": [
      "5\n"
     ]
    }
   ],
   "source": [
    "n = int(input()) # 복도의 크기"
   ]
  },
  {
   "cell_type": "code",
   "execution_count": 3,
   "id": "1169011e",
   "metadata": {},
   "outputs": [
    {
     "name": "stdout",
     "output_type": "stream",
     "text": [
      "X S X X T\n",
      "T X S X X\n",
      "X X X X X\n",
      "X T X X X\n",
      "X X T X X\n"
     ]
    }
   ],
   "source": [
    "board = [] # 복도 정보(N x N)\n",
    "teachers = [] # 모든 선생님 위치 정보\n",
    "spaces = [] # 모든 빈 공간 위치 정보\n",
    "\n",
    "for i in range(n):\n",
    "    board.append(list(input().split()))\n",
    "    for j in range(n):\n",
    "        # 선생님이 존재하는 위치 저장\n",
    "        if board[i][j] == 'T':\n",
    "            teachers.append((i, j))\n",
    "        # 장애물을 설치할 수 있는 (빈 공간) 위치 저장\n",
    "        if board[i][j] == 'X':\n",
    "            spaces.append((i, j))"
   ]
  },
  {
   "cell_type": "code",
   "execution_count": 4,
   "id": "80a5d6c2",
   "metadata": {},
   "outputs": [],
   "source": [
    "# 특정 방향으로 감시를 진행(학생 발견: True, 학생 미발견: False)\n",
    "def watch(x, y, direction):\n",
    "    # 왼쪽 방향으로 감시\n",
    "    if direction == 0:\n",
    "        while y >= 0:\n",
    "            if board[x][y] == 'S': # 학생이 있는 경우\n",
    "                return True\n",
    "            if board[x][y] == 'O':# 장애물이 있는 경우\n",
    "                return False\n",
    "            y -=1\n",
    "    # 오른쪽 방향으로 감시\n",
    "    if direction == 1:\n",
    "        while y < n:\n",
    "            if board[x][y] == 'S': # 학생이 있는 경우\n",
    "                return True\n",
    "            if board[x][y] == 'O':# 장애물이 있는 경우\n",
    "                return False\n",
    "            y +=1\n",
    "    # 위쪽 방향으로 감시\n",
    "    if direction == 2:\n",
    "        while x >= 0:\n",
    "            if board[x][y] == 'S': # 학생이 있는 경우\n",
    "                return True\n",
    "            if board[x][y] == 'O':# 장애물이 있는 경우\n",
    "                return False\n",
    "            x -=1\n",
    "    # 아래쪽 방향으로 감시\n",
    "    if direction == 3:\n",
    "        while x < n:\n",
    "            if board[x][y] == 'S': # 학생이 있는 경우\n",
    "                return True\n",
    "            if board[x][y] == 'O':# 장애물이 있는 경우\n",
    "                return False\n",
    "            x +=1\n",
    "    return False"
   ]
  },
  {
   "cell_type": "code",
   "execution_count": 5,
   "id": "c71aaa3b",
   "metadata": {},
   "outputs": [],
   "source": [
    "# 장애물 설치 이후에, 한 명이라도 학생이 감지되는지 검사\n",
    "def process():\n",
    "    # 모든 선생님의 위치를 하나씩 확인\n",
    "    for x, y in teachers:\n",
    "        # 4가지 방향으로 학생을 감지할 수 있는지 확인\n",
    "        for i in range(4):\n",
    "            if watch(x, y, i):\n",
    "                return True\n",
    "    return False"
   ]
  },
  {
   "cell_type": "code",
   "execution_count": 6,
   "id": "998459dd",
   "metadata": {},
   "outputs": [
    {
     "name": "stdout",
     "output_type": "stream",
     "text": [
      "YES\n"
     ]
    }
   ],
   "source": [
    "find = False # 학생이 한 명도 감지되지 않도록 설치할 수 있는지의 여부\n",
    "\n",
    "# 빈 공간에서 3개를 뽑는 모든 조합을 확인\n",
    "for data in combinations(spaces, 3):\n",
    "    # 장애물 설치해보기\n",
    "    for x, y in data:\n",
    "        board[x][y] = 'O'\n",
    "    # 학생이 한 명도 감지되지 않는 경우\n",
    "    if not process():\n",
    "        # 원하는 경우를 발견한 것임\n",
    "        find = True\n",
    "        break\n",
    "    # 설치된 장애물을 다시 없애기\n",
    "    for x, y in data:\n",
    "        board[x][y] = 'X'\n",
    "        \n",
    "if find:\n",
    "    print('YES')\n",
    "else:\n",
    "    print('NO')"
   ]
  },
  {
   "cell_type": "code",
   "execution_count": 7,
   "id": "830b73e5",
   "metadata": {},
   "outputs": [],
   "source": [
    "from collections import deque"
   ]
  },
  {
   "cell_type": "code",
   "execution_count": 8,
   "id": "ca3d46a7",
   "metadata": {},
   "outputs": [
    {
     "name": "stdout",
     "output_type": "stream",
     "text": [
      "2 20 50\n"
     ]
    }
   ],
   "source": [
    "# 땅의 크기(N), L, R 값을 입력받기\n",
    "n, l, r = map(int, input().split())"
   ]
  },
  {
   "cell_type": "code",
   "execution_count": 9,
   "id": "aa95eb9c",
   "metadata": {},
   "outputs": [
    {
     "name": "stdout",
     "output_type": "stream",
     "text": [
      "50 30\n",
      "30 40\n"
     ]
    }
   ],
   "source": [
    "# 전체 나라의 정보(N X N)를 입력받기\n",
    "graph = []\n",
    "for _ in range(n):\n",
    "    graph.append(list(map(int, input().split())))"
   ]
  },
  {
   "cell_type": "code",
   "execution_count": 11,
   "id": "c6e7ce15",
   "metadata": {},
   "outputs": [],
   "source": [
    "dx = [-1, 0, 1, 0]\n",
    "dy = [0, -1, 0, 1]"
   ]
  },
  {
   "cell_type": "code",
   "execution_count": 12,
   "id": "63568994",
   "metadata": {},
   "outputs": [],
   "source": [
    "result = 0"
   ]
  },
  {
   "cell_type": "code",
   "execution_count": 16,
   "id": "fc5cb3e5",
   "metadata": {},
   "outputs": [],
   "source": [
    "# 특정 위치에서 출발하여 모든 연합을 체크한 뒤에 데이터 갱신\n",
    "def process(x, y, index):\n",
    "    # (x, y)의 위치와 연결된 나라(연합) 정보를 담는 리스트\n",
    "    united = []\n",
    "    united.append((x, y))\n",
    "    # 너비 우선 탐색(BFS)을 위한 큐 자료구조 정의\n",
    "    q = deque()\n",
    "    q.append((x, y))\n",
    "    #너비 우선 탐색(BFS)을 위한 큐 자료구조 정의\n",
    "    q = deque()\n",
    "    q.append((x, y))\n",
    "    union[x][y] = index # 현재 연합의 번호 할당\n",
    "    summary = graph[x][y] # 현재 연합의 전체 인구 수\n",
    "    count = 1 # 현재 연합의 국가 수\n",
    "    # 큐가 빌 때까지 반복(BFS)\n",
    "    while q:\n",
    "        x, y = q.popleft()\n",
    "        # 현재 위치에서 4가지 방향을 확인하며\n",
    "        for i in range(4):\n",
    "            nx = x + dx[i]\n",
    "            ny = y + dy[i]\n",
    "            # 바로 옆에 있는 나라를 확인하여\n",
    "            if 0 <= nx < n and 0 <= ny < n and union[nx][ny] == -1:\n",
    "                # 옆에 있는 나라와 인구 차이가 L명 이상, R명 이하라면\n",
    "                if l <= abs(graph[nx][ny] - graph[x][y]) <= r:\n",
    "                    q.append((nx, ny))\n",
    "                    # 연합에 추가\n",
    "                    union[nx][ny] = index\n",
    "                    summary += graph[nx][ny]\n",
    "                    count += 1\n",
    "                    united.append((nx, ny))\n",
    "    # 연합 국가끼리 인구를 분배\n",
    "    for i, j in united:\n",
    "        graph[i][j] = summary // count\n",
    "    return count"
   ]
  },
  {
   "cell_type": "code",
   "execution_count": 17,
   "id": "6ef2da8b",
   "metadata": {},
   "outputs": [],
   "source": [
    "total_count = 0"
   ]
  },
  {
   "cell_type": "code",
   "execution_count": 18,
   "id": "80bac62e",
   "metadata": {},
   "outputs": [
    {
     "name": "stdout",
     "output_type": "stream",
     "text": [
      "1\n"
     ]
    }
   ],
   "source": [
    "# 더 이상 인구 이동을 할 수 없을 때가지 반복\n",
    "while True:\n",
    "    union = [[-1] * n for _ in range(n)]\n",
    "    index = 0\n",
    "    for i in range(n):\n",
    "        for j in range(n):\n",
    "            if union[i][j] == -1: # 해당 나라가 아직 처리되지 않았다면\n",
    "                process(i, j, index)\n",
    "                index += 1\n",
    "    # 모든 인구 이동이 끝난 경우\n",
    "    if index == n * n:\n",
    "        break\n",
    "    total_count += 1\n",
    "    \n",
    "# 인구 이동 횟수 출력\n",
    "print(total_count)"
   ]
  },
  {
   "cell_type": "markdown",
   "id": "f152197d",
   "metadata": {},
   "source": [
    "# 22 블록 이동하기"
   ]
  },
  {
   "cell_type": "code",
   "execution_count": 3,
   "id": "e640557f",
   "metadata": {},
   "outputs": [],
   "source": [
    "from collections import deque"
   ]
  },
  {
   "cell_type": "code",
   "execution_count": 4,
   "id": "59f54c21",
   "metadata": {},
   "outputs": [],
   "source": [
    "def get_next_pos(pos, board):\n",
    "    next_pos = [] # 반환 결과(이동 가능한 위치들)\n",
    "    pos = list(pos) # 현재 위치 정보를 리스트로 변환(집합 -> 리스트)\n",
    "    pos1_x, pos1_y, pos2_x, pos2_y = pos[0][0], pos[0][1], pos[1][0], pos[1][1]\n",
    "    # (상, 하, 좌, 우)로 이동하는 경우에 대해서 처리\n",
    "    dx = [-1, 1, 0, 0]\n",
    "    dy = [0, 0, -1, 1]\n",
    "    for i in range(4):\n",
    "        pos1_next_x, pos1_next_y, pos2_next_x, pos2_next_y = pos1_x + dx[i], pos1_y + dy[i], pos2_x + dx[i], pos2_y + dy[i]\n",
    "        # 이동하고자 하는 두 칸이 모두 비어 있다면\n",
    "        if board[pos1_next_x][pos1_next_y] == 0 and board[pos2_next_x][pos2_next_y] == 0:\n",
    "            next_pos.append({(pos1_next_x, pos1_next_y), (pos2_next_x, pos2_next_y)})\n",
    "    # 현재 로봇이 가로로 놓여 있는 경우\n",
    "    if pos1_x == pos2_x:\n",
    "        for i in [-1, 1]: # 위쪽으로 회전하거나, 아래쪽으로 회전\n",
    "            if board[pos1_x + i][pos1_y] == 0 and board[pos2_x + i][pos2_y] == 0: # 위쪽 혹은 아래쪽 두 칸이 모두 비어 있다면\n",
    "                next_pos.append({(pos1_x, pos1_y), (pos1_x + i, pos1_y)})\n",
    "                next_pos.append({(pos2_x, pos2_y), (pos2_x + i, pos2_y)})\n",
    "    # 현재 로봇이 세로로 놓여 있는 경우\n",
    "    elif pos1_y == pos2_y:\n",
    "        for i in [-1, 1]: # 왼쪽으로 회전하거나, 오른쪽으로 회전\n",
    "            if board[pos1_x][pos1_y + i] == 0 and board[pos2_x][pos2_y + i] == 0: # 왼쪽 혹은 오른쪽 두 칸이 모두 비어 있다면\n",
    "                next_pos.append({(pos1_x, pos1_y), (pos1_x, pos1_y + i)})\n",
    "                next_pos.append({(pos2_x, pos2_y), (pos2_x, pos2_y + i)})\n",
    "    # 현재 위치에서 이동할 수 있는 위치를 반환\n",
    "    return next_pos"
   ]
  },
  {
   "cell_type": "code",
   "execution_count": 5,
   "id": "7f287a2a",
   "metadata": {},
   "outputs": [],
   "source": [
    "def solution(board):\n",
    "    # 맵의 외곽에 벽을 두는 형태로 맵 변형\n",
    "    n = len(board)\n",
    "    new_board = [[1] * (n + 2) for _ in range(n + 2)]\n",
    "    for i in range(n):\n",
    "        for j in range(n):\n",
    "            new_board[i + 1][j + 1] = board[i][j]\n",
    "    # 너비 우선 탐색(BFS) 수행\n",
    "    q = deque()\n",
    "    visited = []\n",
    "    pos = {(1, 1), (1, 2)}   # 시작 위치 설정\n",
    "    q.append((pos, 0))       # 큐에 삽입한 뒤에\n",
    "    visited.append(pos)      # 방문 처리\n",
    "    # 큐가 빌 때까지 반복\n",
    "    while q:\n",
    "        pos, cost = q.popleft()\n",
    "        # (n, n) 위치에 로봇이 도달했다면, 최단 거리이므로 반환\n",
    "        if (n, n) in pos:\n",
    "            return cost\n",
    "        # 현재 위치에서 이동할 수 있는 위치 확인\n",
    "        for next_pos in get_next_pos(pos, new_board):\n",
    "            # 아직 방문하지 않은 위치라면 큐에 삽입하고 방문 처리\n",
    "            if next_pos not in visited:\n",
    "                q.append((next_pos, cost + 1))\n",
    "                visited.append((next_pos))\n",
    "    return 0"
   ]
  },
  {
   "cell_type": "markdown",
   "id": "aa33536d",
   "metadata": {},
   "source": [
    "# 23 국영수"
   ]
  },
  {
   "cell_type": "code",
   "execution_count": 1,
   "id": "b0784b05",
   "metadata": {},
   "outputs": [
    {
     "name": "stdout",
     "output_type": "stream",
     "text": [
      "5\n"
     ]
    }
   ],
   "source": [
    "n = int(input())"
   ]
  },
  {
   "cell_type": "code",
   "execution_count": 3,
   "id": "22dfeded",
   "metadata": {},
   "outputs": [],
   "source": [
    "students = [] # 학생 정보를 담을 리스트"
   ]
  },
  {
   "cell_type": "code",
   "execution_count": 4,
   "id": "64a22560",
   "metadata": {},
   "outputs": [
    {
     "ename": "KeyboardInterrupt",
     "evalue": "Interrupted by user",
     "output_type": "error",
     "traceback": [
      "\u001b[1;31m---------------------------------------------------------------------------\u001b[0m",
      "\u001b[1;31mKeyboardInterrupt\u001b[0m                         Traceback (most recent call last)",
      "Cell \u001b[1;32mIn[4], line 3\u001b[0m\n\u001b[0;32m      1\u001b[0m \u001b[38;5;66;03m# 모든 학생 정보를 입력받기\u001b[39;00m\n\u001b[0;32m      2\u001b[0m \u001b[38;5;28;01mfor\u001b[39;00m _ \u001b[38;5;129;01min\u001b[39;00m \u001b[38;5;28mrange\u001b[39m(n):\n\u001b[1;32m----> 3\u001b[0m     students\u001b[38;5;241m.\u001b[39mappend(\u001b[38;5;28minput\u001b[39m()\u001b[38;5;241m.\u001b[39msplit())\n",
      "File \u001b[1;32m~\\anaconda3\\Lib\\site-packages\\ipykernel\\kernelbase.py:1175\u001b[0m, in \u001b[0;36mKernel.raw_input\u001b[1;34m(self, prompt)\u001b[0m\n\u001b[0;32m   1171\u001b[0m \u001b[38;5;28;01mif\u001b[39;00m \u001b[38;5;129;01mnot\u001b[39;00m \u001b[38;5;28mself\u001b[39m\u001b[38;5;241m.\u001b[39m_allow_stdin:\n\u001b[0;32m   1172\u001b[0m     \u001b[38;5;28;01mraise\u001b[39;00m StdinNotImplementedError(\n\u001b[0;32m   1173\u001b[0m         \u001b[38;5;124m\"\u001b[39m\u001b[38;5;124mraw_input was called, but this frontend does not support input requests.\u001b[39m\u001b[38;5;124m\"\u001b[39m\n\u001b[0;32m   1174\u001b[0m     )\n\u001b[1;32m-> 1175\u001b[0m \u001b[38;5;28;01mreturn\u001b[39;00m \u001b[38;5;28mself\u001b[39m\u001b[38;5;241m.\u001b[39m_input_request(\n\u001b[0;32m   1176\u001b[0m     \u001b[38;5;28mstr\u001b[39m(prompt),\n\u001b[0;32m   1177\u001b[0m     \u001b[38;5;28mself\u001b[39m\u001b[38;5;241m.\u001b[39m_parent_ident[\u001b[38;5;124m\"\u001b[39m\u001b[38;5;124mshell\u001b[39m\u001b[38;5;124m\"\u001b[39m],\n\u001b[0;32m   1178\u001b[0m     \u001b[38;5;28mself\u001b[39m\u001b[38;5;241m.\u001b[39mget_parent(\u001b[38;5;124m\"\u001b[39m\u001b[38;5;124mshell\u001b[39m\u001b[38;5;124m\"\u001b[39m),\n\u001b[0;32m   1179\u001b[0m     password\u001b[38;5;241m=\u001b[39m\u001b[38;5;28;01mFalse\u001b[39;00m,\n\u001b[0;32m   1180\u001b[0m )\n",
      "File \u001b[1;32m~\\anaconda3\\Lib\\site-packages\\ipykernel\\kernelbase.py:1217\u001b[0m, in \u001b[0;36mKernel._input_request\u001b[1;34m(self, prompt, ident, parent, password)\u001b[0m\n\u001b[0;32m   1214\u001b[0m             \u001b[38;5;28;01mbreak\u001b[39;00m\n\u001b[0;32m   1215\u001b[0m \u001b[38;5;28;01mexcept\u001b[39;00m \u001b[38;5;167;01mKeyboardInterrupt\u001b[39;00m:\n\u001b[0;32m   1216\u001b[0m     \u001b[38;5;66;03m# re-raise KeyboardInterrupt, to truncate traceback\u001b[39;00m\n\u001b[1;32m-> 1217\u001b[0m     \u001b[38;5;28;01mraise\u001b[39;00m \u001b[38;5;167;01mKeyboardInterrupt\u001b[39;00m(\u001b[38;5;124m\"\u001b[39m\u001b[38;5;124mInterrupted by user\u001b[39m\u001b[38;5;124m\"\u001b[39m) \u001b[38;5;28;01mfrom\u001b[39;00m \u001b[38;5;28;01mNone\u001b[39;00m\n\u001b[0;32m   1218\u001b[0m \u001b[38;5;28;01mexcept\u001b[39;00m \u001b[38;5;167;01mException\u001b[39;00m:\n\u001b[0;32m   1219\u001b[0m     \u001b[38;5;28mself\u001b[39m\u001b[38;5;241m.\u001b[39mlog\u001b[38;5;241m.\u001b[39mwarning(\u001b[38;5;124m\"\u001b[39m\u001b[38;5;124mInvalid Message:\u001b[39m\u001b[38;5;124m\"\u001b[39m, exc_info\u001b[38;5;241m=\u001b[39m\u001b[38;5;28;01mTrue\u001b[39;00m)\n",
      "\u001b[1;31mKeyboardInterrupt\u001b[0m: Interrupted by user"
     ]
    }
   ],
   "source": [
    "# 모든 학생 정보를 입력받기\n",
    "for _ in range(n):\n",
    "    students.append(input().split())"
   ]
  },
  {
   "cell_type": "code",
   "execution_count": null,
   "id": "f589ceb8",
   "metadata": {},
   "outputs": [],
   "source": [
    "students.sort(key=lambda x: (-int(x[1]), int(x[2]), -int(x[3]), x[0]))"
   ]
  },
  {
   "cell_type": "code",
   "execution_count": null,
   "id": "ba36015d",
   "metadata": {},
   "outputs": [],
   "source": [
    "# 정렬된 학생 정보에서 이름만 출력\n",
    "for student in students:\n",
    "    print(student[0])"
   ]
  },
  {
   "cell_type": "markdown",
   "id": "edb1f543",
   "metadata": {},
   "source": [
    "# 24 안테나"
   ]
  },
  {
   "cell_type": "code",
   "execution_count": null,
   "id": "ab5ec3aa",
   "metadata": {},
   "outputs": [],
   "source": [
    "n = int(input())\n",
    "data = list(map(int, input().split()))\n",
    "data.sort()\n",
    "\n",
    "# 중간값(median)을 출력\n",
    "print(data[(n - 1) // 2])"
   ]
  },
  {
   "cell_type": "markdown",
   "id": "113562b1",
   "metadata": {},
   "source": [
    "# 25 실패율"
   ]
  },
  {
   "cell_type": "code",
   "execution_count": null,
   "id": "f9a1f704",
   "metadata": {},
   "outputs": [],
   "source": [
    "def solution(N, stages):\n",
    "    answer = []\n",
    "    length = len(stages)\n",
    "    \n",
    "    # 스테이지 번호를 1부터 N까지 증가시키며\n",
    "    for i in range(1, N + 1):\n",
    "        # 해당 스테이지에 머물러 있는 사람의 수 계산\n",
    "        count = stages.count(i)\n",
    "        \n",
    "        # 실패율 계산\n",
    "        if length == 0:\n",
    "            fail = 0\n",
    "        else:\n",
    "            fail = count / length\n",
    "            \n",
    "        # 리스트에 (스테이지 번호, 실패율) 원소 삽입\n",
    "        answer.append((i, fail))\n",
    "        length -= count\n",
    "        \n",
    "    # 실패율을 기준으로 각 스테이지를 내림차순으로 정렬\n",
    "    answer = sorted(answer, key = lambda t: t[1], reverse = True)\n",
    "    \n",
    "    # 정렬된 스테이지 번호 출력\n",
    "    answer =[i[0] for i in answer]\n",
    "    return answer"
   ]
  },
  {
   "cell_type": "markdown",
   "id": "568a1ccc",
   "metadata": {},
   "source": [
    "# 26 카드 정렬하기"
   ]
  },
  {
   "cell_type": "code",
   "execution_count": 6,
   "id": "0bd2212c",
   "metadata": {},
   "outputs": [],
   "source": [
    "import heapq"
   ]
  },
  {
   "cell_type": "code",
   "execution_count": null,
   "id": "156cb237",
   "metadata": {},
   "outputs": [],
   "source": [
    "n = int(input())\n",
    "# 힙(Heap)에 초기 카드 묶음을 모두 삽입\n",
    "heap = []\n",
    "for i in range(n):\n",
    "    data = int(input())\n",
    "    heapq.heappush(heap, data)\n",
    "    \n",
    "result = 0\n",
    "\n",
    "# 힙(Heap)에 원소가 1개 남을 때까지\n",
    "while len(heap) != 1:\n",
    "    # 가장 작은 2개의 카드 묶음 꺼내기\n",
    "    one = heapq.heappop(heap)\n",
    "    two = heapq.heappop(heap)\n",
    "    # 카드 묶음을 합쳐서 다시 삽입\n",
    "    sum_value = one + two\n",
    "    result += sum_value\n",
    "    heapq.heappush(heap, sum_value)\n",
    "print(result)"
   ]
  },
  {
   "cell_type": "markdown",
   "id": "0eda71fc",
   "metadata": {},
   "source": [
    "# 27 정렬된 배열에서 특정 수의 개수 구하기"
   ]
  },
  {
   "cell_type": "code",
   "execution_count": 7,
   "id": "51debe4a",
   "metadata": {},
   "outputs": [],
   "source": [
    "# 정렬된 수열에서 값이 x인 원소의 개수를 세는 메서드\n",
    "def count_by_value(array, x):\n",
    "    # 데이터의 개수\n",
    "    n = len(array)\n",
    "    \n",
    "    # x가 처음 등장한 인덱스 계산\n",
    "    a = first(array, x, 0, n-1)\n",
    "    \n",
    "    # 수열에 x가 존재하지 않는 경우\n",
    "    if a == None:\n",
    "        return 0 # 값이 x인 원소의 개수는 0개이므로 0 반환\n",
    "    \n",
    "    # x가 마지막으로 등장한 인덱스 계산\n",
    "    b = last(array, x, 0, n-1)\n",
    "    \n",
    "    # 개수를 반환 \n",
    "    return b - a + 1"
   ]
  },
  {
   "cell_type": "code",
   "execution_count": null,
   "id": "c322588f",
   "metadata": {},
   "outputs": [],
   "source": [
    "# 처음 위치를 찾는 이진 탐색 메서드\n",
    "def first(array, target, start, end):\n",
    "    if start > end:\n",
    "        return None\n",
    "    mid = (start + end) // 2 \n",
    "    # 해당 값을 가지는 원소 중에서 가장 왼쪽에 있는 경우에만 인덱스 반환\n",
    "    if (mid == 0 or target > array[mid - 1]) and array[mid] == target:\n",
    "        return mid\n",
    "    # 중간점의 값보다 찾고자 하는 값이 작거나 같은 경우 왼쪽 확인\n",
    "    elif array[mid] >= target:\n",
    "        return first(array, target, start, mid - 1)\n",
    "    # 중간점의 값보다 찾고자 하는 값이 큰 경우 오른쪽 확인\n",
    "    else:\n",
    "        return first(array, target, mid + 1, end)"
   ]
  },
  {
   "cell_type": "code",
   "execution_count": 8,
   "id": "01e85614",
   "metadata": {},
   "outputs": [],
   "source": [
    "# 마지막 위치를 찾는 이진 탐색 메서드\n",
    "def last(array, target, start, end):\n",
    "    if start > end:\n",
    "        return None\n",
    "    mid = (start + end) // 2\n",
    "    # 해당 값을 가지는 우너소 중에서 가장 오른쪽에 있는 경우에만 인덱스 반환\n",
    "    if (mid == n - 1 or target < array[mid + 1]) and array[mid] == target:\n",
    "        return mid\n",
    "    # 중간점의 값보다 찾고자 하는 값이 작은 경우 왼쪽 확인\n",
    "    elif array[mid] > target:\n",
    "        return last(array, target, start, mid - 1)\n",
    "    # 중간점의 값보다 찾고자 하는 값이 크거나 같은 경우 오른쪽 확인\n",
    "    else:\n",
    "        return last(array, target, mid + 1, end)    "
   ]
  },
  {
   "cell_type": "code",
   "execution_count": null,
   "id": "fdb150ea",
   "metadata": {},
   "outputs": [],
   "source": [
    "n, x = map(int, input().split()) # 데이터의 개수 N, 찾고자 하는 값 x를 입력받기\n",
    "array = list(map(int, input().split())) # 전체 데이터 입력받기"
   ]
  },
  {
   "cell_type": "code",
   "execution_count": null,
   "id": "55dcdec5",
   "metadata": {},
   "outputs": [],
   "source": [
    "# 값이 x인 데이터의 개수 계산\n",
    "count = count_by_value(array, x)"
   ]
  },
  {
   "cell_type": "code",
   "execution_count": null,
   "id": "4a24e37f",
   "metadata": {},
   "outputs": [],
   "source": [
    "# 값이 x인 원소가 존재하지 않는다면\n",
    "if count == 0:\n",
    "    print(-1)"
   ]
  },
  {
   "cell_type": "code",
   "execution_count": null,
   "id": "96a333e2",
   "metadata": {},
   "outputs": [],
   "source": [
    "# 값이 x인 원소가 존재한다면\n",
    "else:\n",
    "    print(count)"
   ]
  },
  {
   "cell_type": "markdown",
   "id": "9697d916",
   "metadata": {},
   "source": [
    "- 다른 풀이"
   ]
  },
  {
   "cell_type": "code",
   "execution_count": null,
   "id": "cea3078a",
   "metadata": {},
   "outputs": [],
   "source": [
    "from bisect import bisect_left, bisect_right"
   ]
  },
  {
   "cell_type": "markdown",
   "id": "eb00862f",
   "metadata": {},
   "source": [
    "# 28 고정점 찾기"
   ]
  },
  {
   "cell_type": "code",
   "execution_count": null,
   "id": "c0986d4f",
   "metadata": {},
   "outputs": [],
   "source": []
  },
  {
   "cell_type": "code",
   "execution_count": null,
   "id": "b4558bb3",
   "metadata": {},
   "outputs": [],
   "source": []
  },
  {
   "cell_type": "markdown",
   "id": "eadb4512",
   "metadata": {},
   "source": [
    "# 29 공유기 설치"
   ]
  },
  {
   "cell_type": "code",
   "execution_count": null,
   "id": "6cc3bc8f",
   "metadata": {},
   "outputs": [],
   "source": []
  },
  {
   "cell_type": "markdown",
   "id": "65ab956d",
   "metadata": {},
   "source": [
    "# 30 가사 검색"
   ]
  },
  {
   "cell_type": "code",
   "execution_count": 2,
   "id": "18fec53b",
   "metadata": {},
   "outputs": [],
   "source": [
    "from bisect import bisect_left, bisect_right"
   ]
  },
  {
   "cell_type": "code",
   "execution_count": 3,
   "id": "008b555d",
   "metadata": {},
   "outputs": [],
   "source": [
    "# 값이 [left_value, right_value]인 데이터의 개수를 반환하는 함수\n",
    "def count_by_range(a, left_value, right_value):\n",
    "    right_index = bisect_right(a, right_value)\n",
    "    left_index = bisect_left(a, left_value)\n",
    "    \n",
    "    return right_index - left_index"
   ]
  },
  {
   "cell_type": "code",
   "execution_count": 4,
   "id": "0f0ccfbe",
   "metadata": {},
   "outputs": [],
   "source": [
    "# 모든 단어를 길이마다 나누어서 저장하기 위한 리스트\n",
    "array = [[] for _ in range(10001)]\n",
    "# 모든 단어를 길이마다 나누어서 뒤집어 저장하기 위한 리스트\n",
    "reversed_array = [[] for _ in range(10001)]"
   ]
  },
  {
   "cell_type": "code",
   "execution_count": 5,
   "id": "83060fd5",
   "metadata": {},
   "outputs": [],
   "source": [
    "def solution(words, queries):\n",
    "    answer = []\n",
    "    for word in words: # 모든 단어를 접미사 와일드카드 배열, 접두사 와일드카드 배열에 각각 삽입\n",
    "        array[len(word)].append(word) # 단어를 삽입\n",
    "        reversed_array[len(word)].append(word[::-1]) # 단어를 뒤집어서 삽입\n",
    "        \n",
    "    for i in range(10001): # 이진 탐색을 수행하기 위해 각 단어 리스트 정렬 수행\n",
    "        array[i].sort()\n",
    "        reversed_array[i].sort()\n",
    "        \n",
    "    for q in queries: # 쿼리를 하나씩 확인하며 처리\n",
    "        if q[0] != '?': # 접미사에 와일드카드가 붙은 경우\n",
    "            res = count_by_range(array[len(q)], q.replace('?', 'a'), q.replace('?', 'z'))\n",
    "        else: # 접두사에 와일드카드가 붙은 경우\n",
    "            res = count_by_range(reversed_array[len(q)], q[::-1].replace('?', 'a'), q[::-1].replace('?', 'z'))\n",
    "        # 검색된 단어의 개수를 저장\n",
    "        answer.append(res)\n",
    "    return answer"
   ]
  },
  {
   "cell_type": "markdown",
   "id": "bf4ce5f5",
   "metadata": {},
   "source": [
    "# 31 금광"
   ]
  },
  {
   "cell_type": "code",
   "execution_count": null,
   "id": "4bb50b4f",
   "metadata": {},
   "outputs": [],
   "source": [
    "# 테스트 케이스(Test Case) 입력\n",
    "for tc in range(int(input())):\n",
    "    # 금광 정보 입력\n",
    "    n, m = map(int, input().split())\n",
    "    array = list(map(int, input().split()))\n",
    "    \n",
    "    # 다이나믹 프로그래밍을 위한 2차원 DP 테이블 초기화\n",
    "    dp = []\n",
    "    index = 0\n",
    "    for i in range(n):\n",
    "        dp.append(array[index: index + m])\n",
    "        index += m\n",
    "        \n",
    "    # 다이나믹 프로그래밍 진행\n",
    "    for j in range(1, m):\n",
    "        for i in range(n):\n",
    "            # 왼쪽 위에서 오는 경우\n",
    "            if i == 0:\n",
    "                left_up = 0\n",
    "            else:\n",
    "                left_up = dp[i - 1][j - 1]\n",
    "            # 왼쪽 아래에서 오는 경우\n",
    "            if i == n - 1:\n",
    "                left_down = 0\n",
    "            else:\n",
    "                left_down = dp[i + 1][j - 1]\n",
    "            # 왼쪽에서 오는 경우\n",
    "            left = dp[i][j - 1]\n",
    "            dp[i][j] = dp[i][j] + max(left_up, left_down, left)"
   ]
  },
  {
   "cell_type": "code",
   "execution_count": null,
   "id": "174b29af",
   "metadata": {},
   "outputs": [],
   "source": [
    "result = 0\n",
    "for i in range(n):\n",
    "    result = max(result, dp[i][m - 1])\n",
    "print(result)"
   ]
  }
 ],
 "metadata": {
  "kernelspec": {
   "display_name": "Python 3 (ipykernel)",
   "language": "python",
   "name": "python3"
  },
  "language_info": {
   "codemirror_mode": {
    "name": "ipython",
    "version": 3
   },
   "file_extension": ".py",
   "mimetype": "text/x-python",
   "name": "python",
   "nbconvert_exporter": "python",
   "pygments_lexer": "ipython3",
   "version": "3.11.3"
  }
 },
 "nbformat": 4,
 "nbformat_minor": 5
}
